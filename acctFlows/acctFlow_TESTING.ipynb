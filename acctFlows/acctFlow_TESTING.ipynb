{
 "cells": [
  {
   "cell_type": "markdown",
   "metadata": {},
   "source": [
    "## Test the various functions of the acct flow process\n",
    "### codebase: account_flows.ipynb & acctFlow_functions.py"
   ]
  },
  {
   "cell_type": "code",
   "execution_count": 2,
   "metadata": {},
   "outputs": [],
   "source": [
    "import os\n",
    "import sys\n",
    "\n",
    "sys.path.append('/home/mofongo/Documents/ghfc/membershipReportsCIVI/greeneHill/acctFlows')\n",
    "\n",
    "import acctFlow_functions"
   ]
  },
  {
   "cell_type": "code",
   "execution_count": 3,
   "metadata": {},
   "outputs": [],
   "source": [
    "import pandas as pd\n",
    "import numpy as np\n",
    "import unittest\n",
    "import re\n",
    "import datetime\n",
    "#edit to the path of the `container_credentials` module\n",
    "sys.path.append(('/home/mofongo/Documents/ghfc/membershipReportsCIVI/greeneHill'))\n",
    "from container_credentials import return_credentials\n",
    "from sqlalchemy import create_engine, Table, text, MetaData # a CORE approach\n",
    "from sqlalchemy.sql import select\n",
    "from sqlalchemy.sql import func"
   ]
  },
  {
   "cell_type": "code",
   "execution_count": 4,
   "metadata": {},
   "outputs": [],
   "source": [
    "twentythree = [acctFlow_functions.last_day_of_month(datetime.date(2023, month, 7)) for month in range(1, 13)]\n",
    "twentyfour = [acctFlow_functions.last_day_of_month(datetime.date(2024, month, 7)) for month in range(1, 13)] \n",
    "twentyfive = [acctFlow_functions.last_day_of_month(datetime.date(2025, month, 7)) for month in range(1, 13)] \n",
    "\n",
    "month_end_df = pd.DataFrame({'twentyfour':twentyfour,'year':2024})\n",
    "\n",
    "#make a replacement column for null values (expect it will only occur above the January record)\n",
    "month_end_df['prev_yr']=month_end_df.apply(lambda x: str(x['year']-1)+'-12-31', axis = 1)\n",
    "\n",
    "month_end_shifted = month_end_df.shift(periods=[0,1],axis = 0)\n",
    "\n",
    "#BE SURE TO CHANGE THE FIELD NAMES TO REFLECT THE MEASURE YEAR\n",
    "month_end_shifted['twentyfour_1'] = month_end_shifted['twentyfour_1'].fillna(month_end_shifted['prev_yr_0'])\n",
    "month_end_shifted = month_end_shifted.iloc[:,:].astype(str)\n",
    "\n",
    "# a list of tuples, ea of which provides the dates combo for the query\n",
    "#BE SURE TO CHANGE THE FIELD NAMES TO REFLECT THE MEASURE YEAR\n",
    "calendar_range_iter = [tuple(i.values()) for i in month_end_shifted[['twentyfour_1','twentyfour_0']].to_dict('records')]"
   ]
  },
  {
   "cell_type": "code",
   "execution_count": 9,
   "metadata": {},
   "outputs": [
    {
     "name": "stdout",
     "output_type": "stream",
     "text": [
      "Connection to the 172.17.0.2 for user root created successfully.\n"
     ]
    }
   ],
   "source": [
    "# DEFINE THE DATABASE CREDENTIALS\n",
    "\n",
    "cred_dict = return_credentials()\n",
    "\n",
    "user = cred_dict['user'] \n",
    "password = cred_dict['pass'] \n",
    "host = cred_dict['host'] \n",
    "port = cred_dict['port'] \n",
    "database = cred_dict['database']\n",
    "\n",
    "\n",
    "def get_connection():\n",
    "\treturn create_engine(\n",
    "\t\turl=\"mysql+pymysql://{0}:{1}@{2}:{3}/{4}\".format(\n",
    "\t\t\tuser, password, host, port, database\n",
    "\t\t)\n",
    "\t)\n",
    "\n",
    "if __name__ == '__main__':\n",
    "\n",
    "\ttry:\n",
    "\t\n",
    "\t\t# GET THE CONNECTION OBJECT (ENGINE) FOR THE DATABASE\n",
    "\t\t# working w/engines: https://docs.sqlalchemy.org/en/20/core/engines_connections.html\n",
    "\t\tengine = get_connection() #engine should be created just once, and can manage several DBAPI connections\n",
    "\t\tprint(\n",
    "\t\t\tf\"Connection to the {host} for user {user} created successfully.\")\n",
    "\texcept Exception as ex:\n",
    "\t\tprint(\"Connection could not be made due to the following error: \\n\", ex)"
   ]
  },
  {
   "cell_type": "code",
   "execution_count": 11,
   "metadata": {},
   "outputs": [],
   "source": [
    "#this query simply returns two snapshots: period 1 AND period 2 activity types, along with freq; ex. curr_activity_calc = 'general leave' prev_activity_calc = 'initial enrollment'\n",
    "def fill_query(tup_dates:tuple):\n",
    "    return \"WITH curr AS (select mt_email curr_mt_email, mem_type curr_mem_type, activity_calc curr_activity_calc, activity curr_activity from stack_job2 WHERE date('\"+tup_dates[1]+\"') between start_dt AND lead_date ORDER BY mt_email), prev AS (select mt_email prev_mt_email, mem_type prev_mem_type, activity_calc prev_activity_calc, activity prev_activity from stack_job2 WHERE date('\"+tup_dates[0]+\"') between start_dt AND lead_date ORDER BY mt_email), final_tbl AS (SELECT date('\"+tup_dates[1]+\"') current_month, curr_activity_calc, prev_activity_calc, count(distinct curr_mt_email) unq_email FROM curr LEFT JOIN prev ON curr_mt_email = prev_mt_email GROUP BY 1,2,3) SELECT * FROM final_tbl\""
   ]
  },
  {
   "cell_type": "code",
   "execution_count": 15,
   "metadata": {},
   "outputs": [],
   "source": [
    "# a dictionary of the SQL QUERY STRING (the PREPARED STATEMENT), with key = representative month\n",
    "#dict: key = latest date of the month tuple; value = sql query text\n",
    "query_cont = {}\n",
    "for min_tup in calendar_range_iter:\n",
    "    query_cont[min_tup[1]]=fill_query(min_tup)"
   ]
  },
  {
   "cell_type": "code",
   "execution_count": 18,
   "metadata": {},
   "outputs": [],
   "source": [
    "#for the TEST VERSION: extract ONE result set, and not the entire calendar year as done in the prod version\n",
    "#build a dictionary of the result sets, setting the key to the month (starting w/Jan)\n",
    "#value = a dataframe of a freq table of the combos of curr & prev activity_calc field values; fields 'current_month', 'curr_activity_calc', 'prev_activity_calc', 'unq_email'\n",
    "with engine.connect() as conn:\n",
    "    #for k,query in query_cont.items():\n",
    "    end_of_june = pd.read_sql(query_cont['2024-06-30'],conn)\n",
    "    end_of_may = pd.read_sql(query_cont['2024-05-31'],conn)"
   ]
  },
  {
   "cell_type": "code",
   "execution_count": 20,
   "metadata": {},
   "outputs": [
    {
     "data": {
      "text/html": [
       "<div>\n",
       "<style scoped>\n",
       "    .dataframe tbody tr th:only-of-type {\n",
       "        vertical-align: middle;\n",
       "    }\n",
       "\n",
       "    .dataframe tbody tr th {\n",
       "        vertical-align: top;\n",
       "    }\n",
       "\n",
       "    .dataframe thead th {\n",
       "        text-align: right;\n",
       "    }\n",
       "</style>\n",
       "<table border=\"1\" class=\"dataframe\">\n",
       "  <thead>\n",
       "    <tr style=\"text-align: right;\">\n",
       "      <th></th>\n",
       "      <th>current_month</th>\n",
       "      <th>curr_activity_calc</th>\n",
       "      <th>prev_activity_calc</th>\n",
       "      <th>unq_email</th>\n",
       "    </tr>\n",
       "  </thead>\n",
       "  <tbody>\n",
       "    <tr>\n",
       "      <th>0</th>\n",
       "      <td>2024-05-31</td>\n",
       "      <td>cancelled</td>\n",
       "      <td>None</td>\n",
       "      <td>1</td>\n",
       "    </tr>\n",
       "    <tr>\n",
       "      <th>1</th>\n",
       "      <td>2024-05-31</td>\n",
       "      <td>cancelled</td>\n",
       "      <td>cancelled</td>\n",
       "      <td>289</td>\n",
       "    </tr>\n",
       "    <tr>\n",
       "      <th>2</th>\n",
       "      <td>2024-05-31</td>\n",
       "      <td>cancelled</td>\n",
       "      <td>initial enrollment</td>\n",
       "      <td>2</td>\n",
       "    </tr>\n",
       "    <tr>\n",
       "      <th>3</th>\n",
       "      <td>2024-05-31</td>\n",
       "      <td>cancelled</td>\n",
       "      <td>technical activation</td>\n",
       "      <td>1</td>\n",
       "    </tr>\n",
       "    <tr>\n",
       "      <th>4</th>\n",
       "      <td>2024-05-31</td>\n",
       "      <td>care giving leave</td>\n",
       "      <td>care giving leave</td>\n",
       "      <td>1</td>\n",
       "    </tr>\n",
       "  </tbody>\n",
       "</table>\n",
       "</div>"
      ],
      "text/plain": [
       "  current_month curr_activity_calc    prev_activity_calc  unq_email\n",
       "0    2024-05-31          cancelled                  None          1\n",
       "1    2024-05-31          cancelled             cancelled        289\n",
       "2    2024-05-31          cancelled    initial enrollment          2\n",
       "3    2024-05-31          cancelled  technical activation          1\n",
       "4    2024-05-31  care giving leave     care giving leave          1"
      ]
     },
     "execution_count": 20,
     "metadata": {},
     "output_type": "execute_result"
    }
   ],
   "source": [
    "#ONE SUCH RRESULTSET\n",
    "end_of_may.head()"
   ]
  },
  {
   "cell_type": "code",
   "execution_count": 22,
   "metadata": {},
   "outputs": [
    {
     "data": {
      "text/plain": [
       "combo\n",
       "(cancelled, None)                                      1\n",
       "(cancelled, cancelled)                               289\n",
       "(cancelled, initial enrollment)                        2\n",
       "(cancelled, technical activation)                      1\n",
       "(care giving leave, care giving leave)                 1\n",
       "(deactivate, deactivate)                            2007\n",
       "(deactivated, deactivated)                           156\n",
       "(deactivated, initial enrollment)                      5\n",
       "(general leave, general leave)                       260\n",
       "(general leave, initial enrollment)                    3\n",
       "(general leave, technical reactivation)                1\n",
       "(general leave, winback)                               3\n",
       "(initial enrollment, None)                            11\n",
       "(initial enrollment, initial enrollment)             245\n",
       "(initial enrollment, winback)                          1\n",
       "(medical leave, medical leave)                         9\n",
       "(parental leave, parental leave)                       2\n",
       "(suspended, suspended)                                 1\n",
       "(suspended, winback)                                   1\n",
       "(technical activation, technical activation)           6\n",
       "(technical reactivation, technical reactivation)       5\n",
       "(technical reactivation, winback)                      1\n",
       "(winback, None)                                        1\n",
       "(winback, deactivated)                                 1\n",
       "(winback, general leave)                               1\n",
       "(winback, initial enrollment)                          1\n",
       "(winback, winback)                                    37\n",
       "dtype: int64"
      ]
     },
     "execution_count": 22,
     "metadata": {},
     "output_type": "execute_result"
    }
   ],
   "source": [
    "acctFlow_functions.package_scores_vector(end_of_may)"
   ]
  },
  {
   "cell_type": "code",
   "execution_count": null,
   "metadata": {},
   "outputs": [],
   "source": [
    "#building the Test Class\n",
    "'''\n",
    "1) ensure that package_scores_vector function has length equal to the length of the month's result set from the db\n",
    "'''"
   ]
  },
  {
   "cell_type": "code",
   "execution_count": 24,
   "metadata": {},
   "outputs": [],
   "source": [
    "#best practice is to test one function at a time\n",
    "class TestPackageScoresVector(unittest.TestCase):\n",
    "    def setUp(self):\n",
    "        \n",
    "    def test_firstTest(self):\n",
    "        #test something\n",
    "        df_shape = end_of_may.shape\n",
    "        vec_shape = acctFlow_functions.package_scores_vector(end_of_may).shape\n",
    "        self.assertEqual(df_shape[0],vec_shape[0])"
   ]
  },
  {
   "cell_type": "code",
   "execution_count": 25,
   "metadata": {},
   "outputs": [
    {
     "name": "stderr",
     "output_type": "stream",
     "text": [
      "test_firstTest (__main__.TestPackageScoresVector.test_firstTest) ... ok\n",
      "\n",
      "----------------------------------------------------------------------\n",
      "Ran 1 test in 0.004s\n",
      "\n",
      "OK\n"
     ]
    }
   ],
   "source": [
    "if __name__ == '__main__':\n",
    "    unittest.main(argv=[''], verbosity=2, exit=False)"
   ]
  },
  {
   "cell_type": "markdown",
   "metadata": {},
   "source": [
    "## Testing import_treat_cat_df\n",
    "Ensure that matching between this categorical DF is effective against the scores series vector, esp in cases of NULL"
   ]
  },
  {
   "cell_type": "code",
   "execution_count": 5,
   "metadata": {},
   "outputs": [
    {
     "data": {
      "text/plain": [
       "tuple_index\n",
       "(cancelled, cancelled)          0.0\n",
       "(cancelled, None)               0.0\n",
       "(deactivate, deactivate)        0.0\n",
       "(deactivated, deactivated)      0.0\n",
       "(suspended, suspended)          0.0\n",
       "(cancelled, deactivated)        0.0\n",
       "(deactivated, medical leave)    0.0\n",
       "(cancelled, medical leave)      0.0\n",
       "(deactivated, suspended)        0.0\n",
       "(deactivated, None)             0.0\n",
       "dtype: float64"
      ]
     },
     "execution_count": 5,
     "metadata": {},
     "output_type": "execute_result"
    }
   ],
   "source": [
    "cat_df = acctFlow_functions.import_treat_cat_df((\"statusCombinationMatrix_acctFlows.ods\"))\n",
    "test_df = cat_df.apply(sum,axis=1)\n",
    "test_df[test_df==0]"
   ]
  },
  {
   "cell_type": "markdown",
   "metadata": {},
   "source": [
    "Ensure that there are no duplicates in the matrix"
   ]
  },
  {
   "cell_type": "code",
   "execution_count": 8,
   "metadata": {},
   "outputs": [
    {
     "name": "stdout",
     "output_type": "stream",
     "text": [
      "[]\n"
     ]
    }
   ],
   "source": [
    "from collections import Counter\n",
    "\n",
    "# Count occurrences of each tuple\n",
    "counts = Counter(list(cat_df.index))\n",
    "\n",
    "# Extract duplicates (those with a count > 1)\n",
    "duplicates = [item for item, count in counts.items() if count > 1]\n",
    "\n",
    "print(duplicates)"
   ]
  },
  {
   "cell_type": "markdown",
   "metadata": {},
   "source": [
    "## Testing sync_objects"
   ]
  },
  {
   "cell_type": "code",
   "execution_count": 151,
   "metadata": {},
   "outputs": [],
   "source": [
    "cat_df = acctFlow_functions.import_treat_cat_df((\"statusCombinationMatrix_acctFlows.ods\"))\n",
    "may = acctFlow_functions.package_scores_vector(end_of_may)\n",
    "june = acctFlow_functions.package_scores_vector(end_of_june)\n",
    "scores_series_vector_prod, cats_df2, outer = acctFlow_functions.sync_objects(june, cat_df)"
   ]
  },
  {
   "cell_type": "code",
   "execution_count": 152,
   "metadata": {},
   "outputs": [
    {
     "name": "stdout",
     "output_type": "stream",
     "text": [
      "the length of scores_series_vector_prod is 25\n",
      "the length of june is 25\n",
      "The 'outer' variable is []\n"
     ]
    }
   ],
   "source": [
    "print(f\"the length of scores_series_vector_prod is {len(scores_series_vector_prod)}\")\n",
    "print(f'the length of june is {len(june)}')\n",
    "print(f\"The 'outer' variable is {outer}\")"
   ]
  },
  {
   "cell_type": "code",
   "execution_count": 108,
   "metadata": {},
   "outputs": [
    {
     "data": {
      "text/plain": [
       "('cancelled', 'initial enrollment')"
      ]
     },
     "execution_count": 108,
     "metadata": {},
     "output_type": "execute_result"
    }
   ],
   "source": [
    "#list(may.index)[list(may.index) not in list(scores_series_vector_prod.index)]\n",
    "list(june.index)[list(june.index) not in list(scores_series_vector_prod.index)]"
   ]
  },
  {
   "cell_type": "code",
   "execution_count": 139,
   "metadata": {},
   "outputs": [
    {
     "data": {
      "text/plain": [
       "[('cancelled', 'winback'),\n",
       " ('deactivate', 'deactivate'),\n",
       " ('initial enrollment', 'initial enrollment'),\n",
       " ('initial enrollment', 'winback'),\n",
       " ('medical leave', 'initial enrollment'),\n",
       " ('suspended', 'initial enrollment'),\n",
       " ('technical reactivation', 'suspended'),\n",
       " ('technical reactivation', 'technical reactivation'),\n",
       " ('technical reactivation', 'winback'),\n",
       " ('winback', 'initial enrollment'),\n",
       " ('winback', 'winback')]"
      ]
     },
     "execution_count": 139,
     "metadata": {},
     "output_type": "execute_result"
    }
   ],
   "source": [
    "from itertools import compress\n",
    "\n",
    "bool_list = [item not in list(june.index) for item in list(cat_df.index)]\n",
    "list(compress(list(june.index), bool_list))\n",
    "\n",
    "#print(sum(bool_list))"
   ]
  },
  {
   "cell_type": "code",
   "execution_count": 131,
   "metadata": {},
   "outputs": [
    {
     "data": {
      "text/plain": [
       "27"
      ]
     },
     "execution_count": 131,
     "metadata": {},
     "output_type": "execute_result"
    }
   ],
   "source": [
    "len(scores_series_vector_prod.index)"
   ]
  },
  {
   "cell_type": "code",
   "execution_count": 132,
   "metadata": {},
   "outputs": [
    {
     "data": {
      "text/plain": [
       "True"
      ]
     },
     "execution_count": 132,
     "metadata": {},
     "output_type": "execute_result"
    }
   ],
   "source": [
    "('winback', 'suspended') in list(cat_df.index)"
   ]
  },
  {
   "cell_type": "code",
   "execution_count": 106,
   "metadata": {},
   "outputs": [
    {
     "name": "stdout",
     "output_type": "stream",
     "text": [
      "25\n",
      "27\n"
     ]
    }
   ],
   "source": [
    "#these lengths NEED TO EQUAL\n",
    "if len(june) != len(list(set(list(scores_series_vector_prod.index)) & set(list(june.index)))):\n",
    "    print(len(june))\n",
    "    print((len(scores_series_vector_prod.index)))"
   ]
  },
  {
   "cell_type": "markdown",
   "metadata": {},
   "source": [
    "## Test apply_multiply"
   ]
  },
  {
   "cell_type": "code",
   "execution_count": 154,
   "metadata": {},
   "outputs": [],
   "source": [
    "cat_df = acctFlow_functions.import_treat_cat_df((\"statusCombinationMatrix_acctFlows.ods\"))\n",
    "may = acctFlow_functions.package_scores_vector(end_of_may)\n",
    "june = acctFlow_functions.package_scores_vector(end_of_june)"
   ]
  },
  {
   "cell_type": "code",
   "execution_count": 156,
   "metadata": {},
   "outputs": [
    {
     "data": {
      "text/plain": [
       "leave                   279.0\n",
       "active                  310.0\n",
       "winback                  41.0\n",
       "new_cancel/suspended      9.0\n",
       "trial_conversion          0.0\n",
       "new_signup               12.0\n",
       "new_leave                 7.0\n",
       "new_winback               2.0\n",
       "re-activation             0.0\n",
       "dtype: float64"
      ]
     },
     "execution_count": 156,
     "metadata": {},
     "output_type": "execute_result"
    }
   ],
   "source": [
    "#inherently this is April to May\n",
    "scores_series_vector_prod, cats_df2, outer = acctFlow_functions.sync_objects(may, cat_df)\n",
    "\n",
    "monthlies_dict=acctFlow_functions.apply_multiply(scores_series_vector_prod, cats_df2)\n",
    "\n",
    "monthlies_dict"
   ]
  },
  {
   "cell_type": "code",
   "execution_count": 158,
   "metadata": {},
   "outputs": [
    {
     "data": {
      "text/plain": [
       "leave                   287.0\n",
       "active                  308.0\n",
       "winback                  40.0\n",
       "new_cancel/suspended     10.0\n",
       "trial_conversion          0.0\n",
       "new_signup               15.0\n",
       "new_leave                 8.0\n",
       "new_winback               1.0\n",
       "re-activation             0.0\n",
       "dtype: float64"
      ]
     },
     "execution_count": 158,
     "metadata": {},
     "output_type": "execute_result"
    }
   ],
   "source": [
    "#inherently May to June\n",
    "scores_series_vector_prod, cats_df2, outer = acctFlow_functions.sync_objects(june, cat_df)\n",
    "\n",
    "monthlies_dict=acctFlow_functions.apply_multiply(scores_series_vector_prod, cats_df2)\n",
    "\n",
    "monthlies_dict"
   ]
  },
  {
   "cell_type": "code",
   "execution_count": 93,
   "metadata": {},
   "outputs": [],
   "source": [
    "class TestObjectImportTreatCatDF(unittest.TestCase):\n",
    "    #pausing this test... although useful, I discover that some rows should indeed by equal to 0\n",
    "    @unittest.skip('not necessary that the rows lengths of the two vectors be equal')\n",
    "    def test_non_zero_rows(self):\n",
    "        #test that ea row is non-zero\n",
    "        cat_df = acctFlow_functions.import_treat_cat_df((\"statusCombinationMatrix_acctFlows.ods\"))\n",
    "        cat_df.apply(sum,axis=1)\n",
    "        self.assertEqual(df_shape[0],vec_shape[0])\n",
    "        return None\n",
    "    \n",
    "    def test_proper_subsetting(self):\n",
    "        #test the membership of the index from a sample month be contained in the index for scores_series_vector_prod\n",
    "        cat_df = acctFlow_functions.import_treat_cat_df((\"statusCombinationMatrix_acctFlows.ods\"))\n",
    "        may = acctFlow_functions.package_scores_vector(end_of_may)\n",
    "        june = acctFlow_functions.package_scores_vector(end_of_june)\n",
    "        scores_series_vector_prod, cats_df2, outer = acctFlow_functions.sync_objects(may, cat_df)\n",
    "        self.assertIn(list(may.index), list(scores_series_vector_prod.index))\n",
    "        #self.assertEqual(cats_df2,cat_df)"
   ]
  },
  {
   "cell_type": "code",
   "execution_count": 94,
   "metadata": {},
   "outputs": [
    {
     "name": "stderr",
     "output_type": "stream",
     "text": [
      "test_non_zero_rows (__main__.TestObjectImportTreatCatDF.test_non_zero_rows) ... skipped 'not necessary that the rows lengths of the two vectors be equal'\n",
      "test_proper_subsetting (__main__.TestObjectImportTreatCatDF.test_proper_subsetting) ... FAIL\n",
      "test_firstTest (__main__.TestPackageScoresVector.test_firstTest) ... ok\n",
      "\n",
      "======================================================================\n",
      "FAIL: test_proper_subsetting (__main__.TestObjectImportTreatCatDF.test_proper_subsetting)\n",
      "----------------------------------------------------------------------\n",
      "Traceback (most recent call last):\n",
      "  File \"/tmp/ipykernel_38387/2478193819.py\", line 17, in test_proper_subsetting\n",
      "    self.assertIn(list(may.index), list(scores_series_vector_prod.index))\n",
      "AssertionError: [('cancelled', 'None'), ('cancelled', 'cancelled'), ('cancelled', 'initial enrollment'), ('cancelled', 'technical activation'), ('care giving leave', 'care giving leave'), ('deactivate', 'deactivate'), ('deactivated', 'deactivated'), ('deactivated', 'initial enrollment'), ('general leave', 'general leave'), ('general leave', 'initial enrollment'), ('general leave', 'technical reactivation'), ('general leave', 'winback'), ('initial enrollment', 'None'), ('initial enrollment', 'initial enrollment'), ('initial enrollment', 'winback'), ('medical leave', 'medical leave'), ('parental leave', 'parental leave'), ('suspended', 'suspended'), ('suspended', 'winback'), ('technical activation', 'technical activation'), ('technical reactivation', 'technical reactivation'), ('technical reactivation', 'winback'), ('winback', 'None'), ('winback', 'deactivated'), ('winback', 'general leave'), ('winback', 'initial enrollment'), ('winback', 'winback')] not found in [('cancelled', 'None'), ('cancelled', 'cancelled'), ('cancelled', 'initial enrollment'), ('cancelled', 'technical activation'), ('care giving leave', 'care giving leave'), ('deactivate', 'deactivate'), ('deactivated', 'deactivated'), ('deactivated', 'initial enrollment'), ('general leave', 'general leave'), ('general leave', 'initial enrollment'), ('general leave', 'technical reactivation'), ('general leave', 'winback'), ('initial enrollment', 'None'), ('initial enrollment', 'initial enrollment'), ('initial enrollment', 'winback'), ('medical leave', 'medical leave'), ('parental leave', 'parental leave'), ('suspended', 'suspended'), ('suspended', 'winback'), ('technical activation', 'technical activation'), ('technical reactivation', 'technical reactivation'), ('technical reactivation', 'winback'), ('winback', 'None'), ('winback', 'deactivated'), ('winback', 'general leave'), ('winback', 'initial enrollment'), ('winback', 'winback')]\n",
      "\n",
      "----------------------------------------------------------------------\n",
      "Ran 3 tests in 0.065s\n",
      "\n",
      "FAILED (failures=1, skipped=1)\n"
     ]
    }
   ],
   "source": [
    "if __name__ == '__main__':\n",
    "    unittest.main(argv=[''], verbosity=2, exit=False)"
   ]
  }
 ],
 "metadata": {
  "kernelspec": {
   "display_name": "py12",
   "language": "python",
   "name": "python3"
  },
  "language_info": {
   "codemirror_mode": {
    "name": "ipython",
    "version": 3
   },
   "file_extension": ".py",
   "mimetype": "text/x-python",
   "name": "python",
   "nbconvert_exporter": "python",
   "pygments_lexer": "ipython3",
   "version": "3.12.2"
  }
 },
 "nbformat": 4,
 "nbformat_minor": 2
}
