{
 "cells": [
  {
   "cell_type": "code",
   "execution_count": 16,
   "id": "bde8f3ce-3a1e-4e65-b6c6-4b1bc3240b51",
   "metadata": {},
   "outputs": [],
   "source": [
    "import os\n",
    "import pandas as pd\n",
    "import matplotlib.pyplot as plt\n",
    "import seaborn as sns\n",
    "import numpy as np\n",
    "import re\n",
    "import datetime\n",
    "import itertools\n",
    "from datetimerange import DateTimeRange\n",
    "import pickle"
   ]
  },
  {
   "cell_type": "code",
   "execution_count": 2,
   "id": "25999b01-b7c2-4bac-8fdd-3bfb19df1e6f",
   "metadata": {},
   "outputs": [
    {
     "data": {
      "text/plain": [
       "'/home/candela/Documents/greeneHill/membershipReportsCIVI/github/greeneHill'"
      ]
     },
     "execution_count": 2,
     "metadata": {},
     "output_type": "execute_result"
    }
   ],
   "source": [
    "#os.chdir('/home/candela/Documents/greeneHill/membershipReportsCIVI')\n",
    "os.getcwd()"
   ]
  },
  {
   "cell_type": "code",
   "execution_count": 3,
   "id": "366f3d10",
   "metadata": {},
   "outputs": [
    {
     "data": {
      "text/plain": [
       "['civiMemberReportsExplore.ipynb',\n",
       " 'prodDropboxII.py',\n",
       " '.git',\n",
       " 'civiActivityReport.ipynb',\n",
       " 'dropboxController.py',\n",
       " 'requirements.txt',\n",
       " 'inspect.csv',\n",
       " 'Untitled.ipynb',\n",
       " 'select_activity_report.csv']"
      ]
     },
     "execution_count": 3,
     "metadata": {},
     "output_type": "execute_result"
    }
   ],
   "source": [
    "os.listdir()"
   ]
  },
  {
   "cell_type": "code",
   "execution_count": 2,
   "id": "1e76ccc5-ecf3-4fa3-8ec6-56555f272227",
   "metadata": {},
   "outputs": [],
   "source": [
    "#activityReport = pd.read_csv('./membershipReportingLogic SampleReports/select_activity_report.csv')\n",
    "activityReport = pd.read_csv('./select_activity_report.csv')"
   ]
  },
  {
   "cell_type": "code",
   "execution_count": 3,
   "id": "bf7b39b3-b410-46ef-a18d-6b0db053855e",
   "metadata": {},
   "outputs": [],
   "source": [
    "activityReport.columns = [i.replace(' ','_')+'_act' for i in list(activityReport.columns)]"
   ]
  },
  {
   "cell_type": "code",
   "execution_count": 4,
   "id": "64deb133-c952-461f-8906-e5df06aeb374",
   "metadata": {},
   "outputs": [],
   "source": [
    "activityReport = activityReport.assign(Activity_Date_DT_act = pd.to_datetime(activityReport['Activity_Date_act'], format = '%Y-%m-%d %H:%M'))"
   ]
  },
  {
   "cell_type": "code",
   "execution_count": 5,
   "id": "4d26ec66-940a-4f2f-b4d0-26de1683c448",
   "metadata": {},
   "outputs": [],
   "source": [
    "activityReport = activityReport.assign(Activity_Date_DT_act = activityReport['Activity_Date_DT_act'].dt.date)"
   ]
  },
  {
   "cell_type": "code",
   "execution_count": 8,
   "metadata": {},
   "outputs": [
    {
     "data": {
      "text/plain": [
       "(7645, 10)"
      ]
     },
     "execution_count": 8,
     "metadata": {},
     "output_type": "execute_result"
    }
   ],
   "source": [
    "activityReport.shape"
   ]
  },
  {
   "cell_type": "code",
   "execution_count": 6,
   "id": "597401c7-7302-4027-89f6-fa8d85f99053",
   "metadata": {},
   "outputs": [],
   "source": [
    "#email selection logic: if Source Email is an admin, then select Target Email\n",
    "#alternatives: where Target Email is blank, select Source Email\n",
    "activityReport = activityReport.assign(email_grouping = activityReport.apply(lambda x: x['Target_Email_act'] if pd.notnull(x['Target_Email_act']) else x['Source_Email_act'], axis = 1))"
   ]
  },
  {
   "cell_type": "code",
   "execution_count": null,
   "id": "18c893ec",
   "metadata": {},
   "outputs": [],
   "source": [
    "#investigate trial-related activity to ensure that there are appropriate labels for trial associations later\n",
    "status_lookup = {'Active to General Leave':'general leave', 'to Cancelled':'cancelled', 'General Leave to New':'winback',  \n",
    "                    'New to Expired':'trial expiration', 'to Deactivated':'deactivated', 'Deactivated to General Leave':'general leave','Deactivated to Expired':'trial expiration', 'to Expired':'trial expiration','Cancelled to Active':'winback','Active to Reactivated':'technical reactivation','to Parental Leave':'parental leave', 'General Leave to Active':'winback', 'Cancelled to Re-activated':'winback', 'to General Leave': 'general leave',\n",
    "                    'Deactivated to Re-activated':'winback', 'Deactivated to Active':'winback','to Medical Leave':'medical leave',\n",
    "                      'General Leave to Re-activated':'winback','Medical Leave to Re-activated':'winback', 'Expired to Active':'trial conversion', 'Parental Leave to Active':'winback','Expired to New':'trial conversion','Active to Re-activated':'technical reactivation','Disability Leave to Active':'winback','Active to Care Giving Leave':'care giving leave','Active to New':'technical activation','Expired to Re-activated':'trial conversion','New to Re-activated':'technical re-activation','Medical Leave to Active':'winback','Care Giving Leave to Active':'winback','Re-activated to New':'technical activation'}\n",
    "\n",
    "#pd.DataFrame.from_dict(status_lookup, orient = 'index', columns = ['raw_status','treated_label'])\n",
    "sl_df = pd.DataFrame.from_dict(status_lookup, orient = 'index').reset_index()\n",
    "sl_df.columns = ['raw_status','treated_label']\n",
    "sl_df.sort_values('raw_status')"
   ]
  },
  {
   "cell_type": "code",
   "execution_count": 7,
   "id": "bf090469",
   "metadata": {},
   "outputs": [],
   "source": [
    "class Member_transactions(object):\n",
    "    # a utility to process Member dictionaries: both status and type\n",
    "    #I need both the prevailing membership type as of a particular date and the status/trigger that led to it; \n",
    "    #it might be nice to place a range of beg and end dates for a membership type\n",
    "    #set the class attributes\n",
    "    #perhaps can employ a class inheritence to use this blueprint for status lookups\n",
    "    Subject_act = {'Trial Membership - ':'trial','Trial Membership - Status: New':'trial','Zucchini Plan -':'6 mo trial','Zucchini Plan - Status: New':'6 mo trial','to Zucchini Plan':'6 mo trial','Lettuce Plan -':'lettuce', 'Avocado Plan -':'avocado','to Avocado Plan':'avocado','Park Slope Member -':'park slope','Park Slope Member - Status: New':'park slope','Apple Plan -':'apple','to Apple Plan':'apple', 'Bushwick Member -':'bushwick','Bushwick Member - Status: New':'bushwick','Carrot Plan - ':'carrot', 'Household Plan - ':'household', 'to Lettuce Plan':'lettuce','to Carrot Plan':'carrot','to Bushwick Member':'bushwick'}\n",
    "    \n",
    "    status_lookup = {'Active to General Leave':'general leave', 'to Cancelled':'cancelled', 'General Leave to New':'winback',  \n",
    "                    'New to Expired':'trial expiration', 'to Deactivated':'deactivated', 'Deactivated to General Leave':'general leave','Deactivated to Expired':'trial expiration', 'to Expired':'trial expiration','Cancelled to Active':'winback','Active to Reactivated':'technical reactivation','to Parental Leave':'parental leave', 'General Leave to Active':'winback', 'Cancelled to Re-activated':'winback', 'to General Leave': 'general leave',\n",
    "                    'Deactivated to Re-activated':'winback', 'Deactivated to Active':'winback','to Medical Leave':'medical leave',\n",
    "                      'General Leave to Re-activated':'winback','Medical Leave to Re-activated':'winback', 'Expired to Active':'trial conversion', 'Parental Leave to Active':'winback','Expired to New':'trial conversion','Active to Re-activated':'technical reactivation','Disability Leave to Active':'winback','Active to Care Giving Leave':'care giving leave','Active to New':'technical activation','Expired to Re-activated':'trial conversion','New to Re-activated':'technical re-activation','Medical Leave to Active':'winback','Care Giving Leave to Active':'winback','Re-activated to New':'technical activation'}\n",
    "    #second/higher level lookup: to be conducted after lower level lookups\n",
    "    member_abstract={'trial':'trial','lettuce':'full member','6 mo trial':'trial','avocado':'full member',\n",
    "                     'carrot':'full member','bushwick':'full member','park slope':'full member','apple':'full member'}\n",
    "    lookup_dict_finder = {'type':Subject_act, 'status':status_lookup,'type_abstract':member_abstract}                     \n",
    "    ''' candidate 'winback' status changes: \n",
    "    Cancelled to Re-activated\n",
    "    Deactivated to Re-activated\n",
    "    General Leave to Re-activated\n",
    "    Medical Leave to Re-activated\n",
    "    '''\n",
    "    def __init__(self, dicty):\n",
    "        #accept the transactional dictionary (by member)\n",
    "        self.dicty = dicty\n",
    "        self.class_dict = None #placeholder (this will be revised, if need-be, in dict_loop elif statements)\n",
    "        return None\n",
    "    \n",
    "    #returns the key, which I use to look up the value in the lookup dict\n",
    "    #designed to be multi-faceted (accepts any lookup dict)\n",
    "    def dictCrawl(self,substring,lookup_dict):\n",
    "        result_list = [i for i in lookup_dict.keys() if i in substring] \n",
    "        if len(result_list) == 0:\n",
    "            return None\n",
    "        else:\n",
    "            #return the value from the lookup dict, after honing in on the matching key to the substring\n",
    "            return lookup_dict[result_list[0]]\n",
    "    \n",
    "    #loop through ea key of dicty, pass through a string search function and return the corresponding dict value \n",
    "#from the initial vetting dict into the new results dict\n",
    "#believe that the below also appends a seq number to the value retrieved from the dict\n",
    "# have to swap the key of \n",
    "    def dict_loop(self,lookup_dict_key):\n",
    "        \n",
    "        def apply_lookup(base_dict, lookup_key):\n",
    "            #print(f'from within Member_transactions.dict_loop, the relevant dictionary is of length {len(self.dicty)}')\n",
    "            new_results = {} # will store the keys from the lookuptable and the values from the member dict\n",
    "            seq_num = 0\n",
    "            for k,v in base_dict.items(): # dicty = member dictionary\n",
    "                new_key = self.dictCrawl(k,self.lookup_dict_finder[lookup_key])\n",
    "                if new_key is None:\n",
    "                #do something\n",
    "                    print(f\"new member type doesn't match any lookup keys: {k}\")\n",
    "                else:\n",
    "                #write results to a new dict\n",
    "                    #print(f\"dict_loop of Member_trans function new key is {new_key}\")\n",
    "                    #print(f\"dict_loop of Member_trans function new key is {new_key+'_'+str(seq_num)}\")\n",
    "                    new_results[new_key+'_'+str(seq_num)] = v\n",
    "                    seq_num= seq_num+1\n",
    "            return new_results\n",
    "        \n",
    "        # if/then statements serves as a map of lookup_dict_key to \"base\" dict\n",
    "        if lookup_dict_key == 'type_abstract':\n",
    "            try: \n",
    "                #feed the class_dict (set at the elif statements below) into the apply lookup function to convert to abstract dict; \n",
    "                self.type_abstract_dict = apply_lookup(self.class_dict,'type_abstract')\n",
    "            except NameError: #check if class_dict has already been assigned\n",
    "                raise('the type dict does not yet exist; run dict_loop with lookup key = class')\n",
    "        elif lookup_dict_key == 'type':\n",
    "            self.class_dict = apply_lookup(self.dicty,'type')    \n",
    "            return self.class_dict\n",
    "        elif lookup_dict_key == 'status': # status should be handled at the class level so that all attributes are attached to same object\n",
    "            self.class_dict = apply_lookup(self.dicty,'status')\n",
    "            return self.class_dict\n",
    "        else: # OK to proceed\n",
    "            return None\n",
    "    "
   ]
  },
  {
   "cell_type": "code",
   "execution_count": 8,
   "id": "61edca86-acc2-415f-b017-e0bdc6e1eb1c",
   "metadata": {},
   "outputs": [],
   "source": [
    "class Member(object):\n",
    "    #cobble together attributes of a particular member by extracting activity from the df\n",
    "    \n",
    "    #class attribute, bc never changes; the activity_df object would need to exist before this assignment\n",
    "    #membership_df = activity_df\n",
    "\n",
    "    #ideally I store the following attributes of a member: Ea status row carries with it: 1) applicable \"type\", 2) prevailing \"type\", 3) \"status\" lookup value (from Membership_transactions)\n",
    "    \n",
    "    def __init__(self, activity_df, email):\n",
    "        self.email = email\n",
    "        #instance attribute, but perhaps can be moved to a class attribute\n",
    "        self.membership_df = activity_df\n",
    "        \n",
    "        #can choose to call email_lookup() here\n",
    "        self.email_lookup()\n",
    "\n",
    "        self.convertType_toDict() #creates self.dicty_type\n",
    "        self.convertStatus_toDict() #creates self.dicty_status\n",
    "        \n",
    "\n",
    "    def email_lookup(self):\n",
    "        #search the activity df for all instances of the email: both membership type changes and status changes\n",
    "        try:\n",
    "            # membership type change\n",
    "            self.df = self.membership_df.loc[self.membership_df['email_grouping'].str.strip() ==self.email,:].sort_values(by = 'Activity_Date_DT_act')\n",
    "            #remove some trivial activities\n",
    "            self.df2 = self.df.loc[~self.df['Subject_act'].isin(['Status changed from New to Active','Status changed from Pending to New','Status changed from Re-activated to Active']),]\n",
    "            #write a sequential key to a series on the df: this is used to account for activity (Status or Type) that repeats (ex. multiple trials, etc), because when written to a dict below (convertType_toDict and convertStatus_toDict), the keys must be unique\n",
    "            self.df2['seq_num'] = range(0,len(self.df2.index))\n",
    "            #convert to str \n",
    "            self.df2 = self.df2.assign(seq_num = self.df2['seq_num'].astype(str))\n",
    "            #concat two Series\n",
    "            self.df2 = self.df2.assign(Subject_act = self.df2['Subject_act'].str.cat(self.df2['seq_num'], sep = '_'))\n",
    "\n",
    "            if self.df2.size == 0:\n",
    "                #print('no match for email found')\n",
    "                pass\n",
    "            else:\n",
    "                #print('email found')\n",
    "                pass\n",
    "        except Exception as e:\n",
    "            # return something if the member email is not found in the activty dataframe\n",
    "            print(e)\n",
    "            \n",
    "    #consider creating a separate class for all the data manipulation and lookup conversions\n",
    "    def convertType_toDict(self):\n",
    "        #filter on 'Activity_Type_act': {'Change Membership Status','Membership Signup','Change Membership Type'}\n",
    "        #convert two series from the member df to a dict for future mapping/conversion\n",
    "        dicty = {}\n",
    "        #select for Membership types\n",
    "        self.type_dict = self.df2.loc[self.df2['Activity_Type_act'].isin(['Membership Signup','Change Membership Type']),['Subject_act','Activity_Date_DT_act']]\n",
    "        for i in self.type_dict.values:\n",
    "            dicty[i[0]] = i[1]\n",
    "        self.dicty_type_member = dicty\n",
    "        return self.dicty_type_member\n",
    "    \n",
    "    def convertStatus_toDict(self):\n",
    "        #filter on 'Activity_Type_act': {'Change Membership Status','Membership Signup','Change Membership Type'}\n",
    "        #convert two series from the member df to a dict for future mapping/conversion\n",
    "        dicty = {}\n",
    "        #select for Membership types\n",
    "        for i in self.df2.loc[self.df2['Activity_Type_act'].isin(['Change Membership Status']),['Subject_act','Activity_Date_DT_act']].values:\n",
    "            dicty[i[0]] = i[1]\n",
    "        self.dicty_status = dicty\n",
    "        return self.dicty_status\n",
    "    \n",
    "    def interact_member_transactions(self):\n",
    "        #interact with the Member_transactions class returning normalized dictionaries for \"type\" and \"status\"\n",
    "        try:\n",
    "            member_trans = Member_transactions(self.dicty_type_member)\n",
    "            #dict_loop will likely return a dict\n",
    "            dict_type = member_trans.dict_loop('type')\n",
    "            #print(f\"length of dicty_type_member is {len(self.dicty_type_member)}, length of dict_status is {len(dict_type)}\")\n",
    "            assert len(self.dicty_type_member) == len(dict_type), \"lengths of self.type_dict and dict_status in class Member don't match\"\n",
    "        except Exception as e:\n",
    "            print(\"error generated in class Member.interact_member_transactions on 'type' process\")\n",
    "            print(e)\n",
    "\n",
    "        try:\n",
    "            member_trans = Member_transactions(self.dicty_status)\n",
    "            dict_status = member_trans.dict_loop('status')\n",
    "        except Exception as e:\n",
    "            print(\"error generated in class Member.interact_member_transactions on 'status' process\")\n",
    "            print(e)\n",
    "\n",
    "        return dict_type,dict_status\n",
    "\n",
    "    def normalize_member_class(self):\n",
    "        #will lookup whether a member is full, trial, et al\n",
    "        return None"
   ]
  },
  {
   "attachments": {},
   "cell_type": "markdown",
   "id": "8bff326e",
   "metadata": {},
   "source": [
    "### Handling trial expirations and conversions\n",
    "Contemplating applying a ruleset: if the trial-related activity (cancellation, conversion, etc) occurs within the trial window (can be 1,2,6 months), then the 'type' activity is assigned to that trial\n",
    "If there is no subsequent 'type' initiation/activation after the latest trial, then assign the 'status' to the last trial -> this will cover activity outside of trial date range\n",
    "\n",
    "- Consider creating a trial rollover whereby a member rolls over from a 1 to 6 month trial\n",
    "\n",
    "CASES: \n",
    "- 405sarah@gmail.com enrolls in a two month trial, which I need to relabel at the Member level\n",
    "- 009janaki@gmail.com rolls a 1 month trial over to a 6 month trial INSIDE the window of the first 1 mo period\n",
    "- aaikolord@gmail.com converts a trial to a full membership after trial expiration - implement a time cap for conversion\n",
    "- aatiell@gmail.com: accurately encoded the status type to trial conversion\n",
    "- abrennan@wesleyan.edu: re-code for 2 month trial expiration\n",
    "- adam.b.neese@gmail.com: case study of a legit 1 mo trial\n",
    "- adwait.spotify@gmail.com: may have simultaneously enrolled in two trials (one and two month)\n",
    "- aef@fastmail.com: rolled from 1 month to 6 month\n",
    "- aelewis22@yahoo.com: two trials and two conversions to full\n",
    "- aidan.l.ling@gmail.com: conversion after trial expiration\n",
    "- akari@tribecapediatrics.com: logged two identical trials on the same date (effectively one should be ignored)\n",
    "- alembeck5@gmail.com: conversion to full within trial window and no expiration recorded for the corresponding trial\n",
    "- alina@alinarancier.com: convert after trial expiration, and later go on to have many winbacks"
   ]
  },
  {
   "attachments": {},
   "cell_type": "markdown",
   "id": "f8a5a8b2",
   "metadata": {},
   "source": [
    "### Regarding trials\n",
    "Easiest route may be to associate all activity to trials having a start date BEFORE the date of activity; this may handle cases of multiple trials and actions in an effort to avoiding associating activity to the wrong trial"
   ]
  },
  {
   "cell_type": "code",
   "execution_count": 10,
   "id": "c0dd0161",
   "metadata": {},
   "outputs": [],
   "source": [
    "class Trial_pattern(object):\n",
    "    #purpose of this class is to create the infrastructure to properly evaluate trial members: relate status records to the appropriate membership types, including both expirations and conversions\n",
    "    #non-trials are more straightforward because the status change will correspond to the prevailing \"type\" on activity date\n",
    "    #this version of Trial_pattern class differs from the above in that it is suited to dataframe input as opposed to the dictionaries from the intermittent output of the Member class\n",
    "    #designed to ingest the entire Member Type df at once, and set a \"theoretical\" expiration for ea trial based on Travis' critera:\n",
    "    '''\n",
    "    Travis: I can't find the exact date trials were changed from 30 days to 60, but it was around December 20th 2021.\n",
    "    \n",
    "    Me: So to be clear, are you saying that all trials (not Zucchini) prior to December '21 should have an expiration of one month and those initiated after that date should have a length of 2 months?\n",
    "     \n",
    "    '''\n",
    "    threshold = datetime.datetime.strptime('2021-12-20', '%Y-%m-%d')\n",
    "\n",
    "    def __init__(self, df):\n",
    "        #pull both the 'type' and 'status' dictionaries from a member\n",
    "        self.df_orig = df.copy()\n",
    "        #this will change the original df object as well\n",
    "        self.df_orig['trial_expiration'] = np.nan\n",
    "        #add 'trial expiration' field to dataframe\n",
    "        self.df_trial = df.loc[df['type'].str.contains('trial'),:]\n",
    "\n",
    "        #self.process()\n",
    "        #class variable switch date for trials\n",
    "        \n",
    "\n",
    "    def loop_thru(self):\n",
    "        # for ea record, select the expiration date by date of trial enrollment; per Travis 12/20/21 is the switch-over date from 1 mo to 2 mo trial lengths\n",
    "\n",
    "        def define_expirations(df_row):\n",
    "        # associate ea expiration entry in status changes to the appropriate trial (can be multiple trials for a member)\n",
    "        # the value of this dict can be added directly to a datetime object, ex. datetime.datetime(2020,3,7) + value\n",
    "        # a typical matching record will have {'trial type': datetime.date(2019, 12, 5)}\n",
    "            time_deltas = {'1 mo trial':datetime.timedelta(days = 30), '2 mo trial':datetime.timedelta(days = 60), '6 mo trial': datetime.timedelta(days = 180)}\n",
    "        \n",
    "            def assign_expiry(df_row):\n",
    "                if '6 mo trial' in df_row['type'] :\n",
    "                    trial_expiration = '6 mo trial'\n",
    "                elif df_row['start_dt'] < Trial_pattern.threshold:\n",
    "                    trial_expiration = '1 mo trial'\n",
    "                elif df_row['start_dt'] >= Trial_pattern.threshold:\n",
    "                    trial_expiration = '2 mo trial'\n",
    "                else:\n",
    "                    None\n",
    "                return trial_expiration\n",
    "            #define_expirations returns below value\n",
    "            return df_row['start_dt']+time_deltas[assign_expiry(df_row)]\n",
    "        #change the class variable\n",
    "        self.df_trial['trial_expiration'] = self.df_trial.apply(define_expirations, axis = 1)\n",
    "\n",
    "        return None\n",
    "        \n",
    "    def process(self):\n",
    "        #call function to alter self.df_trial\n",
    "        self.loop_thru()\n",
    "\n",
    "        self.df_non_trial = self.df_orig.loc[~self.df_orig['type'].str.contains('trial'),:]\n",
    "        #concatenate both dataframes\n",
    "        return pd.concat([self.df_trial,self.df_non_trial])\n",
    "            "
   ]
  },
  {
   "cell_type": "code",
   "execution_count": 13,
   "id": "d76c8a47",
   "metadata": {},
   "outputs": [
    {
     "name": "stdout",
     "output_type": "stream",
     "text": [
      "{'6 mo trial_0': datetime.date(2021, 12, 12), 'lettuce_1': datetime.date(2022, 6, 27)}\n",
      "{'trial expiration_0': datetime.date(2022, 6, 11), 'trial conversion_1': datetime.date(2022, 6, 27)}\n"
     ]
    },
    {
     "name": "stderr",
     "output_type": "stream",
     "text": [
      "/home/candela/anaconda3/envs/base_38/lib/python3.8/site-packages/pandas/core/frame.py:3607: SettingWithCopyWarning: \n",
      "A value is trying to be set on a copy of a slice from a DataFrame.\n",
      "Try using .loc[row_indexer,col_indexer] = value instead\n",
      "\n",
      "See the caveats in the documentation: https://pandas.pydata.org/pandas-docs/stable/user_guide/indexing.html#returning-a-view-versus-a-copy\n",
      "  self._set_item(key, value)\n"
     ]
    }
   ],
   "source": [
    "#print intermittent output of the Member classes in order to determine best step at which to apply the trial functions\n",
    "aatiell_class = Member(activityReport,'aatiell@gmail.com')\n",
    "mt,ms = aatiell_class.interact_member_transactions()\n",
    "print(mt)\n",
    "print(ms)"
   ]
  },
  {
   "cell_type": "code",
   "execution_count": 63,
   "id": "2fe26cd1",
   "metadata": {},
   "outputs": [],
   "source": [
    "# 2nd version of the membership application: create a dataframe of email, type, date range; NOTE: type field is present in both sets of DF (type & status)\n",
    "# any desired changes to the final df (those inserted into the mysql db) can be done here in addition to the Member and Member_transactions classes\n",
    "def create_df(mt_v):\n",
    "    if len(mt_v) == 0:\n",
    "        return None\n",
    "    else:\n",
    "    #TODO will need to account for single row membership activity\n",
    "        dfj = pd.DataFrame.from_dict(mt_v, orient = 'index').reset_index()\n",
    "        dfj.columns = ['type','start_dt']\n",
    "    #convert dtype\n",
    "        dfj['start_dt'] = pd.to_datetime(dfj['start_dt'])\n",
    "        dfj.sort_values('start_dt', ascending = True)\n",
    "        dfj['lead_date'] = dfj['start_dt'].shift(-1)\n",
    "        dfj['lead_date'] = dfj['lead_date'].apply(lambda x: x-datetime.timedelta(days = 1))\n",
    "    #replace NaN with today's date\n",
    "        djf = dfj.assign(lead_date = dfj['lead_date'].fillna(datetime.datetime.today().date().strftime(format = \"%Y-%m-%d\")))\n",
    "    # if dataframe is of row length = 1, then the \"shifted\" column should = today's date\n",
    "    #create a DateRange object per row\n",
    "        djf['datetimerange'] = djf.apply(lambda x: DateTimeRange(x['start_dt'],x['lead_date']), axis = 1)\n",
    "        # sanitize the type field by removing the sequence encoding and storing the abstracted type in its own field\n",
    "        djf['type_clean'] = djf['type'].str.split(pat = '_', n = 1,expand = True)[0]\n",
    "\n",
    "        return djf\n",
    "    \n",
    "#called independently from create_df()\n",
    "def compile(unq_email):\n",
    "    unq_mem_class = Member(activityReport,unq_email)\n",
    "    mt,ms = unq_mem_class.interact_member_transactions()\n",
    "    return(mt,ms)"
   ]
  },
  {
   "cell_type": "code",
   "execution_count": 64,
   "id": "fc07bc0a",
   "metadata": {},
   "outputs": [
    {
     "name": "stderr",
     "output_type": "stream",
     "text": [
      "/home/candela/anaconda3/envs/base_38/lib/python3.8/site-packages/pandas/core/frame.py:3607: SettingWithCopyWarning: \n",
      "A value is trying to be set on a copy of a slice from a DataFrame.\n",
      "Try using .loc[row_indexer,col_indexer] = value instead\n",
      "\n",
      "See the caveats in the documentation: https://pandas.pydata.org/pandas-docs/stable/user_guide/indexing.html#returning-a-view-versus-a-copy\n",
      "  self._set_item(key, value)\n"
     ]
    },
    {
     "name": "stdout",
     "output_type": "stream",
     "text": [
      "new member type doesn't match any lookup keys: Status changed from Active to Deceased_0\n",
      "new member type doesn't match any lookup keys: Status changed from Active to Disability Leave_4\n",
      "new member type doesn't match any lookup keys: Status changed from Active to Disability Leave_4\n",
      "new member type doesn't match any lookup keys: Status changed from Active to Disability Leave_6\n",
      "new member type doesn't match any lookup keys: Status changed from Deactivated to New_2\n",
      "new member type doesn't match any lookup keys: Status changed from Parental Leave to Re-activated_6\n",
      "new member type doesn't match any lookup keys: Status changed from General Leave to Care Giving Leave_1\n",
      "new member type doesn't match any lookup keys: Status changed from Care Giving Leave to Re-activated_2\n",
      "error generated in class Member.interact_member_transactions on 'type' process\n",
      "argument of type 'float' is not iterable\n",
      "error encountered with it@greenehillfood.coop; error message (\"local variable 'dict_type' referenced before assignment\",)\n",
      "new member type doesn't match any lookup keys: Status changed from Parental Leave to New_4\n",
      "error generated in class Member.interact_member_transactions on 'type' process\n",
      "argument of type 'float' is not iterable\n",
      "error encountered with test1@greenehillfood.coop; error message (\"local variable 'dict_type' referenced before assignment\",)\n",
      "new member type doesn't match any lookup keys: Status changed from Parental Leave to New_2\n",
      "new member type doesn't match any lookup keys: Status changed from Medical Leave to Care Giving Leave_1\n",
      "new member type doesn't match any lookup keys: Status changed from Deactivated to New_2\n"
     ]
    }
   ],
   "source": [
    "#collect both sets of activity (type and status) into their respective dataframes\n",
    "# each DF will have the same columns: type (activity name), start_dt, lead_dt (date offset from proceeding activity or today's date), datetimerange, email\n",
    "list_unq_email = activityReport.email_grouping.unique()\n",
    "cum_df_type = pd.DataFrame()\n",
    "cum_df_status = pd.DataFrame()\n",
    "#iterate through ea email address and process: create a Member object\n",
    "for i in list_unq_email:\n",
    "    try:\n",
    "        #generate both a type and status dict for ea email\n",
    "        mt,ms = compile(i)\n",
    "        mt_df = create_df(mt)\n",
    "        ms_df = create_df(ms)\n",
    "        if mt_df is None: # no type activity for member\n",
    "            next\n",
    "        else:\n",
    "        #add member email to the df\n",
    "            mt_df['email'] = i\n",
    "            cum_df_type = pd.concat([cum_df_type,mt_df], axis = 0)\n",
    "            \n",
    "        if ms_df is None: # if no status activity for member, proceed\n",
    "            next\n",
    "        else:\n",
    "        #add member email to the df\n",
    "            ms_df['email'] = i\n",
    "            cum_df_status = pd.concat([cum_df_status,ms_df], axis = 0)\n",
    "        \n",
    "    except Exception as e:\n",
    "        print(f'error encountered with {i}; error message {e.args}')   "
   ]
  },
  {
   "cell_type": "code",
   "execution_count": 14,
   "id": "f291d709",
   "metadata": {},
   "outputs": [
    {
     "name": "stdout",
     "output_type": "stream",
     "text": [
      "(3185, 5)\n",
      "(2702, 5)\n",
      "(7645, 11)\n",
      "(5906, 11)\n"
     ]
    }
   ],
   "source": [
    "#inspect lengths of each df\n",
    "print(cum_df_status.shape)\n",
    "print(cum_df_type.shape)\n",
    "print(activityReport.shape)\n",
    "#reconcile the difference btwn sum of status and type df to length of activityReport\n",
    "print(activityReport.loc[~activityReport['Subject_act'].isin(['Status changed from New to Active','Status changed from Pending to New','Status changed from Re-activated to Active']),].shape)"
   ]
  },
  {
   "cell_type": "code",
   "execution_count": 68,
   "id": "428b966d",
   "metadata": {},
   "outputs": [
    {
     "name": "stderr",
     "output_type": "stream",
     "text": [
      "/home/candela/anaconda3/envs/base_38/lib/python3.8/site-packages/pandas/core/frame.py:3607: SettingWithCopyWarning: \n",
      "A value is trying to be set on a copy of a slice from a DataFrame.\n",
      "Try using .loc[row_indexer,col_indexer] = value instead\n",
      "\n",
      "See the caveats in the documentation: https://pandas.pydata.org/pandas-docs/stable/user_guide/indexing.html#returning-a-view-versus-a-copy\n",
      "  self._set_item(key, value)\n"
     ]
    }
   ],
   "source": [
    "#apply the new trial expiration logic\n",
    "df = Trial_pattern(cum_df_type)\n",
    "df2 = df.process()\n",
    "#df.process().sort_values(['email','start_dt']).to_csv('./inspect.csv', index = False)"
   ]
  },
  {
   "cell_type": "code",
   "execution_count": 69,
   "id": "b58720be",
   "metadata": {},
   "outputs": [
    {
     "data": {
      "text/html": [
       "<div>\n",
       "<style scoped>\n",
       "    .dataframe tbody tr th:only-of-type {\n",
       "        vertical-align: middle;\n",
       "    }\n",
       "\n",
       "    .dataframe tbody tr th {\n",
       "        vertical-align: top;\n",
       "    }\n",
       "\n",
       "    .dataframe thead th {\n",
       "        text-align: right;\n",
       "    }\n",
       "</style>\n",
       "<table border=\"1\" class=\"dataframe\">\n",
       "  <thead>\n",
       "    <tr style=\"text-align: right;\">\n",
       "      <th></th>\n",
       "      <th>type</th>\n",
       "      <th>start_dt</th>\n",
       "      <th>lead_date</th>\n",
       "      <th>datetimerange</th>\n",
       "      <th>type_clean</th>\n",
       "      <th>email</th>\n",
       "      <th>trial_expiration</th>\n",
       "    </tr>\n",
       "  </thead>\n",
       "  <tbody>\n",
       "    <tr>\n",
       "      <th>48</th>\n",
       "      <td>6 mo trial_1</td>\n",
       "      <td>2020-01-20</td>\n",
       "      <td>2023-06-25</td>\n",
       "      <td>2020-01-20T00:00:00 - 2023-06-25T00:00:00</td>\n",
       "      <td>6 mo trial</td>\n",
       "      <td>009janaki@gmail.com</td>\n",
       "      <td>2020-07-18</td>\n",
       "    </tr>\n",
       "    <tr>\n",
       "      <th>47</th>\n",
       "      <td>trial_0</td>\n",
       "      <td>2019-12-23</td>\n",
       "      <td>2020-01-19</td>\n",
       "      <td>2019-12-23T00:00:00 - 2020-01-19T00:00:00</td>\n",
       "      <td>trial</td>\n",
       "      <td>009janaki@gmail.com</td>\n",
       "      <td>2020-01-22</td>\n",
       "    </tr>\n",
       "    <tr>\n",
       "      <th>2106</th>\n",
       "      <td>lettuce_0</td>\n",
       "      <td>2020-07-21</td>\n",
       "      <td>2023-06-25</td>\n",
       "      <td>2020-07-21T00:00:00 - 2023-06-25T00:00:00</td>\n",
       "      <td>lettuce</td>\n",
       "      <td>16defazioe@gmail.com</td>\n",
       "      <td>NaT</td>\n",
       "    </tr>\n",
       "  </tbody>\n",
       "</table>\n",
       "</div>"
      ],
      "text/plain": [
       "              type   start_dt  lead_date  \\\n",
       "48    6 mo trial_1 2020-01-20 2023-06-25   \n",
       "47         trial_0 2019-12-23 2020-01-19   \n",
       "2106     lettuce_0 2020-07-21 2023-06-25   \n",
       "\n",
       "                                  datetimerange  type_clean  \\\n",
       "48    2020-01-20T00:00:00 - 2023-06-25T00:00:00  6 mo trial   \n",
       "47    2019-12-23T00:00:00 - 2020-01-19T00:00:00       trial   \n",
       "2106  2020-07-21T00:00:00 - 2023-06-25T00:00:00     lettuce   \n",
       "\n",
       "                     email trial_expiration  \n",
       "48     009janaki@gmail.com       2020-07-18  \n",
       "47     009janaki@gmail.com       2020-01-22  \n",
       "2106  16defazioe@gmail.com              NaT  "
      ]
     },
     "execution_count": 69,
     "metadata": {},
     "output_type": "execute_result"
    }
   ],
   "source": [
    "#email is not unique; one record per continuous membership type \n",
    "df2 = df2.reset_index(drop = True)\n",
    "df2.sort_values('email').head(3)"
   ]
  },
  {
   "cell_type": "code",
   "execution_count": 66,
   "id": "d0748754",
   "metadata": {},
   "outputs": [
    {
     "data": {
      "text/html": [
       "<div>\n",
       "<style scoped>\n",
       "    .dataframe tbody tr th:only-of-type {\n",
       "        vertical-align: middle;\n",
       "    }\n",
       "\n",
       "    .dataframe tbody tr th {\n",
       "        vertical-align: top;\n",
       "    }\n",
       "\n",
       "    .dataframe thead th {\n",
       "        text-align: right;\n",
       "    }\n",
       "</style>\n",
       "<table border=\"1\" class=\"dataframe\">\n",
       "  <thead>\n",
       "    <tr style=\"text-align: right;\">\n",
       "      <th></th>\n",
       "      <th>type</th>\n",
       "      <th>start_dt</th>\n",
       "      <th>lead_date</th>\n",
       "      <th>datetimerange</th>\n",
       "      <th>type_clean</th>\n",
       "      <th>email</th>\n",
       "    </tr>\n",
       "  </thead>\n",
       "  <tbody>\n",
       "    <tr>\n",
       "      <th>0</th>\n",
       "      <td>trial_0</td>\n",
       "      <td>2019-12-05</td>\n",
       "      <td>2021-11-06</td>\n",
       "      <td>2019-12-05T00:00:00 - 2021-11-06T00:00:00</td>\n",
       "      <td>trial</td>\n",
       "      <td>tiffmnix@yahoo.com</td>\n",
       "    </tr>\n",
       "    <tr>\n",
       "      <th>1</th>\n",
       "      <td>park slope_1</td>\n",
       "      <td>2021-11-07</td>\n",
       "      <td>2023-06-25</td>\n",
       "      <td>2021-11-07T00:00:00 - 2023-06-25T00:00:00</td>\n",
       "      <td>park slope</td>\n",
       "      <td>tiffmnix@yahoo.com</td>\n",
       "    </tr>\n",
       "    <tr>\n",
       "      <th>2</th>\n",
       "      <td>trial_0</td>\n",
       "      <td>2019-12-05</td>\n",
       "      <td>2023-06-25</td>\n",
       "      <td>2019-12-05T00:00:00 - 2023-06-25T00:00:00</td>\n",
       "      <td>trial</td>\n",
       "      <td>mollyfredenberg@gmail.com</td>\n",
       "    </tr>\n",
       "  </tbody>\n",
       "</table>\n",
       "</div>"
      ],
      "text/plain": [
       "           type   start_dt  lead_date  \\\n",
       "0       trial_0 2019-12-05 2021-11-06   \n",
       "1  park slope_1 2021-11-07 2023-06-25   \n",
       "2       trial_0 2019-12-05 2023-06-25   \n",
       "\n",
       "                               datetimerange  type_clean  \\\n",
       "0  2019-12-05T00:00:00 - 2021-11-06T00:00:00       trial   \n",
       "1  2021-11-07T00:00:00 - 2023-06-25T00:00:00  park slope   \n",
       "2  2019-12-05T00:00:00 - 2023-06-25T00:00:00       trial   \n",
       "\n",
       "                       email  \n",
       "0         tiffmnix@yahoo.com  \n",
       "1         tiffmnix@yahoo.com  \n",
       "2  mollyfredenberg@gmail.com  "
      ]
     },
     "execution_count": 66,
     "metadata": {},
     "output_type": "execute_result"
    }
   ],
   "source": [
    "cum_df_type = cum_df_type.reset_index(drop = True)\n",
    "cum_df_type.head(3)"
   ]
  },
  {
   "attachments": {},
   "cell_type": "markdown",
   "id": "1dafa4bb",
   "metadata": {},
   "source": [
    "At this point I have two tables that I'd like to import into the db: df2 and cum_df_status"
   ]
  },
  {
   "cell_type": "code",
   "execution_count": 70,
   "id": "212efe36",
   "metadata": {},
   "outputs": [],
   "source": [
    "#using pickle to persist objects\n",
    "filename1 = '/home/candela/Documents/greeneHill/membershipReportsCIVI/membership_df2.p'\n",
    "filename2 = '/home/candela/Documents/greeneHill/membershipReportsCIVI/membership_cum_df_status.p'\n",
    "filehandler = open(filename1, 'wb') \n",
    "pickle.dump(df2, filehandler)\n",
    "filehandler = open(filename2, 'wb') \n",
    "pickle.dump(cum_df_status, filehandler)"
   ]
  },
  {
   "cell_type": "code",
   "execution_count": 23,
   "id": "801a6729",
   "metadata": {},
   "outputs": [],
   "source": [
    "import sqlalchemy\n",
    "#from sqlalchemy import URL"
   ]
  },
  {
   "cell_type": "code",
   "execution_count": 71,
   "id": "1e3d223b",
   "metadata": {},
   "outputs": [
    {
     "name": "stdout",
     "output_type": "stream",
     "text": [
      "Connection to the 172.17.0.2 for user root created successfully.\n"
     ]
    }
   ],
   "source": [
    "# DEFINE THE DATABASE CREDENTIALS\n",
    "user = 'root'\n",
    "password = 'baeldung'\n",
    "host = '172.17.0.2'\n",
    "port = 3306\n",
    "database = 'membership'\n",
    "\n",
    "def get_connection():\n",
    "\treturn sqlalchemy.create_engine(\n",
    "\t\turl=\"mysql+pymysql://{0}:{1}@{2}:{3}/{4}\".format(\n",
    "\t\t\tuser, password, host, port, database\n",
    "\t\t)\n",
    "\t)\n",
    "\n",
    "if __name__ == '__main__':\n",
    "\n",
    "\ttry:\n",
    "\t\n",
    "\t\t# GET THE CONNECTION OBJECT (ENGINE) FOR THE DATABASE\n",
    "\t\tengine = get_connection()\n",
    "\t\tprint(\n",
    "\t\t\tf\"Connection to the {host} for user {user} created successfully.\")\n",
    "\texcept Exception as ex:\n",
    "\t\tprint(\"Connection could not be made due to the following error: \\n\", ex)\n"
   ]
  },
  {
   "cell_type": "code",
   "execution_count": 73,
   "id": "53b5fb7c",
   "metadata": {},
   "outputs": [
    {
     "name": "stdout",
     "output_type": "stream",
     "text": [
      "Table mem_status created successfully.\n"
     ]
    },
    {
     "ename": "AttributeError",
     "evalue": "'Engine' object has no attribute 'close'",
     "output_type": "error",
     "traceback": [
      "\u001b[0;31m---------------------------------------------------------------------------\u001b[0m",
      "\u001b[0;31mAttributeError\u001b[0m                            Traceback (most recent call last)",
      "\u001b[1;32m/home/candela/Documents/greeneHill/membershipReportsCIVI/github/greeneHill/civiActivityReport.ipynb Cell 27\u001b[0m in \u001b[0;36m<cell line: 1>\u001b[0;34m()\u001b[0m\n\u001b[1;32m      <a href='vscode-notebook-cell:/home/candela/Documents/greeneHill/membershipReportsCIVI/github/greeneHill/civiActivityReport.ipynb#X64sZmlsZQ%3D%3D?line=8'>9</a>\u001b[0m     \u001b[39mprint\u001b[39m(\u001b[39m\"\u001b[39m\u001b[39mTable \u001b[39m\u001b[39m%s\u001b[39;00m\u001b[39m created successfully.\u001b[39m\u001b[39m\"\u001b[39m\u001b[39m%\u001b[39m\u001b[39m'\u001b[39m\u001b[39mmem_status\u001b[39m\u001b[39m'\u001b[39m);   \n\u001b[1;32m     <a href='vscode-notebook-cell:/home/candela/Documents/greeneHill/membershipReportsCIVI/github/greeneHill/civiActivityReport.ipynb#X64sZmlsZQ%3D%3D?line=9'>10</a>\u001b[0m \u001b[39mfinally\u001b[39;00m:\n\u001b[0;32m---> <a href='vscode-notebook-cell:/home/candela/Documents/greeneHill/membershipReportsCIVI/github/greeneHill/civiActivityReport.ipynb#X64sZmlsZQ%3D%3D?line=10'>11</a>\u001b[0m     engine\u001b[39m.\u001b[39;49mclose()\n",
      "\u001b[0;31mAttributeError\u001b[0m: 'Engine' object has no attribute 'close'"
     ]
    }
   ],
   "source": [
    "try:\n",
    "    #frame = cum_df_type.to_sql('mem_status', engine, if_exists='fail')\n",
    "    frame = df2.to_sql('mem_type', engine, if_exists='fail')\n",
    "except ValueError as vx:\n",
    "    print(vx)\n",
    "except Exception as ex:   \n",
    "    print(ex)\n",
    "else:\n",
    "    print(\"Table %s created successfully.\"%'mem_status');   \n",
    "finally:\n",
    "    engine.close()"
   ]
  },
  {
   "attachments": {},
   "cell_type": "markdown",
   "id": "330515d0",
   "metadata": {},
   "source": [
    "### develop the program to join status activity to prevailing member type\n",
    "- if trial related, the actvity will be assigned to one of: the trial with an active date range that encompasses the activity OR the historical trial that occurred prior to the trial having a start_dt AFTER the activity date of the status \n",
    "- once a person becomes a member, they will typically stay in that category, and it's up to me to toggle them active/leave/cancelled depending on status updates\n",
    "- ultimately I care about: trial conversions, trial expirations/cancellations, "
   ]
  },
  {
   "attachments": {},
   "cell_type": "markdown",
   "id": "9479882f",
   "metadata": {},
   "source": [
    "Attempt to filter for trial members that do not upgrade and observe the permutations of subjects to learn which text is exclusive to trial memberships, so I can properly associate them/dismiss them when building the user journey"
   ]
  },
  {
   "cell_type": "code",
   "execution_count": 26,
   "id": "5deb0955",
   "metadata": {},
   "outputs": [
    {
     "data": {
      "text/html": [
       "<div>\n",
       "<style scoped>\n",
       "    .dataframe tbody tr th:only-of-type {\n",
       "        vertical-align: middle;\n",
       "    }\n",
       "\n",
       "    .dataframe tbody tr th {\n",
       "        vertical-align: top;\n",
       "    }\n",
       "\n",
       "    .dataframe thead th {\n",
       "        text-align: right;\n",
       "    }\n",
       "</style>\n",
       "<table border=\"1\" class=\"dataframe\">\n",
       "  <thead>\n",
       "    <tr style=\"text-align: right;\">\n",
       "      <th></th>\n",
       "      <th>type</th>\n",
       "      <th>start_dt</th>\n",
       "      <th>lead_date</th>\n",
       "      <th>datetimerange</th>\n",
       "      <th>email</th>\n",
       "    </tr>\n",
       "  </thead>\n",
       "  <tbody>\n",
       "    <tr>\n",
       "      <th>0</th>\n",
       "      <td>1 mo trial_0</td>\n",
       "      <td>2019-12-23</td>\n",
       "      <td>2020-01-19</td>\n",
       "      <td>2019-12-23T00:00:00 - 2020-01-19T00:00:00</td>\n",
       "      <td>009janaki@gmail.com</td>\n",
       "    </tr>\n",
       "    <tr>\n",
       "      <th>1</th>\n",
       "      <td>6 mo trial_1</td>\n",
       "      <td>2020-01-20</td>\n",
       "      <td>2023-05-14</td>\n",
       "      <td>2020-01-20T00:00:00 - 2023-05-14T00:00:00</td>\n",
       "      <td>009janaki@gmail.com</td>\n",
       "    </tr>\n",
       "    <tr>\n",
       "      <th>0</th>\n",
       "      <td>1 mo trial_0</td>\n",
       "      <td>2022-02-18</td>\n",
       "      <td>2023-05-14</td>\n",
       "      <td>2022-02-18T00:00:00 - 2023-05-14T00:00:00</td>\n",
       "      <td>39@mailcomfort.com</td>\n",
       "    </tr>\n",
       "    <tr>\n",
       "      <th>0</th>\n",
       "      <td>1 mo trial_0</td>\n",
       "      <td>2022-07-05</td>\n",
       "      <td>2022-09-08</td>\n",
       "      <td>2022-07-05T00:00:00 - 2022-09-08T00:00:00</td>\n",
       "      <td>405sarah@gmail.com</td>\n",
       "    </tr>\n",
       "    <tr>\n",
       "      <th>1</th>\n",
       "      <td>lettuce_1</td>\n",
       "      <td>2022-09-09</td>\n",
       "      <td>2023-05-14</td>\n",
       "      <td>2022-09-09T00:00:00 - 2023-05-14T00:00:00</td>\n",
       "      <td>405sarah@gmail.com</td>\n",
       "    </tr>\n",
       "    <tr>\n",
       "      <th>...</th>\n",
       "      <td>...</td>\n",
       "      <td>...</td>\n",
       "      <td>...</td>\n",
       "      <td>...</td>\n",
       "      <td>...</td>\n",
       "    </tr>\n",
       "    <tr>\n",
       "      <th>0</th>\n",
       "      <td>1 mo trial_0</td>\n",
       "      <td>2021-05-05</td>\n",
       "      <td>2021-06-03</td>\n",
       "      <td>2021-05-05T00:00:00 - 2021-06-03T00:00:00</td>\n",
       "      <td>zoehoffmann88@gmail.com</td>\n",
       "    </tr>\n",
       "    <tr>\n",
       "      <th>1</th>\n",
       "      <td>lettuce_1</td>\n",
       "      <td>2021-06-04</td>\n",
       "      <td>2023-05-14</td>\n",
       "      <td>2021-06-04T00:00:00 - 2023-05-14T00:00:00</td>\n",
       "      <td>zoehoffmann88@gmail.com</td>\n",
       "    </tr>\n",
       "    <tr>\n",
       "      <th>0</th>\n",
       "      <td>1 mo trial_0</td>\n",
       "      <td>2021-09-09</td>\n",
       "      <td>2023-05-14</td>\n",
       "      <td>2021-09-09T00:00:00 - 2023-05-14T00:00:00</td>\n",
       "      <td>zoewohlfeld@gmail.com</td>\n",
       "    </tr>\n",
       "    <tr>\n",
       "      <th>0</th>\n",
       "      <td>6 mo trial_0</td>\n",
       "      <td>2021-11-07</td>\n",
       "      <td>2023-05-14</td>\n",
       "      <td>2021-11-07T00:00:00 - 2023-05-14T00:00:00</td>\n",
       "      <td>zoezphillips@gmail.com</td>\n",
       "    </tr>\n",
       "    <tr>\n",
       "      <th>0</th>\n",
       "      <td>1 mo trial_0</td>\n",
       "      <td>2021-01-17</td>\n",
       "      <td>2023-05-14</td>\n",
       "      <td>2021-01-17T00:00:00 - 2023-05-14T00:00:00</td>\n",
       "      <td>zorasicherphoto@gmail.com</td>\n",
       "    </tr>\n",
       "  </tbody>\n",
       "</table>\n",
       "<p>2207 rows × 5 columns</p>\n",
       "</div>"
      ],
      "text/plain": [
       "            type   start_dt  lead_date  \\\n",
       "0   1 mo trial_0 2019-12-23 2020-01-19   \n",
       "1   6 mo trial_1 2020-01-20 2023-05-14   \n",
       "0   1 mo trial_0 2022-02-18 2023-05-14   \n",
       "0   1 mo trial_0 2022-07-05 2022-09-08   \n",
       "1      lettuce_1 2022-09-09 2023-05-14   \n",
       "..           ...        ...        ...   \n",
       "0   1 mo trial_0 2021-05-05 2021-06-03   \n",
       "1      lettuce_1 2021-06-04 2023-05-14   \n",
       "0   1 mo trial_0 2021-09-09 2023-05-14   \n",
       "0   6 mo trial_0 2021-11-07 2023-05-14   \n",
       "0   1 mo trial_0 2021-01-17 2023-05-14   \n",
       "\n",
       "                                datetimerange                      email  \n",
       "0   2019-12-23T00:00:00 - 2020-01-19T00:00:00        009janaki@gmail.com  \n",
       "1   2020-01-20T00:00:00 - 2023-05-14T00:00:00        009janaki@gmail.com  \n",
       "0   2022-02-18T00:00:00 - 2023-05-14T00:00:00         39@mailcomfort.com  \n",
       "0   2022-07-05T00:00:00 - 2022-09-08T00:00:00         405sarah@gmail.com  \n",
       "1   2022-09-09T00:00:00 - 2023-05-14T00:00:00         405sarah@gmail.com  \n",
       "..                                        ...                        ...  \n",
       "0   2021-05-05T00:00:00 - 2021-06-03T00:00:00    zoehoffmann88@gmail.com  \n",
       "1   2021-06-04T00:00:00 - 2023-05-14T00:00:00    zoehoffmann88@gmail.com  \n",
       "0   2021-09-09T00:00:00 - 2023-05-14T00:00:00      zoewohlfeld@gmail.com  \n",
       "0   2021-11-07T00:00:00 - 2023-05-14T00:00:00     zoezphillips@gmail.com  \n",
       "0   2021-01-17T00:00:00 - 2023-05-14T00:00:00  zorasicherphoto@gmail.com  \n",
       "\n",
       "[2207 rows x 5 columns]"
      ]
     },
     "execution_count": 26,
     "metadata": {},
     "output_type": "execute_result"
    }
   ],
   "source": [
    "cum_df_type.groupby('email').filter(lambda x: any([re.search('trial',i) for i in x['type']])).sort_values(['email','start_dt'])"
   ]
  },
  {
   "cell_type": "code",
   "execution_count": 27,
   "id": "04be232b",
   "metadata": {},
   "outputs": [
    {
     "name": "stdout",
     "output_type": "stream",
     "text": [
      "(2207, 5)\n"
     ]
    }
   ],
   "source": [
    "#output.groupby('email').filter(lambda x: len(x) == 2)\n",
    "#trials = output.groupby('email').filter(lambda x: any(x['membership_type'] == 'trial'))\n",
    "#output.groupby('email').filter(lambda x: any(x['membership_type'] == 'trial'))\n",
    "#print(trials.shape)\n",
    "#this version filters the groupby object by TWO conditions\n",
    "output2 = cum_df_type.groupby('email').filter(lambda x: any([re.search('trial',i) for i in x['type']])).sort_values(['email','start_dt'])\n",
    "print(output2.shape)\n",
    "#inspect output of the program\n",
    "output2.to_csv('./trial_type_sorted.csv', index = False)\n",
    "cum_df_status.loc[cum_df_status['email'].isin(output2['email'])].sort_values(['email','start_dt']).to_csv('./trial_status_sorted.csv',index = False)"
   ]
  },
  {
   "cell_type": "code",
   "execution_count": null,
   "id": "1a768b43",
   "metadata": {},
   "outputs": [],
   "source": [
    "#TODO print Output2 and arrive at the expected shape of the multi conditional (above)\n",
    "#output2\n",
    "size_one = output.groupby('email').filter(lambda x: len(x) == 1)\n",
    "activityReport.loc[activityReport['email_grouping'].isin(size_one.loc[size_one['membership_type'].str.contains('trial'),'email']),].head()"
   ]
  },
  {
   "cell_type": "code",
   "execution_count": null,
   "id": "72568844",
   "metadata": {},
   "outputs": [],
   "source": [
    "\n",
    "#enables reviewing all unique subjects associated to trials (excluding all other member types)\n",
    "trials_only = activityReport.loc[activityReport['email_grouping'].isin(size_one.loc[size_one['membership_type'].str.contains('trial'),'email']),['email_grouping','Subject_act','Activity_Date_DT_act']].sort_values(['email_grouping','Activity_Date_DT_act'])\n",
    "trials_only.to_csv('./trialsOnly.csv', index = False)\n",
    "\n",
    "#consider only unique values of Subject_act\n",
    "activityReport.loc[activityReport['email_grouping'].isin(size_one.loc[size_one['membership_type'].str.contains('trial'),'email']),['Subject_act']]['Subject_act'].unique()\n"
   ]
  },
  {
   "cell_type": "code",
   "execution_count": null,
   "id": "bd09d749",
   "metadata": {},
   "outputs": [],
   "source": [
    "#view output of above\n",
    "activityReport.loc[activityReport['email_grouping'].isin(output2['email']),].to_csv('./trialMembersFullOutput.csv', index = False)"
   ]
  },
  {
   "cell_type": "code",
   "execution_count": null,
   "id": "d25ed46a",
   "metadata": {},
   "outputs": [],
   "source": [
    "# in an attempt to identify status changes that are artifacts of an initial trial, select for all status changes after there is a type change (conversion of trial to other membership type)\n",
    "# need to remove entries with Status cahnges: \"Active to New\", \"New to Active\", \"Pending to New\"\n",
    "mult_groups = output.groupby(['email']).filter(lambda x: len(x) >1)\n",
    "activityReport.loc[(activityReport['email_grouping'].isin(mult_groups['email'])) & (activityReport['email_grouping'].isin(output.loc[output['membership_type'].str.contains('trial'),'email'])),['email_grouping','Activity_Date_DT_act','Subject_act','Activity_Type_act']].sort_values(['email_grouping','Activity_Date_DT_act']).to_csv('./multi_w_trial.csv', index = False)"
   ]
  },
  {
   "cell_type": "code",
   "execution_count": null,
   "id": "4c68831c",
   "metadata": {},
   "outputs": [],
   "source": [
    "pd.Series(activityReport.loc[activityReport['email_grouping'].isin(output2['email']),'Subject_act'].unique())[pd.Series(activityReport.loc[activityReport['email_grouping'].isin(output2['email']),'Subject_act'].unique()).str.contains('Status changed')]"
   ]
  },
  {
   "attachments": {},
   "cell_type": "markdown",
   "id": "34ab97c8",
   "metadata": {},
   "source": [
    "### TODO: start going through event and type use cases, ex. Active to Expired for Trial (when within a two or 6 month period from Trial start)"
   ]
  },
  {
   "cell_type": "code",
   "execution_count": null,
   "id": "576a24cc-1d8f-4702-b8bf-fa6c88cfe573",
   "metadata": {},
   "outputs": [],
   "source": [
    "#best practice is always to sort this dataframe first\n",
    "class_df = pd.DataFrame.from_dict(s.dict_loop('status'), orient = 'index', columns = ['start_date']).reset_index()\n",
    "print(class_df)"
   ]
  },
  {
   "cell_type": "code",
   "execution_count": null,
   "id": "d3a4e5d8",
   "metadata": {},
   "outputs": [],
   "source": [
    "#best practice is always to sort this dataframe first\n",
    "class_df = pd.DataFrame.from_dict(st.dict_loop('class'), orient = 'index', columns = ['start_date']).reset_index()\n",
    "print(class_df)"
   ]
  },
  {
   "cell_type": "code",
   "execution_count": null,
   "id": "cec7cf67-71ac-49a1-b5b4-238feb8d585b",
   "metadata": {},
   "outputs": [],
   "source": [
    "#lag values\n",
    "class_df['end_date']=class_df['start_date'].shift(periods=-1, axis = 0)"
   ]
  },
  {
   "cell_type": "code",
   "execution_count": null,
   "id": "6888e3a1-7772-4f48-9a10-0e1d3e25f2ef",
   "metadata": {},
   "outputs": [],
   "source": [
    "class_df.loc[:,'start_date'] = pd.to_datetime(class_df['start_date'],format = '%Y-%m-%d')"
   ]
  },
  {
   "cell_type": "code",
   "execution_count": null,
   "id": "37caf54b-23f0-4817-bab3-b3d7acaf0063",
   "metadata": {},
   "outputs": [],
   "source": [
    "class_df.loc[class_df['end_date'].isna(),'end_date']= datetime.datetime.today().date()"
   ]
  },
  {
   "cell_type": "code",
   "execution_count": null,
   "id": "794bac62-ee24-426c-884b-25ff5b299998",
   "metadata": {},
   "outputs": [],
   "source": [
    "class_df"
   ]
  }
 ],
 "metadata": {
  "kernelspec": {
   "display_name": "Python 3.8.8 ('base_38')",
   "language": "python",
   "name": "python3"
  },
  "language_info": {
   "codemirror_mode": {
    "name": "ipython",
    "version": 3
   },
   "file_extension": ".py",
   "mimetype": "text/x-python",
   "name": "python",
   "nbconvert_exporter": "python",
   "pygments_lexer": "ipython3",
   "version": "3.8.8"
  },
  "vscode": {
   "interpreter": {
    "hash": "fd311027ebaed917dbf42b6577f6df4d17fc4265ec28754419f77ce24c59d72b"
   }
  }
 },
 "nbformat": 4,
 "nbformat_minor": 5
}
