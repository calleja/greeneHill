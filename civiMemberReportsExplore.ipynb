{
 "cells": [
  {
   "cell_type": "code",
   "execution_count": 2,
   "id": "1cb4ffc1-3b7a-4d8a-a49b-19667d802e61",
   "metadata": {},
   "outputs": [],
   "source": [
    "import os\n",
    "import pandas as pd\n",
    "import matplotlib.pyplot as plt\n",
    "import seaborn as sns\n",
    "import re"
   ]
  },
  {
   "cell_type": "markdown",
   "id": "dc152992-d0ea-43bf-abeb-de59eabe6e25",
   "metadata": {},
   "source": [
    "Priorities:\n",
    "- historical conversion rate of trial members: "
   ]
  },
  {
   "cell_type": "code",
   "execution_count": 3,
   "id": "0d247695-92de-4680-8148-26dd713f7a55",
   "metadata": {},
   "outputs": [
    {
     "data": {
      "text/plain": [
       "'C:\\\\Users\\\\200669681\\\\OneDrive - NBCUniversal\\\\My Documents\\\\ghfc\\\\membershipReportsCIVI'"
      ]
     },
     "execution_count": 3,
     "metadata": {},
     "output_type": "execute_result"
    }
   ],
   "source": [
    "os.getcwd()"
   ]
  },
  {
   "cell_type": "code",
   "execution_count": 4,
   "id": "24011f1e-6875-43a3-bdb0-feb52ddb9167",
   "metadata": {},
   "outputs": [],
   "source": [
    "#will contain membership type history, however, if the plan had been cancelled, it won't show the start date of the membership\n",
    "encompassing = pd.read_csv('./membershipReportingLogic SampleReports/membershipAllEncompassingReport.csv')"
   ]
  },
  {
   "cell_type": "code",
   "execution_count": 3,
   "id": "b49b5712-e0f7-4ffa-bc5a-02536df1dd1a",
   "metadata": {},
   "outputs": [],
   "source": [
    "contactActivityDetails = pd.read_csv('./activityDetailsReport_contactReport.csv')"
   ]
  },
  {
   "cell_type": "code",
   "execution_count": 5,
   "id": "3098b0ef-6f96-4c0f-b2b4-05971410b7c8",
   "metadata": {},
   "outputs": [],
   "source": [
    "activityReport = pd.read_csv('./membershipReportingLogic SampleReports/select_activity_report.csv')"
   ]
  },
  {
   "cell_type": "code",
   "execution_count": 47,
   "id": "688900e2-8ab1-421c-aafc-2c0d751060e5",
   "metadata": {},
   "outputs": [
    {
     "data": {
      "text/plain": [
       "Subject                                          \n",
       "Status changed from New to Expired                   705\n",
       "Status changed from New to Active                    515\n",
       "Status changed from Active to Cancelled              121\n",
       "Status changed from Active to General Leave          120\n",
       "Status changed from Active to Expired                 91\n",
       "Status changed from Active to Deactivated             62\n",
       "Status changed from Re-activated to Active            44\n",
       "Status changed from Expired to Active                 42\n",
       "Status changed from New to Deactivated                38\n",
       "Status changed from Pending to New                    37\n",
       "Type changed from Zucchini Plan to Lettuce Plan       29\n",
       "Status changed from General Leave to Re-activated     26\n",
       "Status changed from New to Cancelled                  18\n",
       "Status changed from Parental Leave to Active          16\n",
       "Status changed from Deactivated to Active             15\n",
       "dtype: int64"
      ]
     },
     "execution_count": 47,
     "metadata": {},
     "output_type": "execute_result"
    }
   ],
   "source": [
    "#top 15\n",
    "contactActivityDetails[['Subject']].value_counts(dropna = False)[0:15]\n",
    "#contactActivityDetails['Subject'].unique()"
   ]
  },
  {
   "cell_type": "code",
   "execution_count": 4,
   "id": "6fdfbfe8-b342-45ad-a798-a90f20aaaffb",
   "metadata": {},
   "outputs": [],
   "source": [
    "member_status = encompassing[['Membership Type','Status']].value_counts()[encompassing[['Membership Type','Status']].value_counts()>10]"
   ]
  },
  {
   "cell_type": "code",
   "execution_count": 20,
   "id": "5618368c-ecec-42a0-b31c-f7552f6949c9",
   "metadata": {},
   "outputs": [
    {
     "data": {
      "text/plain": [
       "pandas.core.series.Series"
      ]
     },
     "execution_count": 20,
     "metadata": {},
     "output_type": "execute_result"
    }
   ],
   "source": [
    "type(member_status)"
   ]
  },
  {
   "cell_type": "code",
   "execution_count": 5,
   "id": "776a553d-713d-4834-b63f-a2a665ff747b",
   "metadata": {},
   "outputs": [],
   "source": [
    "df = member_status.reset_index()"
   ]
  },
  {
   "cell_type": "code",
   "execution_count": 6,
   "id": "1dd03091-6a03-4f10-ab75-a903790dd95c",
   "metadata": {},
   "outputs": [],
   "source": [
    "df2 = df.rename({'Membership Type':'membership_type','Status':'status',0:'count'}, axis = 1)"
   ]
  },
  {
   "cell_type": "code",
   "execution_count": 40,
   "id": "2e04ce85-a512-46d4-8cea-39356a5e3510",
   "metadata": {},
   "outputs": [
    {
     "data": {
      "text/html": [
       "<div>\n",
       "<style scoped>\n",
       "    .dataframe tbody tr th:only-of-type {\n",
       "        vertical-align: middle;\n",
       "    }\n",
       "\n",
       "    .dataframe tbody tr th {\n",
       "        vertical-align: top;\n",
       "    }\n",
       "\n",
       "    .dataframe thead th {\n",
       "        text-align: right;\n",
       "    }\n",
       "</style>\n",
       "<table border=\"1\" class=\"dataframe\">\n",
       "  <thead>\n",
       "    <tr style=\"text-align: right;\">\n",
       "      <th></th>\n",
       "      <th>membership_type</th>\n",
       "      <th>status</th>\n",
       "      <th>count</th>\n",
       "    </tr>\n",
       "  </thead>\n",
       "  <tbody>\n",
       "    <tr>\n",
       "      <th>11</th>\n",
       "      <td>Apple Plan</td>\n",
       "      <td>Deactivated</td>\n",
       "      <td>13</td>\n",
       "    </tr>\n",
       "    <tr>\n",
       "      <th>13</th>\n",
       "      <td>Apple Plan</td>\n",
       "      <td>Cancelled</td>\n",
       "      <td>12</td>\n",
       "    </tr>\n",
       "    <tr>\n",
       "      <th>7</th>\n",
       "      <td>Carrot Plan</td>\n",
       "      <td>Current</td>\n",
       "      <td>28</td>\n",
       "    </tr>\n",
       "    <tr>\n",
       "      <th>9</th>\n",
       "      <td>Carrot Plan</td>\n",
       "      <td>Cancelled</td>\n",
       "      <td>22</td>\n",
       "    </tr>\n",
       "    <tr>\n",
       "      <th>2</th>\n",
       "      <td>Lettuce Plan</td>\n",
       "      <td>Current</td>\n",
       "      <td>112</td>\n",
       "    </tr>\n",
       "    <tr>\n",
       "      <th>6</th>\n",
       "      <td>Lettuce Plan</td>\n",
       "      <td>Cancelled</td>\n",
       "      <td>59</td>\n",
       "    </tr>\n",
       "    <tr>\n",
       "      <th>8</th>\n",
       "      <td>Lettuce Plan</td>\n",
       "      <td>Deactivated</td>\n",
       "      <td>23</td>\n",
       "    </tr>\n",
       "    <tr>\n",
       "      <th>10</th>\n",
       "      <td>Lettuce Plan</td>\n",
       "      <td>New</td>\n",
       "      <td>22</td>\n",
       "    </tr>\n",
       "    <tr>\n",
       "      <th>0</th>\n",
       "      <td>Trial Membership</td>\n",
       "      <td>Expired</td>\n",
       "      <td>1548</td>\n",
       "    </tr>\n",
       "    <tr>\n",
       "      <th>5</th>\n",
       "      <td>Trial Membership</td>\n",
       "      <td>New</td>\n",
       "      <td>71</td>\n",
       "    </tr>\n",
       "    <tr>\n",
       "      <th>1</th>\n",
       "      <td>Zucchini Plan</td>\n",
       "      <td>Cancelled</td>\n",
       "      <td>113</td>\n",
       "    </tr>\n",
       "    <tr>\n",
       "      <th>3</th>\n",
       "      <td>Zucchini Plan</td>\n",
       "      <td>Deactivated</td>\n",
       "      <td>97</td>\n",
       "    </tr>\n",
       "    <tr>\n",
       "      <th>4</th>\n",
       "      <td>Zucchini Plan</td>\n",
       "      <td>Expired</td>\n",
       "      <td>84</td>\n",
       "    </tr>\n",
       "    <tr>\n",
       "      <th>12</th>\n",
       "      <td>Zucchini Plan</td>\n",
       "      <td>Current</td>\n",
       "      <td>12</td>\n",
       "    </tr>\n",
       "    <tr>\n",
       "      <th>14</th>\n",
       "      <td>Zucchini Plan</td>\n",
       "      <td>New</td>\n",
       "      <td>11</td>\n",
       "    </tr>\n",
       "  </tbody>\n",
       "</table>\n",
       "</div>"
      ],
      "text/plain": [
       "     membership_type       status  count\n",
       "11        Apple Plan  Deactivated     13\n",
       "13        Apple Plan    Cancelled     12\n",
       "7        Carrot Plan      Current     28\n",
       "9        Carrot Plan    Cancelled     22\n",
       "2       Lettuce Plan      Current    112\n",
       "6       Lettuce Plan    Cancelled     59\n",
       "8       Lettuce Plan  Deactivated     23\n",
       "10      Lettuce Plan          New     22\n",
       "0   Trial Membership      Expired   1548\n",
       "5   Trial Membership          New     71\n",
       "1      Zucchini Plan    Cancelled    113\n",
       "3      Zucchini Plan  Deactivated     97\n",
       "4      Zucchini Plan      Expired     84\n",
       "12     Zucchini Plan      Current     12\n",
       "14     Zucchini Plan          New     11"
      ]
     },
     "execution_count": 40,
     "metadata": {},
     "output_type": "execute_result"
    }
   ],
   "source": [
    "df2.sort_values('membership_type')"
   ]
  },
  {
   "cell_type": "code",
   "execution_count": 7,
   "id": "99a7173a-f9ae-4f06-92d4-f4e1cb95d600",
   "metadata": {},
   "outputs": [],
   "source": [
    "df_wide = df2.pivot_table( index='membership_type', columns='status', values='count')"
   ]
  },
  {
   "cell_type": "code",
   "execution_count": 12,
   "id": "5e729aaf-08e7-4282-9818-27a9136cadd9",
   "metadata": {},
   "outputs": [
    {
     "data": {
      "text/plain": [
       "Text(0.5, 1.0, 'Heatmap: Membership Type - Status')"
      ]
     },
     "execution_count": 12,
     "metadata": {},
     "output_type": "execute_result"
    },
    {
     "data": {
      "image/png": "[encoded data removed]",
      "text/plain": [
       "<Figure size 720x360 with 2 Axes>"
      ]
     },
     "metadata": {
      "needs_background": "light"
     },
     "output_type": "display_data"
    }
   ],
   "source": [
    "#plt.rcParams['figure.figsize'] = [10, 5]\n",
    "fig, ax = plt.subplots(1, 1, figsize = (10,5))\n",
    "ax = sns.heatmap(df_wide)\n",
    "ax.set_ylabel('Membership Type',fontdict= { 'fontsize': 18})\n",
    "ax.set_xlabel('Status',fontdict= { 'fontsize': 18})\n",
    "ax.set_title('Heatmap: Membership Type - Status', fontdict = {'fontsize':20, 'fontweight':'bold'})"
   ]
  },
  {
   "cell_type": "code",
   "execution_count": 5,
   "id": "039675a9-096d-4209-9de4-db47708f4b75",
   "metadata": {},
   "outputs": [],
   "source": [
    "#remove New to Active subjects as those are irrelevant according to Travis\n",
    "contactActivityDetails_sansNtA=contactActivityDetails.loc[~contactActivityDetails['Subject'].str.contains('New to Active'),]"
   ]
  },
  {
   "cell_type": "code",
   "execution_count": 7,
   "id": "4bcc6435-78bd-4aad-896d-61e4a1a4b93a",
   "metadata": {},
   "outputs": [],
   "source": [
    "#merge encompassing to contactActivityDetails on email of the member; encompassing:contactActivityDetails = 1:many\n",
    "merged_df = pd.merge(encompassing, contactActivityDetails_sansNtA, how = 'left', left_on = 'Email', right_on = 'Target Email')\n",
    "merged_df.sort_values(by = ['Email','Activity Date'],na_position = 'last', inplace = True)"
   ]
  },
  {
   "cell_type": "code",
   "execution_count": 8,
   "id": "0062ff1b-d40e-4e6e-abff-c9f76b5e6f73",
   "metadata": {},
   "outputs": [],
   "source": [
    "#SECOND ITERATION OF merged_df... this one w/o removal of any of the Subject types as there is suspected data loss\n",
    "merged_df2 = pd.merge(encompassing, contactActivityDetails, how = 'left', left_on = 'Email', right_on = 'Target Email')\n",
    "merged_df2.sort_values(by = ['Email','Activity Date'],na_position = 'last', inplace = True)"
   ]
  },
  {
   "cell_type": "code",
   "execution_count": 12,
   "id": "98cf8c42-3d84-4ad8-8fac-8c6756a9823a",
   "metadata": {},
   "outputs": [
    {
     "data": {
      "text/plain": [
       "(2572, 28)"
      ]
     },
     "execution_count": 12,
     "metadata": {},
     "output_type": "execute_result"
    }
   ],
   "source": [
    "merged_df.shape"
   ]
  },
  {
   "cell_type": "code",
   "execution_count": 9,
   "id": "d62f1fcc-2d3f-4ff2-9b97-b9f344a8795c",
   "metadata": {},
   "outputs": [
    {
     "data": {
      "text/plain": [
       "(2004, 12)"
      ]
     },
     "execution_count": 9,
     "metadata": {},
     "output_type": "execute_result"
    }
   ],
   "source": [
    "contactActivityDetails.shape"
   ]
  },
  {
   "cell_type": "code",
   "execution_count": 8,
   "id": "89566f3a-81c3-4a6e-aecd-c2e749eab3e7",
   "metadata": {},
   "outputs": [
    {
     "data": {
      "text/plain": [
       "array(['Trial Membership', 'Zucchini Plan', 'Lettuce Plan', 'Carrot Plan',\n",
       "       'Apple Plan', 'Avocado Plan'], dtype=object)"
      ]
     },
     "execution_count": 8,
     "metadata": {},
     "output_type": "execute_result"
    }
   ],
   "source": [
    "merged_df['Membership Type'].unique()"
   ]
  },
  {
   "cell_type": "code",
   "execution_count": 9,
   "id": "f54c8177-e390-4454-97e6-be2556728645",
   "metadata": {},
   "outputs": [],
   "source": [
    "merged_df['membership_hierarchy'] = merged_df['Membership Type'].replace(['Trial Membership', 'Zucchini Plan', 'Lettuce Plan', 'Carrot Plan',\n",
    "       'Apple Plan', 'Avocado Plan'],[0,1,2,2,2,2])"
   ]
  },
  {
   "cell_type": "code",
   "execution_count": 10,
   "id": "a370bbdc-9f82-4800-8184-8fa88cecb0d6",
   "metadata": {},
   "outputs": [],
   "source": [
    "merged_df2['membership_hierarchy'] = merged_df2['Membership Type'].replace(['Trial Membership', 'Zucchini Plan', 'Lettuce Plan', 'Carrot Plan',\n",
    "       'Apple Plan', 'Avocado Plan'],[0,1,2,2,2,2])"
   ]
  },
  {
   "cell_type": "markdown",
   "id": "98b95598-a4f2-4d1e-86b4-1ee436a707e8",
   "metadata": {},
   "source": [
    "Trying to tell a story of the user journey by looking at events, dates, conversions and status changes"
   ]
  },
  {
   "cell_type": "code",
   "execution_count": 14,
   "id": "347b9ae5-557e-4c34-b5da-fa3970b016c9",
   "metadata": {},
   "outputs": [],
   "source": [
    "merged_df.to_csv('./contacts_encompassing_merged_sansNtA.csv',index = False)"
   ]
  },
  {
   "cell_type": "code",
   "execution_count": 9,
   "id": "72804207-6fe0-4ab0-bd3d-cace74ea8ddb",
   "metadata": {},
   "outputs": [],
   "source": [
    "#analyze the keys (group names, in this case email address) to determine if there was an upgrade of some kind\n",
    "grouped_hier = merged_df.groupby(['Email'])"
   ]
  },
  {
   "cell_type": "code",
   "execution_count": 10,
   "id": "4c920020-c6eb-4de8-8c2b-b06fde6b7c51",
   "metadata": {},
   "outputs": [],
   "source": [
    "groupby_ser = pd.Series(grouped_hier['membership_hierarchy'])"
   ]
  },
  {
   "cell_type": "code",
   "execution_count": 11,
   "id": "228a0dba-5fcc-48fb-b77e-2f7102c61dbb",
   "metadata": {},
   "outputs": [],
   "source": [
    "#store email addresses and hierarchy value in a list... the hierarchy was assigned at the \"replace\" step above\n",
    "hier_list = []\n",
    "email_list = []"
   ]
  },
  {
   "cell_type": "code",
   "execution_count": 12,
   "id": "17a68044-4132-4344-b200-cd3930c902c6",
   "metadata": {},
   "outputs": [],
   "source": [
    "#place this into a list, the pair it to a list of emails to make a dictionary\n",
    "for index, value in groupby_ser.items():\n",
    "    hier_list.append(set(value[1].values))\n",
    "    email_list.append(value[0])"
   ]
  },
  {
   "cell_type": "code",
   "execution_count": 13,
   "id": "e78743a1-8c80-4882-9655-bb3c00ec3d90",
   "metadata": {},
   "outputs": [],
   "source": [
    "#make a dictionary and a data frame of the merged lists\n",
    "res = dict(zip(email_list, hier_list))"
   ]
  },
  {
   "cell_type": "code",
   "execution_count": 6,
   "id": "40f3d8d9-1231-4287-b3b3-d50a3cdffd61",
   "metadata": {},
   "outputs": [],
   "source": [
    "#determine the different journey types posted to the contacts table: first, sort by activity date, will need to account for initial membership type\n",
    "#merged_df.columns"
   ]
  },
  {
   "cell_type": "code",
   "execution_count": 15,
   "id": "27eb87ae-ccce-4b3a-b870-fe4c55c49187",
   "metadata": {},
   "outputs": [],
   "source": [
    "sorted_df = merged_df.sort_values(by=['Email','Activity Date']).reset_index(drop = True)\n",
    "sorted_df2 = merged_df2.sort_values(by=['Email','Activity Date']).reset_index(drop = True)"
   ]
  },
  {
   "cell_type": "code",
   "execution_count": 16,
   "id": "26961f49-5103-4d04-a348-f15bfea1cafa",
   "metadata": {},
   "outputs": [],
   "source": [
    "sorted_df.loc[:,['Email','Activity Date','Subject','Membership Type','Start Date', 'End Date','Status']].to_csv('./sorted_df.csv', index = False)"
   ]
  },
  {
   "cell_type": "code",
   "execution_count": 51,
   "id": "226908ae-bb3e-4453-a6d2-b99ea360db92",
   "metadata": {},
   "outputs": [],
   "source": [
    "sorted_df2.loc[:,['Email','Activity Date','Subject','Membership Type','Start Date', 'End Date','Status']].to_csv('./sorted_df2.csv', index = False)"
   ]
  },
  {
   "cell_type": "markdown",
   "id": "749b91a9-3ee1-4bd7-b97f-a97dc9d249d5",
   "metadata": {},
   "source": [
    "Isolate \n",
    "- members on non-working trial (current)\n",
    "- members on working trial (current)\n",
    "- members on non-working trial that converted (historical)\n",
    "- members on working trial that convereted (historical)\n",
    "- members on non-working trial that did not convert (historical)\n",
    "- members on workig trial that did not convert (historical)\n",
    "- trailing 30-day active full member-owners \n",
    "- trailing 30-day cancelled full member-owners\n",
    "\n",
    "Possible array of status: trial, converted member owner, expired trial, cancelled membership, active member owner. Creating a table of this kind could be a cartesian plane of 365*3*1992 = 2,181,240 (#of historical member owners). Apparently pandas can handle this"
   ]
  },
  {
   "cell_type": "code",
   "execution_count": 26,
   "id": "f6e626bf-280a-4abc-8b2f-9ce514132a8d",
   "metadata": {},
   "outputs": [
    {
     "data": {
      "text/plain": [
       "(1992, 16)"
      ]
     },
     "execution_count": 26,
     "metadata": {},
     "output_type": "execute_result"
    }
   ],
   "source": [
    "encompassing.drop_duplicates(subset = 'Email').shape"
   ]
  },
  {
   "cell_type": "markdown",
   "id": "8940e5a7-559b-4ff4-aced-c0bbd2853c15",
   "metadata": {},
   "source": [
    "Survey the Activty Report; this may be the only table I need"
   ]
  },
  {
   "cell_type": "code",
   "execution_count": 10,
   "id": "7af323cd-4dd6-401e-98fd-c4d0df7ed30d",
   "metadata": {},
   "outputs": [],
   "source": [
    "activityReport.columns = [i.replace(' ','_')+'_act' for i in list(activityReport.columns)]"
   ]
  },
  {
   "cell_type": "code",
   "execution_count": 11,
   "id": "9e39eff9-9eaa-41ae-bec5-91444b7ced71",
   "metadata": {},
   "outputs": [],
   "source": [
    "encompassing.columns = [i.replace(' ','_')+'_enc' for i in list(encompassing.columns)]"
   ]
  },
  {
   "cell_type": "code",
   "execution_count": 7,
   "id": "bf3fff70-b1b1-4537-9ff5-e750e27098d8",
   "metadata": {},
   "outputs": [],
   "source": [
    "#activityReport['Subject'].unique()\n",
    "#print(activityReport.columns)\n",
    "#print(encompassing.columns)"
   ]
  },
  {
   "cell_type": "code",
   "execution_count": 8,
   "id": "def23b8e-af98-45bf-a514-d36657bae713",
   "metadata": {},
   "outputs": [],
   "source": [
    "#extract date portion\n",
    "#print(activityReport.dtypes)\n",
    "#print(encompassing.dtypes)"
   ]
  },
  {
   "cell_type": "code",
   "execution_count": 12,
   "id": "10a1f7c6-0142-488c-ab44-deca82cbee8b",
   "metadata": {},
   "outputs": [],
   "source": [
    "activityReport = activityReport.assign(Activity_Date_DT_act = pd.to_datetime(activityReport['Activity_Date_act'], format = '%Y-%m-%d %H:%M'))"
   ]
  },
  {
   "cell_type": "code",
   "execution_count": 13,
   "id": "fe377c19-504a-4e7e-9aa0-473b1691e997",
   "metadata": {},
   "outputs": [
    {
     "ename": "ValueError",
     "evalue": "time data 1/22/2022 doesn't match format specified",
     "output_type": "error",
     "traceback": [
      "\u001b[1;31m---------------------------------------------------------------------------\u001b[0m",
      "\u001b[1;31mTypeError\u001b[0m                                 Traceback (most recent call last)",
      "File \u001b[1;32m~\\Anaconda3\\lib\\site-packages\\pandas\\core\\arrays\\datetimes.py:2211\u001b[0m, in \u001b[0;36mobjects_to_datetime64ns\u001b[1;34m(data, dayfirst, yearfirst, utc, errors, require_iso8601, allow_object, allow_mixed)\u001b[0m\n\u001b[0;32m   2210\u001b[0m \u001b[38;5;28;01mtry\u001b[39;00m:\n\u001b[1;32m-> 2211\u001b[0m     values, tz_parsed \u001b[38;5;241m=\u001b[39m \u001b[43mconversion\u001b[49m\u001b[38;5;241;43m.\u001b[39;49m\u001b[43mdatetime_to_datetime64\u001b[49m\u001b[43m(\u001b[49m\u001b[43mdata\u001b[49m\u001b[38;5;241;43m.\u001b[39;49m\u001b[43mravel\u001b[49m\u001b[43m(\u001b[49m\u001b[38;5;124;43m\"\u001b[39;49m\u001b[38;5;124;43mK\u001b[39;49m\u001b[38;5;124;43m\"\u001b[39;49m\u001b[43m)\u001b[49m\u001b[43m)\u001b[49m\n\u001b[0;32m   2212\u001b[0m     \u001b[38;5;66;03m# If tzaware, these values represent unix timestamps, so we\u001b[39;00m\n\u001b[0;32m   2213\u001b[0m     \u001b[38;5;66;03m#  return them as i8 to distinguish from wall times\u001b[39;00m\n",
      "File \u001b[1;32m~\\Anaconda3\\lib\\site-packages\\pandas\\_libs\\tslibs\\conversion.pyx:360\u001b[0m, in \u001b[0;36mpandas._libs.tslibs.conversion.datetime_to_datetime64\u001b[1;34m()\u001b[0m\n",
      "\u001b[1;31mTypeError\u001b[0m: Unrecognized value type: <class 'str'>",
      "\nDuring handling of the above exception, another exception occurred:\n",
      "\u001b[1;31mValueError\u001b[0m                                Traceback (most recent call last)",
      "Input \u001b[1;32mIn [13]\u001b[0m, in \u001b[0;36m<cell line: 1>\u001b[1;34m()\u001b[0m\n\u001b[1;32m----> 1\u001b[0m encompassing \u001b[38;5;241m=\u001b[39m encompassing\u001b[38;5;241m.\u001b[39massign(Start_Date_DT_enc \u001b[38;5;241m=\u001b[39m \u001b[43mpd\u001b[49m\u001b[38;5;241;43m.\u001b[39;49m\u001b[43mto_datetime\u001b[49m\u001b[43m(\u001b[49m\u001b[43mencompassing\u001b[49m\u001b[43m[\u001b[49m\u001b[38;5;124;43m'\u001b[39;49m\u001b[38;5;124;43mStart_Date_enc\u001b[39;49m\u001b[38;5;124;43m'\u001b[39;49m\u001b[43m]\u001b[49m\u001b[43m,\u001b[49m\u001b[43m \u001b[49m\u001b[38;5;28;43mformat\u001b[39;49m\u001b[43m \u001b[49m\u001b[38;5;241;43m=\u001b[39;49m\u001b[43m \u001b[49m\u001b[38;5;124;43m'\u001b[39;49m\u001b[38;5;124;43m%\u001b[39;49m\u001b[38;5;124;43mY-\u001b[39;49m\u001b[38;5;124;43m%\u001b[39;49m\u001b[38;5;124;43mm-\u001b[39;49m\u001b[38;5;132;43;01m%d\u001b[39;49;00m\u001b[38;5;124;43m \u001b[39;49m\u001b[38;5;124;43m%\u001b[39;49m\u001b[38;5;124;43mH:\u001b[39;49m\u001b[38;5;124;43m%\u001b[39;49m\u001b[38;5;124;43mM\u001b[39;49m\u001b[38;5;124;43m'\u001b[39;49m\u001b[43m)\u001b[49m, Date_Received_DT_enc \u001b[38;5;241m=\u001b[39m pd\u001b[38;5;241m.\u001b[39mto_datetime(encompassing[\u001b[38;5;124m'\u001b[39m\u001b[38;5;124mDate_Received_enc\u001b[39m\u001b[38;5;124m'\u001b[39m], \u001b[38;5;28mformat\u001b[39m \u001b[38;5;241m=\u001b[39m \u001b[38;5;124m'\u001b[39m\u001b[38;5;124m%\u001b[39m\u001b[38;5;124mY-\u001b[39m\u001b[38;5;124m%\u001b[39m\u001b[38;5;124mm-\u001b[39m\u001b[38;5;132;01m%d\u001b[39;00m\u001b[38;5;124m \u001b[39m\u001b[38;5;124m%\u001b[39m\u001b[38;5;124mH:\u001b[39m\u001b[38;5;124m%\u001b[39m\u001b[38;5;124mM\u001b[39m\u001b[38;5;124m'\u001b[39m))\n",
      "File \u001b[1;32m~\\Anaconda3\\lib\\site-packages\\pandas\\core\\tools\\datetimes.py:1051\u001b[0m, in \u001b[0;36mto_datetime\u001b[1;34m(arg, errors, dayfirst, yearfirst, utc, format, exact, unit, infer_datetime_format, origin, cache)\u001b[0m\n\u001b[0;32m   1049\u001b[0m         result \u001b[38;5;241m=\u001b[39m arg\u001b[38;5;241m.\u001b[39mmap(cache_array)\n\u001b[0;32m   1050\u001b[0m     \u001b[38;5;28;01melse\u001b[39;00m:\n\u001b[1;32m-> 1051\u001b[0m         values \u001b[38;5;241m=\u001b[39m \u001b[43mconvert_listlike\u001b[49m\u001b[43m(\u001b[49m\u001b[43marg\u001b[49m\u001b[38;5;241;43m.\u001b[39;49m\u001b[43m_values\u001b[49m\u001b[43m,\u001b[49m\u001b[43m \u001b[49m\u001b[38;5;28;43mformat\u001b[39;49m\u001b[43m)\u001b[49m\n\u001b[0;32m   1052\u001b[0m         result \u001b[38;5;241m=\u001b[39m arg\u001b[38;5;241m.\u001b[39m_constructor(values, index\u001b[38;5;241m=\u001b[39marg\u001b[38;5;241m.\u001b[39mindex, name\u001b[38;5;241m=\u001b[39marg\u001b[38;5;241m.\u001b[39mname)\n\u001b[0;32m   1053\u001b[0m \u001b[38;5;28;01melif\u001b[39;00m \u001b[38;5;28misinstance\u001b[39m(arg, (ABCDataFrame, abc\u001b[38;5;241m.\u001b[39mMutableMapping)):\n",
      "File \u001b[1;32m~\\Anaconda3\\lib\\site-packages\\pandas\\core\\tools\\datetimes.py:402\u001b[0m, in \u001b[0;36m_convert_listlike_datetimes\u001b[1;34m(arg, format, name, tz, unit, errors, infer_datetime_format, dayfirst, yearfirst, exact)\u001b[0m\n\u001b[0;32m    400\u001b[0m \u001b[38;5;28;01massert\u001b[39;00m \u001b[38;5;28mformat\u001b[39m \u001b[38;5;129;01mis\u001b[39;00m \u001b[38;5;28;01mNone\u001b[39;00m \u001b[38;5;129;01mor\u001b[39;00m infer_datetime_format\n\u001b[0;32m    401\u001b[0m utc \u001b[38;5;241m=\u001b[39m tz \u001b[38;5;241m==\u001b[39m \u001b[38;5;124m\"\u001b[39m\u001b[38;5;124mutc\u001b[39m\u001b[38;5;124m\"\u001b[39m\n\u001b[1;32m--> 402\u001b[0m result, tz_parsed \u001b[38;5;241m=\u001b[39m \u001b[43mobjects_to_datetime64ns\u001b[49m\u001b[43m(\u001b[49m\n\u001b[0;32m    403\u001b[0m \u001b[43m    \u001b[49m\u001b[43marg\u001b[49m\u001b[43m,\u001b[49m\n\u001b[0;32m    404\u001b[0m \u001b[43m    \u001b[49m\u001b[43mdayfirst\u001b[49m\u001b[38;5;241;43m=\u001b[39;49m\u001b[43mdayfirst\u001b[49m\u001b[43m,\u001b[49m\n\u001b[0;32m    405\u001b[0m \u001b[43m    \u001b[49m\u001b[43myearfirst\u001b[49m\u001b[38;5;241;43m=\u001b[39;49m\u001b[43myearfirst\u001b[49m\u001b[43m,\u001b[49m\n\u001b[0;32m    406\u001b[0m \u001b[43m    \u001b[49m\u001b[43mutc\u001b[49m\u001b[38;5;241;43m=\u001b[39;49m\u001b[43mutc\u001b[49m\u001b[43m,\u001b[49m\n\u001b[0;32m    407\u001b[0m \u001b[43m    \u001b[49m\u001b[43merrors\u001b[49m\u001b[38;5;241;43m=\u001b[39;49m\u001b[43merrors\u001b[49m\u001b[43m,\u001b[49m\n\u001b[0;32m    408\u001b[0m \u001b[43m    \u001b[49m\u001b[43mrequire_iso8601\u001b[49m\u001b[38;5;241;43m=\u001b[39;49m\u001b[43mrequire_iso8601\u001b[49m\u001b[43m,\u001b[49m\n\u001b[0;32m    409\u001b[0m \u001b[43m    \u001b[49m\u001b[43mallow_object\u001b[49m\u001b[38;5;241;43m=\u001b[39;49m\u001b[38;5;28;43;01mTrue\u001b[39;49;00m\u001b[43m,\u001b[49m\n\u001b[0;32m    410\u001b[0m \u001b[43m\u001b[49m\u001b[43m)\u001b[49m\n\u001b[0;32m    412\u001b[0m \u001b[38;5;28;01mif\u001b[39;00m tz_parsed \u001b[38;5;129;01mis\u001b[39;00m \u001b[38;5;129;01mnot\u001b[39;00m \u001b[38;5;28;01mNone\u001b[39;00m:\n\u001b[0;32m    413\u001b[0m     \u001b[38;5;66;03m# We can take a shortcut since the datetime64 numpy array\u001b[39;00m\n\u001b[0;32m    414\u001b[0m     \u001b[38;5;66;03m# is in UTC\u001b[39;00m\n\u001b[0;32m    415\u001b[0m     dta \u001b[38;5;241m=\u001b[39m DatetimeArray(result, dtype\u001b[38;5;241m=\u001b[39mtz_to_dtype(tz_parsed))\n",
      "File \u001b[1;32m~\\Anaconda3\\lib\\site-packages\\pandas\\core\\arrays\\datetimes.py:2217\u001b[0m, in \u001b[0;36mobjects_to_datetime64ns\u001b[1;34m(data, dayfirst, yearfirst, utc, errors, require_iso8601, allow_object, allow_mixed)\u001b[0m\n\u001b[0;32m   2215\u001b[0m         \u001b[38;5;28;01mreturn\u001b[39;00m values\u001b[38;5;241m.\u001b[39mview(\u001b[38;5;124m\"\u001b[39m\u001b[38;5;124mi8\u001b[39m\u001b[38;5;124m\"\u001b[39m), tz_parsed\n\u001b[0;32m   2216\u001b[0m     \u001b[38;5;28;01mexcept\u001b[39;00m (\u001b[38;5;167;01mValueError\u001b[39;00m, \u001b[38;5;167;01mTypeError\u001b[39;00m):\n\u001b[1;32m-> 2217\u001b[0m         \u001b[38;5;28;01mraise\u001b[39;00m err\n\u001b[0;32m   2219\u001b[0m \u001b[38;5;28;01mif\u001b[39;00m tz_parsed \u001b[38;5;129;01mis\u001b[39;00m \u001b[38;5;129;01mnot\u001b[39;00m \u001b[38;5;28;01mNone\u001b[39;00m:\n\u001b[0;32m   2220\u001b[0m     \u001b[38;5;66;03m# We can take a shortcut since the datetime64 numpy array\u001b[39;00m\n\u001b[0;32m   2221\u001b[0m     \u001b[38;5;66;03m#  is in UTC\u001b[39;00m\n\u001b[0;32m   2222\u001b[0m     \u001b[38;5;66;03m# Return i8 values to denote unix timestamps\u001b[39;00m\n\u001b[0;32m   2223\u001b[0m     \u001b[38;5;28;01mreturn\u001b[39;00m result\u001b[38;5;241m.\u001b[39mview(\u001b[38;5;124m\"\u001b[39m\u001b[38;5;124mi8\u001b[39m\u001b[38;5;124m\"\u001b[39m), tz_parsed\n",
      "File \u001b[1;32m~\\Anaconda3\\lib\\site-packages\\pandas\\core\\arrays\\datetimes.py:2199\u001b[0m, in \u001b[0;36mobjects_to_datetime64ns\u001b[1;34m(data, dayfirst, yearfirst, utc, errors, require_iso8601, allow_object, allow_mixed)\u001b[0m\n\u001b[0;32m   2197\u001b[0m order: Literal[\u001b[38;5;124m\"\u001b[39m\u001b[38;5;124mF\u001b[39m\u001b[38;5;124m\"\u001b[39m, \u001b[38;5;124m\"\u001b[39m\u001b[38;5;124mC\u001b[39m\u001b[38;5;124m\"\u001b[39m] \u001b[38;5;241m=\u001b[39m \u001b[38;5;124m\"\u001b[39m\u001b[38;5;124mF\u001b[39m\u001b[38;5;124m\"\u001b[39m \u001b[38;5;28;01mif\u001b[39;00m flags\u001b[38;5;241m.\u001b[39mf_contiguous \u001b[38;5;28;01melse\u001b[39;00m \u001b[38;5;124m\"\u001b[39m\u001b[38;5;124mC\u001b[39m\u001b[38;5;124m\"\u001b[39m\n\u001b[0;32m   2198\u001b[0m \u001b[38;5;28;01mtry\u001b[39;00m:\n\u001b[1;32m-> 2199\u001b[0m     result, tz_parsed \u001b[38;5;241m=\u001b[39m \u001b[43mtslib\u001b[49m\u001b[38;5;241;43m.\u001b[39;49m\u001b[43marray_to_datetime\u001b[49m\u001b[43m(\u001b[49m\n\u001b[0;32m   2200\u001b[0m \u001b[43m        \u001b[49m\u001b[43mdata\u001b[49m\u001b[38;5;241;43m.\u001b[39;49m\u001b[43mravel\u001b[49m\u001b[43m(\u001b[49m\u001b[38;5;124;43m\"\u001b[39;49m\u001b[38;5;124;43mK\u001b[39;49m\u001b[38;5;124;43m\"\u001b[39;49m\u001b[43m)\u001b[49m\u001b[43m,\u001b[49m\n\u001b[0;32m   2201\u001b[0m \u001b[43m        \u001b[49m\u001b[43merrors\u001b[49m\u001b[38;5;241;43m=\u001b[39;49m\u001b[43merrors\u001b[49m\u001b[43m,\u001b[49m\n\u001b[0;32m   2202\u001b[0m \u001b[43m        \u001b[49m\u001b[43mutc\u001b[49m\u001b[38;5;241;43m=\u001b[39;49m\u001b[43mutc\u001b[49m\u001b[43m,\u001b[49m\n\u001b[0;32m   2203\u001b[0m \u001b[43m        \u001b[49m\u001b[43mdayfirst\u001b[49m\u001b[38;5;241;43m=\u001b[39;49m\u001b[43mdayfirst\u001b[49m\u001b[43m,\u001b[49m\n\u001b[0;32m   2204\u001b[0m \u001b[43m        \u001b[49m\u001b[43myearfirst\u001b[49m\u001b[38;5;241;43m=\u001b[39;49m\u001b[43myearfirst\u001b[49m\u001b[43m,\u001b[49m\n\u001b[0;32m   2205\u001b[0m \u001b[43m        \u001b[49m\u001b[43mrequire_iso8601\u001b[49m\u001b[38;5;241;43m=\u001b[39;49m\u001b[43mrequire_iso8601\u001b[49m\u001b[43m,\u001b[49m\n\u001b[0;32m   2206\u001b[0m \u001b[43m        \u001b[49m\u001b[43mallow_mixed\u001b[49m\u001b[38;5;241;43m=\u001b[39;49m\u001b[43mallow_mixed\u001b[49m\u001b[43m,\u001b[49m\n\u001b[0;32m   2207\u001b[0m \u001b[43m    \u001b[49m\u001b[43m)\u001b[49m\n\u001b[0;32m   2208\u001b[0m     result \u001b[38;5;241m=\u001b[39m result\u001b[38;5;241m.\u001b[39mreshape(data\u001b[38;5;241m.\u001b[39mshape, order\u001b[38;5;241m=\u001b[39morder)\n\u001b[0;32m   2209\u001b[0m \u001b[38;5;28;01mexcept\u001b[39;00m \u001b[38;5;167;01mValueError\u001b[39;00m \u001b[38;5;28;01mas\u001b[39;00m err:\n",
      "File \u001b[1;32m~\\Anaconda3\\lib\\site-packages\\pandas\\_libs\\tslib.pyx:381\u001b[0m, in \u001b[0;36mpandas._libs.tslib.array_to_datetime\u001b[1;34m()\u001b[0m\n",
      "File \u001b[1;32m~\\Anaconda3\\lib\\site-packages\\pandas\\_libs\\tslib.pyx:530\u001b[0m, in \u001b[0;36mpandas._libs.tslib.array_to_datetime\u001b[1;34m()\u001b[0m\n",
      "\u001b[1;31mValueError\u001b[0m: time data 1/22/2022 doesn't match format specified"
     ]
    }
   ],
   "source": [
    "encompassing = encompassing.assign(Start_Date_DT_enc = pd.to_datetime(encompassing['Start_Date_enc'], format = '%Y-%m-%d %H:%M'), Date_Received_DT_enc = pd.to_datetime(encompassing['Date_Received_enc'], format = '%Y-%m-%d %H:%M'))"
   ]
  },
  {
   "cell_type": "code",
   "execution_count": 14,
   "id": "8ac2dac9-22e6-4335-8431-3d1100f5c4d4",
   "metadata": {},
   "outputs": [
    {
     "ename": "KeyError",
     "evalue": "'Start_Date_DT_enc'",
     "output_type": "error",
     "traceback": [
      "\u001b[1;31m---------------------------------------------------------------------------\u001b[0m",
      "\u001b[1;31mKeyError\u001b[0m                                  Traceback (most recent call last)",
      "File \u001b[1;32m~\\Anaconda3\\lib\\site-packages\\pandas\\core\\indexes\\base.py:3621\u001b[0m, in \u001b[0;36mIndex.get_loc\u001b[1;34m(self, key, method, tolerance)\u001b[0m\n\u001b[0;32m   3620\u001b[0m \u001b[38;5;28;01mtry\u001b[39;00m:\n\u001b[1;32m-> 3621\u001b[0m     \u001b[38;5;28;01mreturn\u001b[39;00m \u001b[38;5;28;43mself\u001b[39;49m\u001b[38;5;241;43m.\u001b[39;49m\u001b[43m_engine\u001b[49m\u001b[38;5;241;43m.\u001b[39;49m\u001b[43mget_loc\u001b[49m\u001b[43m(\u001b[49m\u001b[43mcasted_key\u001b[49m\u001b[43m)\u001b[49m\n\u001b[0;32m   3622\u001b[0m \u001b[38;5;28;01mexcept\u001b[39;00m \u001b[38;5;167;01mKeyError\u001b[39;00m \u001b[38;5;28;01mas\u001b[39;00m err:\n",
      "File \u001b[1;32m~\\Anaconda3\\lib\\site-packages\\pandas\\_libs\\index.pyx:136\u001b[0m, in \u001b[0;36mpandas._libs.index.IndexEngine.get_loc\u001b[1;34m()\u001b[0m\n",
      "File \u001b[1;32m~\\Anaconda3\\lib\\site-packages\\pandas\\_libs\\index.pyx:163\u001b[0m, in \u001b[0;36mpandas._libs.index.IndexEngine.get_loc\u001b[1;34m()\u001b[0m\n",
      "File \u001b[1;32mpandas\\_libs\\hashtable_class_helper.pxi:5198\u001b[0m, in \u001b[0;36mpandas._libs.hashtable.PyObjectHashTable.get_item\u001b[1;34m()\u001b[0m\n",
      "File \u001b[1;32mpandas\\_libs\\hashtable_class_helper.pxi:5206\u001b[0m, in \u001b[0;36mpandas._libs.hashtable.PyObjectHashTable.get_item\u001b[1;34m()\u001b[0m\n",
      "\u001b[1;31mKeyError\u001b[0m: 'Start_Date_DT_enc'",
      "\nThe above exception was the direct cause of the following exception:\n",
      "\u001b[1;31mKeyError\u001b[0m                                  Traceback (most recent call last)",
      "Input \u001b[1;32mIn [14]\u001b[0m, in \u001b[0;36m<cell line: 1>\u001b[1;34m()\u001b[0m\n\u001b[1;32m----> 1\u001b[0m encompassing \u001b[38;5;241m=\u001b[39m encompassing\u001b[38;5;241m.\u001b[39massign(Start_Date_DT_enc \u001b[38;5;241m=\u001b[39m \u001b[43mencompassing\u001b[49m\u001b[43m[\u001b[49m\u001b[38;5;124;43m'\u001b[39;49m\u001b[38;5;124;43mStart_Date_DT_enc\u001b[39;49m\u001b[38;5;124;43m'\u001b[39;49m\u001b[43m]\u001b[49m\u001b[38;5;241m.\u001b[39mdt\u001b[38;5;241m.\u001b[39mdate, Date_Received_DT_enc \u001b[38;5;241m=\u001b[39m encompassing[\u001b[38;5;124m'\u001b[39m\u001b[38;5;124mStart_Date_DT_enc\u001b[39m\u001b[38;5;124m'\u001b[39m]\u001b[38;5;241m.\u001b[39mdt\u001b[38;5;241m.\u001b[39mdate)\n",
      "File \u001b[1;32m~\\Anaconda3\\lib\\site-packages\\pandas\\core\\frame.py:3505\u001b[0m, in \u001b[0;36mDataFrame.__getitem__\u001b[1;34m(self, key)\u001b[0m\n\u001b[0;32m   3503\u001b[0m \u001b[38;5;28;01mif\u001b[39;00m \u001b[38;5;28mself\u001b[39m\u001b[38;5;241m.\u001b[39mcolumns\u001b[38;5;241m.\u001b[39mnlevels \u001b[38;5;241m>\u001b[39m \u001b[38;5;241m1\u001b[39m:\n\u001b[0;32m   3504\u001b[0m     \u001b[38;5;28;01mreturn\u001b[39;00m \u001b[38;5;28mself\u001b[39m\u001b[38;5;241m.\u001b[39m_getitem_multilevel(key)\n\u001b[1;32m-> 3505\u001b[0m indexer \u001b[38;5;241m=\u001b[39m \u001b[38;5;28;43mself\u001b[39;49m\u001b[38;5;241;43m.\u001b[39;49m\u001b[43mcolumns\u001b[49m\u001b[38;5;241;43m.\u001b[39;49m\u001b[43mget_loc\u001b[49m\u001b[43m(\u001b[49m\u001b[43mkey\u001b[49m\u001b[43m)\u001b[49m\n\u001b[0;32m   3506\u001b[0m \u001b[38;5;28;01mif\u001b[39;00m is_integer(indexer):\n\u001b[0;32m   3507\u001b[0m     indexer \u001b[38;5;241m=\u001b[39m [indexer]\n",
      "File \u001b[1;32m~\\Anaconda3\\lib\\site-packages\\pandas\\core\\indexes\\base.py:3623\u001b[0m, in \u001b[0;36mIndex.get_loc\u001b[1;34m(self, key, method, tolerance)\u001b[0m\n\u001b[0;32m   3621\u001b[0m     \u001b[38;5;28;01mreturn\u001b[39;00m \u001b[38;5;28mself\u001b[39m\u001b[38;5;241m.\u001b[39m_engine\u001b[38;5;241m.\u001b[39mget_loc(casted_key)\n\u001b[0;32m   3622\u001b[0m \u001b[38;5;28;01mexcept\u001b[39;00m \u001b[38;5;167;01mKeyError\u001b[39;00m \u001b[38;5;28;01mas\u001b[39;00m err:\n\u001b[1;32m-> 3623\u001b[0m     \u001b[38;5;28;01mraise\u001b[39;00m \u001b[38;5;167;01mKeyError\u001b[39;00m(key) \u001b[38;5;28;01mfrom\u001b[39;00m \u001b[38;5;21;01merr\u001b[39;00m\n\u001b[0;32m   3624\u001b[0m \u001b[38;5;28;01mexcept\u001b[39;00m \u001b[38;5;167;01mTypeError\u001b[39;00m:\n\u001b[0;32m   3625\u001b[0m     \u001b[38;5;66;03m# If we have a listlike key, _check_indexing_error will raise\u001b[39;00m\n\u001b[0;32m   3626\u001b[0m     \u001b[38;5;66;03m#  InvalidIndexError. Otherwise we fall through and re-raise\u001b[39;00m\n\u001b[0;32m   3627\u001b[0m     \u001b[38;5;66;03m#  the TypeError.\u001b[39;00m\n\u001b[0;32m   3628\u001b[0m     \u001b[38;5;28mself\u001b[39m\u001b[38;5;241m.\u001b[39m_check_indexing_error(key)\n",
      "\u001b[1;31mKeyError\u001b[0m: 'Start_Date_DT_enc'"
     ]
    }
   ],
   "source": [
    "encompassing = encompassing.assign(Start_Date_DT_enc = encompassing['Start_Date_DT_enc'].dt.date, Date_Received_DT_enc = encompassing['Start_Date_DT_enc'].dt.date)"
   ]
  },
  {
   "cell_type": "code",
   "execution_count": 15,
   "id": "9e4e144c-e7f9-4303-aab9-5812e195b2e3",
   "metadata": {},
   "outputs": [],
   "source": [
    "activityReport = activityReport.assign(Activity_Date_DT_act = activityReport['Activity_Date_DT_act'].dt.date)"
   ]
  },
  {
   "cell_type": "code",
   "execution_count": 45,
   "id": "34c04321-31d1-4fab-893b-bef43e333f90",
   "metadata": {},
   "outputs": [],
   "source": [
    "#first merge test\n",
    "# , how = 'left', left_on = 'Email', right_on = 'Target Email'\n",
    "first_merge = pd.merge(activityReport,encompassing, how = 'right', left_on = ['Target_Email','Activity_Date_DT'], right_on = ['Email','Start_Date_DT'])"
   ]
  },
  {
   "cell_type": "code",
   "execution_count": 48,
   "id": "0e3dc470-658f-4c06-adcd-5da909f5dcf3",
   "metadata": {},
   "outputs": [
    {
     "data": {
      "text/plain": [
       "False    2095\n",
       "True      230\n",
       "Name: Source_Email, dtype: int64"
      ]
     },
     "execution_count": 48,
     "metadata": {},
     "output_type": "execute_result"
    }
   ],
   "source": [
    "first_merge['Source_Email'].isna().value_counts()"
   ]
  },
  {
   "cell_type": "code",
   "execution_count": 50,
   "id": "138cdd26-95f6-4aca-96e5-50e1749c18b5",
   "metadata": {},
   "outputs": [
    {
     "data": {
      "text/plain": [
       "True     5594\n",
       "False    2095\n",
       "Name: Email, dtype: int64"
      ]
     },
     "execution_count": 50,
     "metadata": {},
     "output_type": "execute_result"
    }
   ],
   "source": [
    "second_merge = pd.merge(activityReport,encompassing, how = 'left', left_on = ['Target_Email','Activity_Date_DT'], right_on = ['Email','Start_Date_DT'])\n",
    "second_merge['Email'].isna().value_counts()"
   ]
  },
  {
   "cell_type": "code",
   "execution_count": 65,
   "id": "be74fb28-624b-44c8-8f87-21d5ac349367",
   "metadata": {},
   "outputs": [
    {
     "data": {
      "text/plain": [
       "True     5594\n",
       "False    2095\n",
       "Name: Email_enc, dtype: int64"
      ]
     },
     "execution_count": 65,
     "metadata": {},
     "output_type": "execute_result"
    }
   ],
   "source": [
    "third_merge = pd.merge(activityReport,encompassing, how = 'left', left_on = ['Target_Email_act','Activity_Date_DT_act'], right_on = ['Email_enc','Date_Received_DT_enc'])\n",
    "third_merge['Email_enc'].isna().value_counts()"
   ]
  },
  {
   "cell_type": "code",
   "execution_count": 77,
   "id": "21be34eb-7d9a-44bb-b78d-9ddd0cff784f",
   "metadata": {},
   "outputs": [],
   "source": [
    "third_merge.loc[:,['Target_Email_act','Activity_Type_act','Subject_act','Activity_Date_DT_act','Membership_Type_enc','Status_enc','Start_Date_DT_enc','End_Date_enc','Email_enc','Date_Received_DT_enc']].sort_values(by = ['Target_Email_act','Activity_Date_DT_act']).to_csv('./mergeMiami.csv',index = False)"
   ]
  },
  {
   "cell_type": "markdown",
   "id": "ebfcf8fc-ec14-4820-b85c-f8b2132c7345",
   "metadata": {},
   "source": [
    "third_merge is good, except: \n",
    "1) I need to turn the join into a full outer join to capture non-corresponding date records btwn the two dataframes\n",
    "2) I may be missing some data from 'select_activity_report.csv'... an exemplary case is email: aatiell@gmail.com... this person signed up for a Lettuce acct but this only appears in the 'all encompassing' file. *Discovered with Travis that Target_Email_act may be the key to relating all relevant activity by user: selectively refer to email accounts in this field in order to properly merge with the \"encompassing\" table. A selective reference is necessary as the original foreign key was \"Target_Email_act\" and this is unreliable in cases of blanks/nulls"
   ]
  },
  {
   "cell_type": "code",
   "execution_count": 16,
   "id": "66fa264d-aca2-487b-bc86-d1cbb9e500e4",
   "metadata": {},
   "outputs": [],
   "source": [
    "activityReport = activityReport.assign(email_grouping = activityReport.apply(lambda x: x['Target_Email_act'] if re.match('admin@greenehillfood.coop|it@greenehillfood.coop', x['Source_Email_act']) else x['Source_Email_act'], axis = 1))"
   ]
  },
  {
   "cell_type": "code",
   "execution_count": 18,
   "id": "01599861-8007-47b0-a972-592a096f872e",
   "metadata": {},
   "outputs": [
    {
     "data": {
      "text/html": [
       "<div>\n",
       "<style scoped>\n",
       "    .dataframe tbody tr th:only-of-type {\n",
       "        vertical-align: middle;\n",
       "    }\n",
       "\n",
       "    .dataframe tbody tr th {\n",
       "        vertical-align: top;\n",
       "    }\n",
       "\n",
       "    .dataframe thead th {\n",
       "        text-align: right;\n",
       "    }\n",
       "</style>\n",
       "<table border=\"1\" class=\"dataframe\">\n",
       "  <thead>\n",
       "    <tr style=\"text-align: right;\">\n",
       "      <th></th>\n",
       "      <th>Assignee_Name_act</th>\n",
       "      <th>Target_Name_act</th>\n",
       "      <th>Source_Email_act</th>\n",
       "      <th>Target_Email_act</th>\n",
       "      <th>Activity_Type_act</th>\n",
       "      <th>Subject_act</th>\n",
       "      <th>Activity_Date_act</th>\n",
       "      <th>Activity_Status_act</th>\n",
       "      <th>Activity_Details_act</th>\n",
       "      <th>Activity_Date_DT_act</th>\n",
       "      <th>email_grouping</th>\n",
       "    </tr>\n",
       "  </thead>\n",
       "  <tbody>\n",
       "    <tr>\n",
       "      <th>5575</th>\n",
       "      <td>NaN</td>\n",
       "      <td>Agustin Tiell, Alba</td>\n",
       "      <td>aatiell@gmail.com</td>\n",
       "      <td>aatiell@gmail.com</td>\n",
       "      <td>Membership Signup</td>\n",
       "      <td>Zucchini Plan - Trial Plan Application - Statu...</td>\n",
       "      <td>2021-12-12 09:44</td>\n",
       "      <td>Completed</td>\n",
       "      <td>NaN</td>\n",
       "      <td>2021-12-12</td>\n",
       "      <td>aatiell@gmail.com</td>\n",
       "    </tr>\n",
       "    <tr>\n",
       "      <th>5979</th>\n",
       "      <td>NaN</td>\n",
       "      <td>Agustin Tiell, Alba</td>\n",
       "      <td>admin@greenehillfood.coop</td>\n",
       "      <td>aatiell@gmail.com</td>\n",
       "      <td>Change Membership Status</td>\n",
       "      <td>Status changed from New to Active</td>\n",
       "      <td>2022-02-11 01:54</td>\n",
       "      <td>Completed</td>\n",
       "      <td>NaN</td>\n",
       "      <td>2022-02-11</td>\n",
       "      <td>aatiell@gmail.com</td>\n",
       "    </tr>\n",
       "    <tr>\n",
       "      <th>6877</th>\n",
       "      <td>NaN</td>\n",
       "      <td>Agustin Tiell, Alba</td>\n",
       "      <td>admin@greenehillfood.coop</td>\n",
       "      <td>aatiell@gmail.com</td>\n",
       "      <td>Change Membership Status</td>\n",
       "      <td>Status changed from Active to Expired</td>\n",
       "      <td>2022-06-11 02:54</td>\n",
       "      <td>Completed</td>\n",
       "      <td>NaN</td>\n",
       "      <td>2022-06-11</td>\n",
       "      <td>aatiell@gmail.com</td>\n",
       "    </tr>\n",
       "    <tr>\n",
       "      <th>6953</th>\n",
       "      <td>NaN</td>\n",
       "      <td>NaN</td>\n",
       "      <td>aatiell@gmail.com</td>\n",
       "      <td>NaN</td>\n",
       "      <td>Change Membership Status</td>\n",
       "      <td>Status changed from Expired to Active</td>\n",
       "      <td>2022-06-27 10:25</td>\n",
       "      <td>Completed</td>\n",
       "      <td>NaN</td>\n",
       "      <td>2022-06-27</td>\n",
       "      <td>aatiell@gmail.com</td>\n",
       "    </tr>\n",
       "    <tr>\n",
       "      <th>6954</th>\n",
       "      <td>NaN</td>\n",
       "      <td>NaN</td>\n",
       "      <td>aatiell@gmail.com</td>\n",
       "      <td>NaN</td>\n",
       "      <td>Change Membership Type</td>\n",
       "      <td>Type changed from Zucchini Plan to Lettuce Plan</td>\n",
       "      <td>2022-06-27 10:25</td>\n",
       "      <td>Completed</td>\n",
       "      <td>NaN</td>\n",
       "      <td>2022-06-27</td>\n",
       "      <td>aatiell@gmail.com</td>\n",
       "    </tr>\n",
       "  </tbody>\n",
       "</table>\n",
       "</div>"
      ],
      "text/plain": [
       "      Assignee_Name_act      Target_Name_act           Source_Email_act  \\\n",
       "5575                NaN  Agustin Tiell, Alba          aatiell@gmail.com   \n",
       "5979                NaN  Agustin Tiell, Alba  admin@greenehillfood.coop   \n",
       "6877                NaN  Agustin Tiell, Alba  admin@greenehillfood.coop   \n",
       "6953                NaN                  NaN          aatiell@gmail.com   \n",
       "6954                NaN                  NaN          aatiell@gmail.com   \n",
       "\n",
       "       Target_Email_act         Activity_Type_act  \\\n",
       "5575  aatiell@gmail.com         Membership Signup   \n",
       "5979  aatiell@gmail.com  Change Membership Status   \n",
       "6877  aatiell@gmail.com  Change Membership Status   \n",
       "6953                NaN  Change Membership Status   \n",
       "6954                NaN    Change Membership Type   \n",
       "\n",
       "                                            Subject_act Activity_Date_act  \\\n",
       "5575  Zucchini Plan - Trial Plan Application - Statu...  2021-12-12 09:44   \n",
       "5979                  Status changed from New to Active  2022-02-11 01:54   \n",
       "6877              Status changed from Active to Expired  2022-06-11 02:54   \n",
       "6953              Status changed from Expired to Active  2022-06-27 10:25   \n",
       "6954    Type changed from Zucchini Plan to Lettuce Plan  2022-06-27 10:25   \n",
       "\n",
       "     Activity_Status_act  Activity_Details_act Activity_Date_DT_act  \\\n",
       "5575           Completed                   NaN           2021-12-12   \n",
       "5979           Completed                   NaN           2022-02-11   \n",
       "6877           Completed                   NaN           2022-06-11   \n",
       "6953           Completed                   NaN           2022-06-27   \n",
       "6954           Completed                   NaN           2022-06-27   \n",
       "\n",
       "         email_grouping  \n",
       "5575  aatiell@gmail.com  \n",
       "5979  aatiell@gmail.com  \n",
       "6877  aatiell@gmail.com  \n",
       "6953  aatiell@gmail.com  \n",
       "6954  aatiell@gmail.com  "
      ]
     },
     "execution_count": 18,
     "metadata": {},
     "output_type": "execute_result"
    }
   ],
   "source": [
    "activityReport.loc[activityReport['email_grouping']=='aatiell@gmail.com',:].sort_values(by = 'Activity_Date_DT_act')"
   ]
  },
  {
   "cell_type": "code",
   "execution_count": 30,
   "id": "fe8b0528-e7f0-4b55-87b6-5fe61086ebd1",
   "metadata": {},
   "outputs": [],
   "source": [
    "activityReport.loc[:,['Activity_Type_act', 'Subject_act',\n",
    "       'Activity_Date_act', 'Activity_Status_act', 'Activity_Details_act',\n",
    "       'Activity_Date_DT_act','email_grouping']].sort_values(by = ['email_grouping','Activity_Date_DT_act']).to_csv('./activityReportsNormalized.csv', index = False)"
   ]
  },
  {
   "cell_type": "markdown",
   "id": "60d276ef-9dff-4be2-a5cc-70742268d74c",
   "metadata": {},
   "source": [
    "Thinking about establishing a hierarchy to label the predominating status of ea member at a moment in time, this will involve ignoring some activities like trial expirations when a higher trial (Zucchini) was been invoked.\n",
    "There are two types of relevant activities: change in membership types (including signups) and status changes: cancellations, expirations, general leave, etc"
   ]
  },
  {
   "cell_type": "markdown",
   "id": "6211d4ac-0e4d-41b1-928a-b34ca070904e",
   "metadata": {},
   "source": [
    "Other idea: 1) select for pertinent (or irrelevant Subject_act values). 2) Establish a lookback of the last two activity types to gauge the journey step at each row\n",
    "\n",
    "ELABORATION\n",
    "1) appears as though \"Status changed from Expired to Active' and 'Status changed from New to Active' can be removed\n",
    "2) pandas groupby: shift(-1) and shift(-2); I have the option of creating functions or even a class for this work"
   ]
  },
  {
   "cell_type": "code",
   "execution_count": 38,
   "id": "b663d246-7bf9-486b-acb0-af43700318a0",
   "metadata": {},
   "outputs": [],
   "source": [
    "#take a look at the permutations of some field values\n",
    "groups = activityReport.groupby('Activity_Type_act')['Subject_act'].apply(list)\n",
    "df1 = groups.reset_index(name = 'listvalues')"
   ]
  },
  {
   "cell_type": "code",
   "execution_count": 40,
   "id": "9ce986ee-d9af-460b-8736-8a8f23ace86f",
   "metadata": {},
   "outputs": [
    {
     "data": {
      "text/html": [
       "<div>\n",
       "<style scoped>\n",
       "    .dataframe tbody tr th:only-of-type {\n",
       "        vertical-align: middle;\n",
       "    }\n",
       "\n",
       "    .dataframe tbody tr th {\n",
       "        vertical-align: top;\n",
       "    }\n",
       "\n",
       "    .dataframe thead th {\n",
       "        text-align: right;\n",
       "    }\n",
       "</style>\n",
       "<table border=\"1\" class=\"dataframe\">\n",
       "  <thead>\n",
       "    <tr style=\"text-align: right;\">\n",
       "      <th></th>\n",
       "      <th>Activity_Type_act</th>\n",
       "      <th>listvalues</th>\n",
       "    </tr>\n",
       "  </thead>\n",
       "  <tbody>\n",
       "    <tr>\n",
       "      <th>0</th>\n",
       "      <td>Change Membership Status</td>\n",
       "      <td>[Status changed from New to Expired, Status ch...</td>\n",
       "    </tr>\n",
       "  </tbody>\n",
       "</table>\n",
       "</div>"
      ],
      "text/plain": [
       "          Activity_Type_act                                         listvalues\n",
       "0  Change Membership Status  [Status changed from New to Expired, Status ch..."
      ]
     },
     "execution_count": 40,
     "metadata": {},
     "output_type": "execute_result"
    }
   ],
   "source": [
    "df1.loc[df1['Activity_Type_act'] == 'Change Membership Status',:]"
   ]
  }
 ],
 "metadata": {
  "kernelspec": {
   "display_name": "Python 3 (ipykernel)",
   "language": "python",
   "name": "python3"
  },
  "language_info": {
   "codemirror_mode": {
    "name": "ipython",
    "version": 3
   },
   "file_extension": ".py",
   "mimetype": "text/x-python",
   "name": "python",
   "nbconvert_exporter": "python",
   "pygments_lexer": "ipython3",
   "version": "3.9.12"
  }
 },
 "nbformat": 4,
 "nbformat_minor": 5
}
