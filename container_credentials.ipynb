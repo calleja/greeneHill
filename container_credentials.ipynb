{
 "cells": [
  {
   "cell_type": "code",
   "execution_count": 8,
   "metadata": {},
   "outputs": [],
   "source": [
    "#create a map of docker container credentials by system name\n",
    "\n",
    "def return_credentials():\n",
    "    import platform \n",
    "\n",
    "    credentials_map = {\n",
    "    'mofongo':{'user':'root','pass':'salmon01','database':'membership','port':3306,'host':'172.17.0.2'}\n",
    "    }\n",
    "\n",
    "    #retrieve computer name\n",
    "    comp_name = platform.node()\n",
    "\n",
    "    if 'mofongo' in comp_name:\n",
    "        treated_name = 'mofongo'\n",
    "    elif 'luis' in comp_name:\n",
    "        treated_name = 'luisito'\n",
    "    else:\n",
    "        raise KeyError\n",
    "    \n",
    "    #return a dictionary\n",
    "    return credentials_map[treated_name]\n",
    "    "
   ]
  }
 ],
 "metadata": {
  "kernelspec": {
   "display_name": "py12",
   "language": "python",
   "name": "python3"
  },
  "language_info": {
   "codemirror_mode": {
    "name": "ipython",
    "version": 3
   },
   "file_extension": ".py",
   "mimetype": "text/x-python",
   "name": "python",
   "nbconvert_exporter": "python",
   "pygments_lexer": "ipython3",
   "version": "3.12.7"
  }
 },
 "nbformat": 4,
 "nbformat_minor": 2
}
