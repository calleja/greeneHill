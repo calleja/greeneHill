{
 "cells": [
  {
   "attachments": {},
   "cell_type": "markdown",
   "metadata": {},
   "source": [
    "Shopping Log - Activity Report\n",
    "https://plum.greenehillfood.coop/civicrm/report/instance/103?reset=1&output=criteria"
   ]
  },
  {
   "cell_type": "code",
   "execution_count": 1,
   "metadata": {},
   "outputs": [],
   "source": [
    "import os\n",
    "import pandas as pd\n",
    "import matplotlib.pyplot as plt\n",
    "import numpy as np\n",
    "import re\n",
    "import datetime\n",
    "import itertools\n",
    "from datetimerange import DateTimeRange\n",
    "import pickle\n",
    "import sqlalchemy"
   ]
  },
  {
   "cell_type": "code",
   "execution_count": 2,
   "metadata": {},
   "outputs": [
    {
     "name": "stdout",
     "output_type": "stream",
     "text": [
      "/home/candela/Documents/greeneHill/membershipReportsCIVI/member_shopping\n"
     ]
    }
   ],
   "source": [
    "#os.chdir('/home/candela/Documents/greeneHill/membershipReportsCIVI')\n",
    "os.chdir('/home/candela/Documents/greeneHill/membershipReportsCIVI/member_shopping')\n",
    "#/home/candela/Documents/greeneHill/membershipReportsCIVI/membershipReportingLogicSampleReports\n",
    "print(os.getcwd())"
   ]
  },
  {
   "cell_type": "code",
   "execution_count": 3,
   "metadata": {},
   "outputs": [
    {
     "data": {
      "text/plain": [
       "['front_desk_logs', 'civi_member_shopping']"
      ]
     },
     "execution_count": 3,
     "metadata": {},
     "output_type": "execute_result"
    }
   ],
   "source": [
    "os.listdir()"
   ]
  },
  {
   "cell_type": "code",
   "execution_count": 4,
   "metadata": {},
   "outputs": [],
   "source": [
    "shop = pd.read_csv('./civi_member_shopping/Report_20230730-1232.csv')"
   ]
  },
  {
   "cell_type": "code",
   "execution_count": 5,
   "metadata": {},
   "outputs": [],
   "source": [
    "#rename fields\n",
    "shop.columns = [i.replace(' ','_') for i in shop.columns]"
   ]
  },
  {
   "cell_type": "code",
   "execution_count": 6,
   "metadata": {},
   "outputs": [],
   "source": [
    "shop['Activity_Date'] = pd.to_datetime(shop['Activity_Date'], format = \"%Y-%m-%d %H:%M\")"
   ]
  },
  {
   "cell_type": "code",
   "execution_count": 7,
   "metadata": {},
   "outputs": [
    {
     "name": "stdout",
     "output_type": "stream",
     "text": [
      "<class 'pandas.core.frame.DataFrame'>\n",
      "RangeIndex: 8149 entries, 0 to 8148\n",
      "Data columns (total 9 columns):\n",
      " #   Column           Non-Null Count  Dtype         \n",
      "---  ------           --------------  -----         \n",
      " 0   Assignee_Name    0 non-null      float64       \n",
      " 1   Target_Name      8149 non-null   object        \n",
      " 2   Source_Email     0 non-null      float64       \n",
      " 3   Assignee_Email   0 non-null      float64       \n",
      " 4   Target_Email     8149 non-null   object        \n",
      " 5   Activity_Type    8149 non-null   object        \n",
      " 6   Subject          8149 non-null   object        \n",
      " 7   Activity_Date    8149 non-null   datetime64[ns]\n",
      " 8   Activity_Status  8149 non-null   object        \n",
      "dtypes: datetime64[ns](1), float64(3), object(5)\n",
      "memory usage: 573.1+ KB\n"
     ]
    }
   ],
   "source": [
    "shop.info()"
   ]
  },
  {
   "attachments": {},
   "cell_type": "markdown",
   "metadata": {},
   "source": [
    "Review some characteristics of the dataset"
   ]
  },
  {
   "cell_type": "code",
   "execution_count": 14,
   "metadata": {},
   "outputs": [
    {
     "name": "stdout",
     "output_type": "stream",
     "text": [
      "Shop    7422\n",
      "Name: Activity_Type, dtype: int64\n",
      "Completed    7422\n",
      "Name: Activity_Status, dtype: int64\n",
      "Checked in to shop via email      5604\n",
      "Checked in to shop via barcode    1818\n",
      "Name: Subject, dtype: int64\n"
     ]
    }
   ],
   "source": [
    "print(shop['Activity_Type'].value_counts())\n",
    "print(shop['Activity_Status'].value_counts())\n",
    "print(shop['Subject'].value_counts())\n",
    "#shop['Activity Type'].value_counts()"
   ]
  },
  {
   "attachments": {},
   "cell_type": "markdown",
   "metadata": {},
   "source": [
    "Fields of interest: Target_Name, Target_Email, Activity_Type, Subject, Activity_Date"
   ]
  },
  {
   "cell_type": "code",
   "execution_count": 9,
   "metadata": {},
   "outputs": [],
   "source": [
    "shop['ingest_date'] = datetime.datetime.today()"
   ]
  },
  {
   "cell_type": "code",
   "execution_count": 10,
   "metadata": {},
   "outputs": [],
   "source": [
    "#establish connection to db and import the table\n",
    "user = 'root'\n",
    "password = 'baeldung'\n",
    "host = '172.17.0.2'\n",
    "port = 3306\n",
    "database = 'membership'\n",
    "\n",
    "url=\"mysql+pymysql://{0}:{1}@{2}:{3}/{4}\".format(user, password, host, port, database)\n",
    "\n",
    "engine = sqlalchemy.create_engine(url)\n",
    "#, connect_args={'options': '-csearch_path=schema_name'}, isolation_level=\"AUTOCOMMIT\"\n",
    "\n",
    "with engine.connect() as conn:\n",
    "    shop.loc[:,['Target_Name', 'Target_Email', 'Activity_Type', 'Subject', 'Activity_Date','ingest_date']].to_sql('shop_log', con=engine, if_exists='replace', index=False)"
   ]
  }
 ],
 "metadata": {
  "kernelspec": {
   "display_name": "base_38",
   "language": "python",
   "name": "python3"
  },
  "language_info": {
   "codemirror_mode": {
    "name": "ipython",
    "version": 3
   },
   "file_extension": ".py",
   "mimetype": "text/x-python",
   "name": "python",
   "nbconvert_exporter": "python",
   "pygments_lexer": "ipython3",
   "version": "3.8.8"
  },
  "orig_nbformat": 4
 },
 "nbformat": 4,
 "nbformat_minor": 2
}
