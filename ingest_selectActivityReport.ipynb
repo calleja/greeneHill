{
 "cells": [
  {
   "cell_type": "markdown",
   "metadata": {},
   "source": [
    "## Ingest raw Select Activity Reports from CIVI\n",
    "Main purpose for ingesting this dataset is it contains the Source email field (ie the identity of the originator of the CIVI record, ex. ) allowing for QA of entries in CIVI as well as detecting system initiated entries versus Membership Committee entries.\n",
    "\n",
    "Goal is to store one table that contains all raw records from CIVI that serve as source data for all mem_type and mem_status tables. b"
   ]
  },
  {
   "cell_type": "markdown",
   "metadata": {},
   "source": [
    "### Workflow proposal\n",
    "Like consolidated_mem_type, one *consolidated* child table will persist. Upon every CIVI ingest/update, the raw table for the new date range will augment the *consolidated* table. Records in the *consolidated* table having a **start_dt** after the *update* table will be removed, and the revision table will be appended to the *consolidated* table. An sql stored procedure will execute some of the work. Ideally, the stored_procedure is written to accept variables. These variables will be the relevant table names. <p>\n",
    "**Key** is that I be able to join this dataset to the mem_type and mem_status tables via member email and timestamp."
   ]
  },
  {
   "cell_type": "code",
   "execution_count": 2,
   "metadata": {},
   "outputs": [],
   "source": [
    "import os\n",
    "import pandas as pd\n",
    "import numpy as np\n",
    "import re\n",
    "import datetime\n",
    "import itertools\n",
    "import json\n",
    "import sqlalchemy\n",
    "from container_credentials import return_credentials"
   ]
  },
  {
   "cell_type": "code",
   "execution_count": 4,
   "metadata": {},
   "outputs": [],
   "source": [
    "#os.chdir('/home/candela/Documents/greeneHill/membershipReportsCIVI')\n",
    "os.chdir('/home/mofongo/Documents/ghfc/membershipReportsCIVI/membershipReportingLogicSampleReports')\n",
    "#/home/candela/Documents/greeneHill/membershipReportsCIVI/membershipReportingLogicSampleReports"
   ]
  },
  {
   "cell_type": "code",
   "execution_count": 5,
   "metadata": {},
   "outputs": [],
   "source": [
    "activityReport = pd.read_csv('./selectActivityReport_20241013.csv')"
   ]
  },
  {
   "cell_type": "code",
   "execution_count": 6,
   "metadata": {},
   "outputs": [],
   "source": [
    "activityReport.columns = [i.replace(' ','_')+'_act' for i in list(activityReport.columns)]"
   ]
  },
  {
   "cell_type": "code",
   "execution_count": 7,
   "metadata": {},
   "outputs": [],
   "source": [
    "activityReport = activityReport.assign(Activity_Date_DT_act = pd.to_datetime(activityReport['Activity_Date_act'], format = '%Y-%m-%d %H:%M'))"
   ]
  },
  {
   "cell_type": "code",
   "execution_count": 16,
   "metadata": {},
   "outputs": [],
   "source": [
    "#convert Activity_Date_DT_act to text\n",
    "min_date = activityReport['Activity_Date_DT_act'].min()\n",
    "min_date_text = min_date.strftime(format = \"%Y-%m-%d %H:%M:%S\")"
   ]
  },
  {
   "cell_type": "code",
   "execution_count": 20,
   "metadata": {},
   "outputs": [
    {
     "data": {
      "text/plain": [
       "'2024-08-15 02:54:00'"
      ]
     },
     "execution_count": 20,
     "metadata": {},
     "output_type": "execute_result"
    }
   ],
   "source": [
    "min_date_text"
   ]
  },
  {
   "cell_type": "code",
   "execution_count": 14,
   "metadata": {},
   "outputs": [
    {
     "name": "stdout",
     "output_type": "stream",
     "text": [
      "Connection to the 172.17.0.2 for user root created successfully.\n"
     ]
    }
   ],
   "source": [
    "# DEFINE THE DATABASE CREDENTIALS\n",
    "cred_dict = return_credentials()\n",
    "\n",
    "user = cred_dict['user'] \n",
    "password = cred_dict['pass'] \n",
    "host = cred_dict['host'] \n",
    "port = cred_dict['port'] \n",
    "database = cred_dict['database'] \n",
    "\n",
    "def get_connection():\n",
    "\treturn sqlalchemy.create_engine(\n",
    "\t\turl=\"mysql+pymysql://{0}:{1}@{2}:{3}/{4}\".format(\n",
    "\t\t\tuser, password, host, port, database\n",
    "\t\t)\n",
    "\t)\n",
    "\n",
    "if __name__ == '__main__':\n",
    "\n",
    "\ttry:\n",
    "\t\n",
    "\t\t# GET THE CONNECTION OBJECT (ENGINE) FOR THE DATABASE\n",
    "\t\tengine = get_connection()\n",
    "\t\tprint(\n",
    "\t\t\tf\"Connection to the {host} for user {user} created successfully.\")\n",
    "\texcept Exception as ex:\n",
    "\t\tprint(\"Connection could not be made due to the following error: \\n\", ex)"
   ]
  },
  {
   "cell_type": "code",
   "execution_count": 29,
   "metadata": {},
   "outputs": [],
   "source": [
    "#retrieve the pre-existing table\n",
    "#NOTE this may not be sustainable the larger the transaction list becomes\n",
    "#sample functioning python code: type_new = conn.execute(text(\"SELECT COUNT(*) FROM consolidated_mem_type_temp2\"))\n",
    "#example of a functioning query: SELECT * FROM consolidated_mem_status WHERE start_dt > date('2024-08-15 02:54:00') limit 10;\n",
    "#WHERE start_dt > date({min_date_text})\n",
    "#conn.execute(sqlalchemy.text(f\"RENAME TABLE {replacement_table} to {legacy_table}\"))\n",
    "from sqlalchemy.sql import select\n",
    "from sqlalchemy.sql import text\n",
    "\n",
    "with engine.connect() as conn:\n",
    "    historical = conn.execute(text(f'SELECT * FROM consolidated_mem_status WHERE start_dt >= DATE(\"{min_date_text}\")'))"
   ]
  },
  {
   "cell_type": "code",
   "execution_count": null,
   "metadata": {},
   "outputs": [
    {
     "name": "stdout",
     "output_type": "stream",
     "text": [
      "Connection to the 172.17.0.2 for user root created successfully.\n"
     ]
    }
   ],
   "source": [
    "try:\n",
    "    frame = cum_df_status.to_sql('mem_status_1007_ts', con=engine, if_exists='replace', index=False)\n",
    "    #drop latest_trial as field is redundant\n",
    "    #frame = type_df.drop('latest_trial', axis =1).to_sql('mem_type_1007_ts', con=engine, if_exists='replace', index=False)\n",
    "except ValueError as vx:\n",
    "    print(vx)\n",
    "except Exception as ex:   \n",
    "    print(ex)\n",
    "else:\n",
    "    print(\"Table %s created successfully.\"%'mem_status');   \n",
    "finally:\n",
    "    engine.dispose()"
   ]
  },
  {
   "cell_type": "markdown",
   "metadata": {},
   "source": [
    "Call procedure the merge the pre-existing and update tables"
   ]
  }
 ],
 "metadata": {
  "kernelspec": {
   "display_name": "py12",
   "language": "python",
   "name": "python3"
  },
  "language_info": {
   "codemirror_mode": {
    "name": "ipython",
    "version": 3
   },
   "file_extension": ".py",
   "mimetype": "text/x-python",
   "name": "python",
   "nbconvert_exporter": "python",
   "pygments_lexer": "ipython3",
   "version": "3.12.2"
  }
 },
 "nbformat": 4,
 "nbformat_minor": 2
}
