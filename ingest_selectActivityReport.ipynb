{
 "cells": [
  {
   "cell_type": "markdown",
   "metadata": {},
   "source": [
    "## Ingest raw Select Activity Reports from CIVI\n",
    "Main purpose for ingesting this dataset is it contains the Source email field (ie the identity of the originator of the CIVI record, ex. ) allowing for QA of entries in CIVI as well as detecting system initiated entries versus Membership Committee entries.\n",
    "\n",
    "Goal is to store one table that contains all raw records from CIVI that serve as source data for all mem_type and mem_status tables. b"
   ]
  },
  {
   "cell_type": "markdown",
   "metadata": {},
   "source": [
    "### Workflow proposal\n",
    "Like consolidated_mem_type, one *consolidated* child table will persist. Upon every CIVI ingest/update, the raw table for the new date range will augment the *consolidated* table. Records in the *consolidated* table having a **start_dt** after the *update* table will be removed, and the revision table will be appended to the *consolidated* table. An sql stored procedure will execute some of the work. Ideally, the stored_procedure is written to accept variables. These variables will be the relevant table names. <p>\n",
    "**Key** is that I be able to join this dataset to the mem_type and mem_status tables via member email and timestamp."
   ]
  },
  {
   "cell_type": "code",
   "execution_count": 1,
   "metadata": {},
   "outputs": [],
   "source": [
    "import os\n",
    "import pandas as pd\n",
    "import numpy as np\n",
    "import re\n",
    "import datetime\n",
    "import itertools\n",
    "import json\n",
    "import sqlalchemy\n",
    "from container_credentials import return_credentials"
   ]
  },
  {
   "cell_type": "code",
   "execution_count": 2,
   "metadata": {},
   "outputs": [],
   "source": [
    "#os.chdir('/home/candela/Documents/greeneHill/membershipReportsCIVI')\n",
    "os.chdir('/home/mofongo/Documents/ghfc/membershipReportsCIVI/membershipReportingLogicSampleReports')\n",
    "#/home/candela/Documents/greeneHill/membershipReportsCIVI/membershipReportingLogicSampleReports"
   ]
  },
  {
   "cell_type": "code",
   "execution_count": 76,
   "metadata": {},
   "outputs": [],
   "source": [
    "activityReport = pd.read_csv('./selectActivityReport_20241013.csv')\n",
    "activityReport_legacy = pd.read_csv('./selectActivityReport_10072024.csv')"
   ]
  },
  {
   "cell_type": "code",
   "execution_count": 77,
   "metadata": {},
   "outputs": [],
   "source": [
    "activityReport.columns = [i.replace(' ','_')+'_act' for i in list(activityReport.columns)]\n",
    "activityReport_legacy.columns = [i.replace(' ','_')+'_act' for i in list(activityReport_legacy.columns)]"
   ]
  },
  {
   "cell_type": "code",
   "execution_count": 78,
   "metadata": {},
   "outputs": [],
   "source": [
    "#normalize email names\n",
    "activityReport = activityReport.assign(email_grouping = activityReport.apply(lambda x: x['Target_Email_act'] if pd.notnull(x['Target_Email_act']) else x['Source_Email_act'], axis = 1))\n",
    "\n",
    "activityReport_legacy = activityReport_legacy.assign(email_grouping = activityReport_legacy.apply(lambda x: x['Target_Email_act'] if pd.notnull(x['Target_Email_act']) else x['Source_Email_act'], axis = 1))"
   ]
  },
  {
   "cell_type": "code",
   "execution_count": 79,
   "metadata": {},
   "outputs": [],
   "source": [
    "activityReport = activityReport.assign(Activity_Date_DT_act = pd.to_datetime(activityReport['Activity_Date_act'], format = '%Y-%m-%d %H:%M'))\n",
    "activityReport_legacy = activityReport_legacy.assign(Activity_Date_DT_act = pd.to_datetime(activityReport_legacy['Activity_Date_act'], format = '%Y-%m-%d %H:%M'))"
   ]
  },
  {
   "cell_type": "code",
   "execution_count": 80,
   "metadata": {},
   "outputs": [],
   "source": [
    "#drop irrelevant columns\n",
    "try:\n",
    "    activityReport.drop(['Assignee_Name_act','Activity_Details_act'], axis = 1, inplace = True)\n",
    "except KeyError:\n",
    "    print('column not found')\n",
    "\n",
    "\n",
    "try:\n",
    "    activityReport_legacy.drop(['Assignee_Name_act','Activity_Details_act'], axis = 1, inplace = True)\n",
    "except KeyError:\n",
    "    print('column not found')\n"
   ]
  },
  {
   "cell_type": "markdown",
   "metadata": {},
   "source": [
    "Recreating parts of the logic of the stored procedure here"
   ]
  },
  {
   "cell_type": "code",
   "execution_count": 81,
   "metadata": {},
   "outputs": [],
   "source": [
    "#convert Activity_Date_DT_act to text\n",
    "min_date = activityReport['Activity_Date_DT_act'].min()\n",
    "min_date_text = min_date.strftime(format = \"%Y-%m-%d %H:%M:%S\")"
   ]
  },
  {
   "cell_type": "code",
   "execution_count": 82,
   "metadata": {},
   "outputs": [
    {
     "name": "stdout",
     "output_type": "stream",
     "text": [
      "Connection to the 172.17.0.2 for user root created successfully.\n"
     ]
    }
   ],
   "source": [
    "# DEFINE THE DATABASE CREDENTIALS\n",
    "cred_dict = return_credentials()\n",
    "\n",
    "user = cred_dict['user'] \n",
    "password = cred_dict['pass'] \n",
    "host = cred_dict['host'] \n",
    "port = cred_dict['port'] \n",
    "database = cred_dict['database'] \n",
    "\n",
    "def get_connection():\n",
    "\treturn sqlalchemy.create_engine(\n",
    "\t\turl=\"mysql+pymysql://{0}:{1}@{2}:{3}/{4}\".format(\n",
    "\t\t\tuser, password, host, port, database\n",
    "\t\t)\n",
    "\t)\n",
    "\n",
    "if __name__ == '__main__':\n",
    "\n",
    "\ttry:\n",
    "\t\n",
    "\t\t# GET THE CONNECTION OBJECT (ENGINE) FOR THE DATABASE\n",
    "\t\tengine = get_connection()\n",
    "\t\tprint(\n",
    "\t\t\tf\"Connection to the {host} for user {user} created successfully.\")\n",
    "\texcept Exception as ex:\n",
    "\t\tprint(\"Connection could not be made due to the following error: \\n\", ex)"
   ]
  },
  {
   "cell_type": "code",
   "execution_count": 85,
   "metadata": {},
   "outputs": [],
   "source": [
    "#retrieve the pre-existing table\n",
    "#NOTE this may not be sustainable the larger the transaction list becomes\n",
    "#sample functioning python code: type_new = conn.execute(text(\"SELECT COUNT(*) FROM consolidated_mem_type_temp2\"))\n",
    "#example of a functioning query: SELECT * FROM consolidated_mem_status WHERE start_dt > date('2024-08-15 02:54:00') limit 10;\n",
    "#WHERE start_dt > date({min_date_text})\n",
    "#conn.execute(sqlalchemy.text(f\"RENAME TABLE {replacement_table} to {legacy_table}\"))\n",
    "from sqlalchemy.sql import select\n",
    "from sqlalchemy.sql import text\n",
    "\n",
    "with engine.connect() as conn:\n",
    "    historical = conn.execute(text(f'SELECT * FROM consolidated_rawActivityReport WHERE Activity_Date_DT_act < DATE(\"{min_date_text}\")'))\n",
    "    historical_df = pd.DataFrame(historical.fetchall(), columns=historical.keys())"
   ]
  },
  {
   "cell_type": "code",
   "execution_count": 86,
   "metadata": {},
   "outputs": [
    {
     "data": {
      "text/html": [
       "<div>\n",
       "<style scoped>\n",
       "    .dataframe tbody tr th:only-of-type {\n",
       "        vertical-align: middle;\n",
       "    }\n",
       "\n",
       "    .dataframe tbody tr th {\n",
       "        vertical-align: top;\n",
       "    }\n",
       "\n",
       "    .dataframe thead th {\n",
       "        text-align: right;\n",
       "    }\n",
       "</style>\n",
       "<table border=\"1\" class=\"dataframe\">\n",
       "  <thead>\n",
       "    <tr style=\"text-align: right;\">\n",
       "      <th></th>\n",
       "      <th>0</th>\n",
       "      <th>1</th>\n",
       "    </tr>\n",
       "  </thead>\n",
       "  <tbody>\n",
       "    <tr>\n",
       "      <th>Target_Name_act</th>\n",
       "      <td>object</td>\n",
       "      <td>object</td>\n",
       "    </tr>\n",
       "    <tr>\n",
       "      <th>Source_Email_act</th>\n",
       "      <td>object</td>\n",
       "      <td>object</td>\n",
       "    </tr>\n",
       "    <tr>\n",
       "      <th>Target_Email_act</th>\n",
       "      <td>object</td>\n",
       "      <td>object</td>\n",
       "    </tr>\n",
       "    <tr>\n",
       "      <th>Activity_Type_act</th>\n",
       "      <td>object</td>\n",
       "      <td>object</td>\n",
       "    </tr>\n",
       "    <tr>\n",
       "      <th>Subject_act</th>\n",
       "      <td>object</td>\n",
       "      <td>object</td>\n",
       "    </tr>\n",
       "    <tr>\n",
       "      <th>Activity_Date_act</th>\n",
       "      <td>object</td>\n",
       "      <td>object</td>\n",
       "    </tr>\n",
       "    <tr>\n",
       "      <th>Activity_Status_act</th>\n",
       "      <td>object</td>\n",
       "      <td>object</td>\n",
       "    </tr>\n",
       "    <tr>\n",
       "      <th>email_grouping</th>\n",
       "      <td>object</td>\n",
       "      <td>object</td>\n",
       "    </tr>\n",
       "    <tr>\n",
       "      <th>Activity_Date_DT_act</th>\n",
       "      <td>datetime64[ns]</td>\n",
       "      <td>datetime64[ns]</td>\n",
       "    </tr>\n",
       "  </tbody>\n",
       "</table>\n",
       "</div>"
      ],
      "text/plain": [
       "                                   0               1\n",
       "Target_Name_act               object          object\n",
       "Source_Email_act              object          object\n",
       "Target_Email_act              object          object\n",
       "Activity_Type_act             object          object\n",
       "Subject_act                   object          object\n",
       "Activity_Date_act             object          object\n",
       "Activity_Status_act           object          object\n",
       "email_grouping                object          object\n",
       "Activity_Date_DT_act  datetime64[ns]  datetime64[ns]"
      ]
     },
     "execution_count": 86,
     "metadata": {},
     "output_type": "execute_result"
    }
   ],
   "source": [
    "#just reconciling the dtypes of ea table\n",
    "pd.concat([pd.Series(historical_df.dtypes),pd.Series(activityReport.dtypes)], axis =1, names = ['historical_df','activityReport'])"
   ]
  },
  {
   "cell_type": "markdown",
   "metadata": {},
   "source": [
    "Merge/concatenate the two tables then remove duplicates"
   ]
  },
  {
   "cell_type": "code",
   "execution_count": 87,
   "metadata": {},
   "outputs": [],
   "source": [
    "consolidated = pd.concat([historical_df,activityReport])"
   ]
  },
  {
   "cell_type": "code",
   "execution_count": 88,
   "metadata": {},
   "outputs": [],
   "source": [
    "consolidated_nd = consolidated.drop_duplicates()"
   ]
  },
  {
   "cell_type": "code",
   "execution_count": 89,
   "metadata": {},
   "outputs": [
    {
     "data": {
      "text/plain": [
       "(22044, 9)"
      ]
     },
     "execution_count": 89,
     "metadata": {},
     "output_type": "execute_result"
    }
   ],
   "source": [
    "consolidated_nd.shape"
   ]
  },
  {
   "cell_type": "markdown",
   "metadata": {},
   "source": [
    "Be sure that the datatypes from both tables are equal"
   ]
  },
  {
   "cell_type": "code",
   "execution_count": 90,
   "metadata": {},
   "outputs": [
    {
     "name": "stdout",
     "output_type": "stream",
     "text": [
      "Table created successfully\n"
     ]
    }
   ],
   "source": [
    "try:\n",
    "    frame = consolidated_nd.to_sql('consolidated_rawActivityReport', con=engine, if_exists='replace', index=False)\n",
    "    #drop latest_trial as field is redundant\n",
    "    #frame = activityReport_legacy.to_sql('consolidated_rawActivityReport', con=engine, if_exists='replace', index=False)\n",
    "except ValueError as vx:\n",
    "    print(vx)\n",
    "except Exception as ex:   \n",
    "    print(ex)\n",
    "else:\n",
    "    print(\"Table created successfully\");   \n",
    "finally:\n",
    "    engine.dispose()"
   ]
  },
  {
   "cell_type": "markdown",
   "metadata": {},
   "source": [
    "Call procedure the merge the pre-existing and update tables"
   ]
  }
 ],
 "metadata": {
  "kernelspec": {
   "display_name": "py12",
   "language": "python",
   "name": "python3"
  },
  "language_info": {
   "codemirror_mode": {
    "name": "ipython",
    "version": 3
   },
   "file_extension": ".py",
   "mimetype": "text/x-python",
   "name": "python",
   "nbconvert_exporter": "python",
   "pygments_lexer": "ipython3",
   "version": "3.12.2"
  }
 },
 "nbformat": 4,
 "nbformat_minor": 2
}
