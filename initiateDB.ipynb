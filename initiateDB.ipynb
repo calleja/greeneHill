{
 "cells": [
  {
   "cell_type": "markdown",
   "metadata": {},
   "source": [
    "Purpose of this notebook is to prepare a database for the stored procedure scripts and ultimately the orchestration.ipynb. Each script expects normalized table names ex. consolidated_mem_type, mem_type_new_import, etc."
   ]
  },
  {
   "cell_type": "code",
   "execution_count": 1,
   "metadata": {},
   "outputs": [],
   "source": [
    "import os\n",
    "import re\n",
    "import datetime\n",
    "import itertools\n",
    "import json\n",
    "import sqlalchemy"
   ]
  },
  {
   "cell_type": "code",
   "execution_count": 2,
   "metadata": {},
   "outputs": [],
   "source": [
    "from container_credentials import return_credentials"
   ]
  },
  {
   "cell_type": "code",
   "execution_count": 3,
   "metadata": {},
   "outputs": [
    {
     "name": "stdout",
     "output_type": "stream",
     "text": [
      "Connection to the 172.17.0.2 for user root created successfully.\n"
     ]
    }
   ],
   "source": [
    "# DEFINE THE DATABASE CREDENTIALS\n",
    "cred_dict = return_credentials()\n",
    "\n",
    "user = cred_dict['user'] \n",
    "password = cred_dict['pass'] \n",
    "host = cred_dict['host'] \n",
    "port = cred_dict['port'] \n",
    "database = cred_dict['database'] \n",
    "\n",
    "def get_connection():\n",
    "\treturn sqlalchemy.create_engine(\n",
    "\t\turl=\"mysql+pymysql://{0}:{1}@{2}:{3}/{4}\".format(\n",
    "\t\t\tuser, password, host, port, database\n",
    "\t\t)\n",
    "\t)\n",
    "\n",
    "if __name__ == '__main__':\n",
    "\n",
    "\ttry:\n",
    "\t\n",
    "\t\t# GET THE CONNECTION OBJECT (ENGINE) FOR THE DATABASE\n",
    "\t\tengine = get_connection()\n",
    "\t\tprint(\n",
    "\t\t\tf\"Connection to the {host} for user {user} created successfully.\")\n",
    "\texcept Exception as ex:\n",
    "\t\tprint(\"Connection could not be made due to the following error: \\n\", ex)\n"
   ]
  },
  {
   "cell_type": "code",
   "execution_count": null,
   "metadata": {},
   "outputs": [],
   "source": [
    "'''\n",
    "DROP TABLE consolidated_mem_status;\n",
    "CREATE TABLE consolidated_mem_status AS SELECT * FROM mem_status_1007_ts;\n",
    "\n",
    "DROP TABLE consolidated_mem_type;\n",
    "CREATE TABLE consolidated_mem_type AS SELECT * FROM mem_type_1007_ts;\n",
    "\n",
    "DROP TABLE mem_status_new_import;\n",
    "CREATE TABLE mem_status_new_import AS SELECT * FROM mem_status_1007_ts;\n",
    "\n",
    "DROP TABLE mem_type_new_import;\n",
    "CREATE TABLE mem_type_new_import AS SELECT * FROM mem_type_1007_ts;\n",
    "'''"
   ]
  },
  {
   "cell_type": "code",
   "execution_count": 5,
   "metadata": {},
   "outputs": [],
   "source": [
    "#dictionary of instructions\n",
    "instruct_dicts = [{'table_name':'consolidated_mem_status','source':'mem_status_1007_ts'},\n",
    "                 {'table_name':'consolidated_mem_type','source':'mem_type_1007_ts'},\n",
    "                 {'table_name':'mem_status_new_import','source':'mem_status_1013_ts'},\n",
    "                 {'table_name':'mem_type_new_import','source':'mem_type_1013_ts'}]"
   ]
  },
  {
   "cell_type": "code",
   "execution_count": 14,
   "metadata": {},
   "outputs": [
    {
     "name": "stdout",
     "output_type": "stream",
     "text": [
      "consolidated_mem_status\n",
      "consolidated_mem_type\n",
      "mem_status_new_import\n",
      "mem_type_new_import\n"
     ]
    }
   ],
   "source": [
    "for i in instruct_dicts:\n",
    "    print(i['table_name'])"
   ]
  },
  {
   "cell_type": "code",
   "execution_count": 15,
   "metadata": {},
   "outputs": [],
   "source": [
    "with engine.connect() as conn: #interacting w/db through Connection class\n",
    "    for i in instruct_dicts:\n",
    "        conn.execute(sqlalchemy.text(f\"DROP TABLE IF EXISTS {i['table_name']}\"))\n",
    "        conn.execute(sqlalchemy.text(f\"CREATE TABLE {i['table_name']} AS SELECT * FROM {i['source']}\"))"
   ]
  },
  {
   "cell_type": "code",
   "execution_count": 16,
   "metadata": {},
   "outputs": [
    {
     "name": "stdout",
     "output_type": "stream",
     "text": [
      "all clear to proceed\n"
     ]
    }
   ],
   "source": [
    "#verify the above\n",
    "#inspector option: https://docs.sqlalchemy.org/en/20/core/reflection.html#fine-grained-reflection-with-inspector\n",
    "# inspector is a low level interface which provides a backend-agnostic system of loading lists of schema, table, column, and constraint descriptions from a given database is also available.\n",
    "from sqlalchemy import inspect\n",
    "insp = inspect(engine)\n",
    "table_name_list = insp.get_table_names()\n",
    "\n",
    "#gather all the table names from the above dict:\n",
    "lista = [i['table_name'] for i in instruct_dicts]\n",
    "\n",
    "#determine whether the tables I expect to have been injected into db from the civiActivityReport.ipynb are there\n",
    "if all([i in table_name_list for i in(lista)]):\n",
    "    print('all clear to proceed')\n",
    "else:\n",
    "    print('new tables from copy_rename() step aren\\'t found in db')\n"
   ]
  }
 ],
 "metadata": {
  "kernelspec": {
   "display_name": "py12",
   "language": "python",
   "name": "python3"
  },
  "language_info": {
   "codemirror_mode": {
    "name": "ipython",
    "version": 3
   },
   "file_extension": ".py",
   "mimetype": "text/x-python",
   "name": "python",
   "nbconvert_exporter": "python",
   "pygments_lexer": "ipython3",
   "version": "3.12.2"
  }
 },
 "nbformat": 4,
 "nbformat_minor": 2
}
