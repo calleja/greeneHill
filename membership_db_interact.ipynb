{
 "cells": [
  {
   "cell_type": "code",
   "execution_count": 1,
   "metadata": {},
   "outputs": [],
   "source": [
    "import os\n",
    "import pandas as pd\n",
    "import matplotlib.pyplot as plt\n",
    "import seaborn as sns\n",
    "import numpy as np\n",
    "import re\n",
    "import datetime\n",
    "import itertools\n",
    "from datetimerange import DateTimeRange\n",
    "import pickle\n",
    "import json\n",
    "import sqlalchemy\n",
    "from sqlalchemy.sql import text\n",
    "import matplotlib.ticker as mtick"
   ]
  },
  {
   "cell_type": "code",
   "execution_count": 2,
   "metadata": {},
   "outputs": [],
   "source": [
    "os.chdir('/home/candela/Documents/greeneHill/membershipReportsCIVI')"
   ]
  },
  {
   "cell_type": "code",
   "execution_count": 6,
   "metadata": {},
   "outputs": [],
   "source": [
    "sql = '''\n",
    "WITH trial_conversions AS (\n",
    "select cast(JSON_EXTRACT(latest_trial2, '$.start_dt') as date) trial_date, cast(start_dt as date) status_date, \n",
    "datediff(cast(start_dt as date), cast(JSON_EXTRACT(latest_trial2, '$.start_dt') as date)) as date_difference,\n",
    "email, type_clean\n",
    "from mem_type_0130\n",
    "where (type_clean not like '%%trial%%' AND type_clean not like '%%bushwick%%' AND type_clean not like '%%park%%')\n",
    "AND cast(JSON_EXTRACT(latest_trial2, '$.start_dt')as date) is not null),\n",
    "all_trials AS (\n",
    "select cast(start_dt as date) status_date, email, type_clean\n",
    "from mem_type_0130\n",
    "where type_clean like '%%trial%%'),\n",
    "conversion_agg AS (\n",
    "select date_format(trial_date, '%%Y-%%m') as month, count(distinct email) as converted_cnt\n",
    "from trial_conversions \n",
    "group by 1),\n",
    "all_agg AS (\n",
    "select date_format(status_date, '%%Y-%%m') as month, count(distinct email) as trials_cnt\n",
    "from all_trials\n",
    "group by 1)\n",
    "select all_agg.month, sum(converted_cnt) converted_cnt, sum(trials_cnt) trials_cnt\n",
    "from conversion_agg\n",
    "RIGHT JOIN all_agg\n",
    "ON conversion_agg.month = all_agg.month\n",
    "group by 1\n",
    "order by 1 desc;\n",
    "'''\n"
   ]
  },
  {
   "cell_type": "code",
   "execution_count": 7,
   "metadata": {},
   "outputs": [],
   "source": [
    "user = 'root'\n",
    "password = 'baeldung'\n",
    "host = '172.17.0.2'\n",
    "port = 3306\n",
    "database = 'membership'\n",
    "\n",
    "url=\"mysql+pymysql://{0}:{1}@{2}:{3}/{4}\".format(user, password, host, port, database)\n",
    "\n",
    "engine = sqlalchemy.create_engine(url)\n",
    "#, connect_args={'options': '-csearch_path=schema_name'}, isolation_level=\"AUTOCOMMIT\"\n"
   ]
  },
  {
   "cell_type": "code",
   "execution_count": 8,
   "metadata": {},
   "outputs": [],
   "source": [
    "\n",
    "with engine.connect() as conn:\n",
    "    df = pd.read_sql(sql, con = conn)"
   ]
  },
  {
   "cell_type": "code",
   "execution_count": 8,
   "metadata": {},
   "outputs": [],
   "source": [
    "#TODO\n",
    "#convert month field to datetime\n",
    "#replace NaN with 0\n",
    "#plot the data as two vertical bars, then later the conversion % as a time series line plot"
   ]
  },
  {
   "cell_type": "code",
   "execution_count": 9,
   "metadata": {},
   "outputs": [
    {
     "name": "stdout",
     "output_type": "stream",
     "text": [
      "month             object\n",
      "converted_cnt    float64\n",
      "trials_cnt       float64\n",
      "dtype: object\n"
     ]
    },
    {
     "data": {
      "text/html": [
       "<div>\n",
       "<style scoped>\n",
       "    .dataframe tbody tr th:only-of-type {\n",
       "        vertical-align: middle;\n",
       "    }\n",
       "\n",
       "    .dataframe tbody tr th {\n",
       "        vertical-align: top;\n",
       "    }\n",
       "\n",
       "    .dataframe thead th {\n",
       "        text-align: right;\n",
       "    }\n",
       "</style>\n",
       "<table border=\"1\" class=\"dataframe\">\n",
       "  <thead>\n",
       "    <tr style=\"text-align: right;\">\n",
       "      <th></th>\n",
       "      <th>month</th>\n",
       "      <th>converted_cnt</th>\n",
       "      <th>trials_cnt</th>\n",
       "    </tr>\n",
       "  </thead>\n",
       "  <tbody>\n",
       "    <tr>\n",
       "      <th>32</th>\n",
       "      <td>2021-05</td>\n",
       "      <td>5.0</td>\n",
       "      <td>49.0</td>\n",
       "    </tr>\n",
       "    <tr>\n",
       "      <th>33</th>\n",
       "      <td>2021-04</td>\n",
       "      <td>5.0</td>\n",
       "      <td>46.0</td>\n",
       "    </tr>\n",
       "    <tr>\n",
       "      <th>34</th>\n",
       "      <td>2021-03</td>\n",
       "      <td>7.0</td>\n",
       "      <td>49.0</td>\n",
       "    </tr>\n",
       "    <tr>\n",
       "      <th>35</th>\n",
       "      <td>2021-02</td>\n",
       "      <td>6.0</td>\n",
       "      <td>40.0</td>\n",
       "    </tr>\n",
       "    <tr>\n",
       "      <th>36</th>\n",
       "      <td>2021-01</td>\n",
       "      <td>NaN</td>\n",
       "      <td>2.0</td>\n",
       "    </tr>\n",
       "  </tbody>\n",
       "</table>\n",
       "</div>"
      ],
      "text/plain": [
       "      month  converted_cnt  trials_cnt\n",
       "32  2021-05            5.0        49.0\n",
       "33  2021-04            5.0        46.0\n",
       "34  2021-03            7.0        49.0\n",
       "35  2021-02            6.0        40.0\n",
       "36  2021-01            NaN         2.0"
      ]
     },
     "execution_count": 9,
     "metadata": {},
     "output_type": "execute_result"
    }
   ],
   "source": [
    "print(df.dtypes) \n",
    "df.tail()"
   ]
  },
  {
   "cell_type": "code",
   "execution_count": 14,
   "metadata": {},
   "outputs": [
    {
     "data": {
      "text/html": [
       "<div>\n",
       "<style scoped>\n",
       "    .dataframe tbody tr th:only-of-type {\n",
       "        vertical-align: middle;\n",
       "    }\n",
       "\n",
       "    .dataframe tbody tr th {\n",
       "        vertical-align: top;\n",
       "    }\n",
       "\n",
       "    .dataframe thead th {\n",
       "        text-align: right;\n",
       "    }\n",
       "</style>\n",
       "<table border=\"1\" class=\"dataframe\">\n",
       "  <thead>\n",
       "    <tr style=\"text-align: right;\">\n",
       "      <th></th>\n",
       "      <th>month</th>\n",
       "      <th>converted_cnt</th>\n",
       "      <th>trials_cnt</th>\n",
       "      <th>month_norm</th>\n",
       "      <th>conversion_ratio</th>\n",
       "    </tr>\n",
       "  </thead>\n",
       "  <tbody>\n",
       "    <tr>\n",
       "      <th>0</th>\n",
       "      <td>2024-01</td>\n",
       "      <td>0.0</td>\n",
       "      <td>96.0</td>\n",
       "      <td>2024-01-01</td>\n",
       "      <td>0.000000</td>\n",
       "    </tr>\n",
       "    <tr>\n",
       "      <th>1</th>\n",
       "      <td>2023-12</td>\n",
       "      <td>2.0</td>\n",
       "      <td>37.0</td>\n",
       "      <td>2023-12-01</td>\n",
       "      <td>0.054054</td>\n",
       "    </tr>\n",
       "    <tr>\n",
       "      <th>2</th>\n",
       "      <td>2023-11</td>\n",
       "      <td>3.0</td>\n",
       "      <td>59.0</td>\n",
       "      <td>2023-11-01</td>\n",
       "      <td>0.050847</td>\n",
       "    </tr>\n",
       "    <tr>\n",
       "      <th>3</th>\n",
       "      <td>2023-10</td>\n",
       "      <td>8.0</td>\n",
       "      <td>88.0</td>\n",
       "      <td>2023-10-01</td>\n",
       "      <td>0.090909</td>\n",
       "    </tr>\n",
       "    <tr>\n",
       "      <th>4</th>\n",
       "      <td>2023-09</td>\n",
       "      <td>7.0</td>\n",
       "      <td>63.0</td>\n",
       "      <td>2023-09-01</td>\n",
       "      <td>0.111111</td>\n",
       "    </tr>\n",
       "    <tr>\n",
       "      <th>5</th>\n",
       "      <td>2023-08</td>\n",
       "      <td>5.0</td>\n",
       "      <td>67.0</td>\n",
       "      <td>2023-08-01</td>\n",
       "      <td>0.074627</td>\n",
       "    </tr>\n",
       "    <tr>\n",
       "      <th>6</th>\n",
       "      <td>2023-07</td>\n",
       "      <td>4.0</td>\n",
       "      <td>23.0</td>\n",
       "      <td>2023-07-01</td>\n",
       "      <td>0.173913</td>\n",
       "    </tr>\n",
       "    <tr>\n",
       "      <th>7</th>\n",
       "      <td>2023-06</td>\n",
       "      <td>3.0</td>\n",
       "      <td>47.0</td>\n",
       "      <td>2023-06-01</td>\n",
       "      <td>0.063830</td>\n",
       "    </tr>\n",
       "    <tr>\n",
       "      <th>8</th>\n",
       "      <td>2023-05</td>\n",
       "      <td>2.0</td>\n",
       "      <td>43.0</td>\n",
       "      <td>2023-05-01</td>\n",
       "      <td>0.046512</td>\n",
       "    </tr>\n",
       "    <tr>\n",
       "      <th>9</th>\n",
       "      <td>2023-04</td>\n",
       "      <td>5.0</td>\n",
       "      <td>37.0</td>\n",
       "      <td>2023-04-01</td>\n",
       "      <td>0.135135</td>\n",
       "    </tr>\n",
       "    <tr>\n",
       "      <th>10</th>\n",
       "      <td>2023-03</td>\n",
       "      <td>4.0</td>\n",
       "      <td>47.0</td>\n",
       "      <td>2023-03-01</td>\n",
       "      <td>0.085106</td>\n",
       "    </tr>\n",
       "    <tr>\n",
       "      <th>11</th>\n",
       "      <td>2023-02</td>\n",
       "      <td>7.0</td>\n",
       "      <td>49.0</td>\n",
       "      <td>2023-02-01</td>\n",
       "      <td>0.142857</td>\n",
       "    </tr>\n",
       "    <tr>\n",
       "      <th>12</th>\n",
       "      <td>2023-01</td>\n",
       "      <td>5.0</td>\n",
       "      <td>48.0</td>\n",
       "      <td>2023-01-01</td>\n",
       "      <td>0.104167</td>\n",
       "    </tr>\n",
       "    <tr>\n",
       "      <th>13</th>\n",
       "      <td>2022-12</td>\n",
       "      <td>2.0</td>\n",
       "      <td>19.0</td>\n",
       "      <td>2022-12-01</td>\n",
       "      <td>0.105263</td>\n",
       "    </tr>\n",
       "    <tr>\n",
       "      <th>14</th>\n",
       "      <td>2022-11</td>\n",
       "      <td>3.0</td>\n",
       "      <td>32.0</td>\n",
       "      <td>2022-11-01</td>\n",
       "      <td>0.093750</td>\n",
       "    </tr>\n",
       "    <tr>\n",
       "      <th>15</th>\n",
       "      <td>2022-10</td>\n",
       "      <td>8.0</td>\n",
       "      <td>54.0</td>\n",
       "      <td>2022-10-01</td>\n",
       "      <td>0.148148</td>\n",
       "    </tr>\n",
       "    <tr>\n",
       "      <th>16</th>\n",
       "      <td>2022-09</td>\n",
       "      <td>3.0</td>\n",
       "      <td>48.0</td>\n",
       "      <td>2022-09-01</td>\n",
       "      <td>0.062500</td>\n",
       "    </tr>\n",
       "    <tr>\n",
       "      <th>17</th>\n",
       "      <td>2022-08</td>\n",
       "      <td>2.0</td>\n",
       "      <td>33.0</td>\n",
       "      <td>2022-08-01</td>\n",
       "      <td>0.060606</td>\n",
       "    </tr>\n",
       "    <tr>\n",
       "      <th>18</th>\n",
       "      <td>2022-07</td>\n",
       "      <td>7.0</td>\n",
       "      <td>29.0</td>\n",
       "      <td>2022-07-01</td>\n",
       "      <td>0.241379</td>\n",
       "    </tr>\n",
       "    <tr>\n",
       "      <th>19</th>\n",
       "      <td>2022-06</td>\n",
       "      <td>4.0</td>\n",
       "      <td>31.0</td>\n",
       "      <td>2022-06-01</td>\n",
       "      <td>0.129032</td>\n",
       "    </tr>\n",
       "    <tr>\n",
       "      <th>20</th>\n",
       "      <td>2022-05</td>\n",
       "      <td>7.0</td>\n",
       "      <td>43.0</td>\n",
       "      <td>2022-05-01</td>\n",
       "      <td>0.162791</td>\n",
       "    </tr>\n",
       "    <tr>\n",
       "      <th>21</th>\n",
       "      <td>2022-04</td>\n",
       "      <td>3.0</td>\n",
       "      <td>46.0</td>\n",
       "      <td>2022-04-01</td>\n",
       "      <td>0.065217</td>\n",
       "    </tr>\n",
       "    <tr>\n",
       "      <th>22</th>\n",
       "      <td>2022-03</td>\n",
       "      <td>6.0</td>\n",
       "      <td>46.0</td>\n",
       "      <td>2022-03-01</td>\n",
       "      <td>0.130435</td>\n",
       "    </tr>\n",
       "    <tr>\n",
       "      <th>23</th>\n",
       "      <td>2022-02</td>\n",
       "      <td>7.0</td>\n",
       "      <td>53.0</td>\n",
       "      <td>2022-02-01</td>\n",
       "      <td>0.132075</td>\n",
       "    </tr>\n",
       "  </tbody>\n",
       "</table>\n",
       "</div>"
      ],
      "text/plain": [
       "      month  converted_cnt  trials_cnt month_norm  conversion_ratio\n",
       "0   2024-01            0.0        96.0 2024-01-01          0.000000\n",
       "1   2023-12            2.0        37.0 2023-12-01          0.054054\n",
       "2   2023-11            3.0        59.0 2023-11-01          0.050847\n",
       "3   2023-10            8.0        88.0 2023-10-01          0.090909\n",
       "4   2023-09            7.0        63.0 2023-09-01          0.111111\n",
       "5   2023-08            5.0        67.0 2023-08-01          0.074627\n",
       "6   2023-07            4.0        23.0 2023-07-01          0.173913\n",
       "7   2023-06            3.0        47.0 2023-06-01          0.063830\n",
       "8   2023-05            2.0        43.0 2023-05-01          0.046512\n",
       "9   2023-04            5.0        37.0 2023-04-01          0.135135\n",
       "10  2023-03            4.0        47.0 2023-03-01          0.085106\n",
       "11  2023-02            7.0        49.0 2023-02-01          0.142857\n",
       "12  2023-01            5.0        48.0 2023-01-01          0.104167\n",
       "13  2022-12            2.0        19.0 2022-12-01          0.105263\n",
       "14  2022-11            3.0        32.0 2022-11-01          0.093750\n",
       "15  2022-10            8.0        54.0 2022-10-01          0.148148\n",
       "16  2022-09            3.0        48.0 2022-09-01          0.062500\n",
       "17  2022-08            2.0        33.0 2022-08-01          0.060606\n",
       "18  2022-07            7.0        29.0 2022-07-01          0.241379\n",
       "19  2022-06            4.0        31.0 2022-06-01          0.129032\n",
       "20  2022-05            7.0        43.0 2022-05-01          0.162791\n",
       "21  2022-04            3.0        46.0 2022-04-01          0.065217\n",
       "22  2022-03            6.0        46.0 2022-03-01          0.130435\n",
       "23  2022-02            7.0        53.0 2022-02-01          0.132075"
      ]
     },
     "execution_count": 14,
     "metadata": {},
     "output_type": "execute_result"
    }
   ],
   "source": [
    "df.head(24)"
   ]
  },
  {
   "cell_type": "code",
   "execution_count": 11,
   "metadata": {},
   "outputs": [],
   "source": [
    "df = df.fillna(0)\n",
    "df['month_norm'] = pd.to_datetime(df['month']).dt.normalize()"
   ]
  },
  {
   "cell_type": "code",
   "execution_count": 12,
   "metadata": {},
   "outputs": [
    {
     "data": {
      "image/png": "[encoded data removed]",
      "text/plain": [
       "<Figure size 1008x576 with 2 Axes>"
      ]
     },
     "metadata": {
      "needs_background": "light"
     },
     "output_type": "display_data"
    }
   ],
   "source": [
    "df['conversion_ratio'] = df['converted_cnt']/df['trials_cnt']\n",
    "fig,ax1 = plt.subplots()\n",
    "df.sort_values('month', ascending = True).plot(x = \"month\", y = [\"converted_cnt\",\"trials_cnt\"], figsize = (10,6), kind = \"bar\", ax=ax1)\n",
    "ax1.set_ylabel(\"count of trials\")\n",
    "ax1.set_xlabel(\"calendar month\")\n",
    "ax1.legend(bbox_to_anchor = (1,.93),labels = ['number converted','trials'])\n",
    "ax1.set_facecolor(\"lightgrey\")\n",
    "\n",
    "ax2=ax1.twinx()\n",
    "df.sort_values('month', ascending = True).plot(x = \"month\", y = \"conversion_ratio\", figsize = (14,8), kind = \"line\", marker = \"*\", ax=ax2, color = \"green\")\n",
    "ax2.set_ylabel(\"conversion rate\")\n",
    "ax2.set_ylim(bottom = 0, top = 0.3)\n",
    "ax2.legend(labels = ['conversion ratio'])\n",
    "ax1.set_xticklabels(df['month'].sort_values(ascending = True),rotation = 45)\n",
    "ax1.set_title(\"Conversion rate of trials vs. Volume \\n (Provide sufficient lag for trial start date to possible conversion)\", fontsize = 16)\n",
    "plt.gca().yaxis.set_major_formatter(mtick.PercentFormatter(xmax=1.0))\n",
    "plt.show()"
   ]
  },
  {
   "attachments": {},
   "cell_type": "markdown",
   "metadata": {},
   "source": [
    "## Tracking shopping habits of trial members"
   ]
  },
  {
   "attachments": {},
   "cell_type": "markdown",
   "metadata": {},
   "source": [
    "This involves importing a csv resultset from the mysql db, as sqlaclhemy doesn't process some of the data types properly. \n",
    "<br>**NOTE** the query (stored in membership_queries_dev.sql) also requires an updated *shopping activity log* report to be imported into the mysql db."
   ]
  },
  {
   "cell_type": "code",
   "execution_count": 11,
   "metadata": {},
   "outputs": [],
   "source": [
    "#this cannot be compiled by sqlalchemy, will require a csv import after querying in dBeaver\n",
    "sql = '''\n",
    "select date_add(trial_start_dt, interval  -WEEKDAY(trial_start_dt)-1 day) FirstDayOfWeek, avg(trips) avg_trips_while_trial, \n",
    "count(distinct email) trial_members, sum(case when tsh.trips > (SELECT avg(tsh_m.trips) from trialShoppingHabits tsh_m WHERE date_add(tsh_m.trial_start_dt, interval  -WEEKDAY(tsh_m.trial_start_dt)-1 day) = date_add(tsh.trial_start_dt, interval  -WEEKDAY(tsh.trial_start_dt)-1 day) AND tsh_m.relative_trial_period = 'in trial') THEN 1 ELSE 0 end) num_over_avg\n",
    "-- (select max(mini.type_clean) from mem_type mini where mini.email = mt.email AND mini.type_clean not like '%trial%') \n",
    "from trialShoppingHabits tsh\n",
    "where relative_trial_period = 'in trial'\n",
    "group by 1\n",
    "order by 1 asc;\n",
    "'''"
   ]
  },
  {
   "cell_type": "code",
   "execution_count": 13,
   "metadata": {},
   "outputs": [],
   "source": [
    "#unnecessary bc I can't execute this query properly in sqlalchemy\n",
    "#with engine.connect() as conn:\n",
    "#    shop = pd.read_sql(sql, con = conn)"
   ]
  },
  {
   "cell_type": "code",
   "execution_count": 15,
   "metadata": {},
   "outputs": [
    {
     "data": {
      "text/plain": [
       "'/home/candela/Documents/greeneHill/membershipReportsCIVI'"
      ]
     },
     "execution_count": 15,
     "metadata": {},
     "output_type": "execute_result"
    }
   ],
   "source": [
    "os.getcwd()"
   ]
  },
  {
   "cell_type": "code",
   "execution_count": 3,
   "metadata": {},
   "outputs": [
    {
     "data": {
      "text/plain": [
       "['problematic_activityCalc',\n",
       " 'mt_ms_join-1691949177932.csv',\n",
       " 'trials_shopping-1690132262897.csv',\n",
       " 'target_set_trial_members-1691340912095.csv',\n",
       " 'active_mems-1692142273116.csv',\n",
       " 'trials_shopping_0925-1695695630675.csv',\n",
       " 'mt_ms_join_WHERE-1691974925006.csv',\n",
       " 'trials_shopping_2024-01-03_diagnostic.csv',\n",
       " 'mem_type_202307041745.csv',\n",
       " 'mt_ms_1015_raw-1697386951565.csv',\n",
       " 'mt_ms_1003.csv',\n",
       " 'target_set_trial_members.csv',\n",
       " 'initialEnrollmentInspection-1700838282779.csv',\n",
       " 'trials_shopping_0925.csv',\n",
       " 'bushwick_psfc_202307041227.ods',\n",
       " 'mt_ms_1001.csv',\n",
       " 'trial_members_tsh_QA.csv',\n",
       " 'trialsToTarget_0925.ods',\n",
       " 'target_trial_members.csv',\n",
       " 'trialsToTarget_0925.csv',\n",
       " 'mt_ms_1001-1696182552098.csv',\n",
       " '_WITH_others_AS_select_from_mem_type_where_type_clean_in_bushwic_202307041216.csv',\n",
       " 'trials_shopping-1690242118896.csv',\n",
       " 'trials_shopping_2024-01-01.csv',\n",
       " 'initialEnrollmentInspection.csv',\n",
       " 'trialsToTarget_0925_emailOnly.csv',\n",
       " 'trials_shopping_avg.csv',\n",
       " 'trials_shopping-1690125122169.csv',\n",
       " 'mt_ms_1002.csv',\n",
       " 'mt_ms_join_WHERE.csv',\n",
       " 'trials_shopping.csv',\n",
       " 'target_trial_members-1691365090521.xlsx',\n",
       " 'target_trial_members-1691365090521.csv',\n",
       " 'trialsToTarget_20231203.csv',\n",
       " 'trials_shopping_2024-01-03_small.csv',\n",
       " 'mt_ms_1015_raw.csv',\n",
       " 'trials_shopping_2024-01-03_prod-1704333125787.csv',\n",
       " 'trials_shopping-1690124599459.csv',\n",
       " 'mt_ms_1015.csv',\n",
       " '_WITH_others_AS_select_from_mem_type_where_type_clean_in_bushwic_202307041227.csv']"
      ]
     },
     "execution_count": 3,
     "metadata": {},
     "output_type": "execute_result"
    }
   ],
   "source": [
    "os.listdir('./membership_mysql_extracts')"
   ]
  },
  {
   "cell_type": "code",
   "execution_count": 4,
   "metadata": {},
   "outputs": [],
   "source": [
    "shop_avg = pd.read_csv('./membership_mysql_extracts/trials_shopping_2024-01-03_prod-1704333125787.csv')"
   ]
  },
  {
   "cell_type": "code",
   "execution_count": 5,
   "metadata": {},
   "outputs": [
    {
     "data": {
      "text/plain": [
       "'2023-10-01'"
      ]
     },
     "execution_count": 5,
     "metadata": {},
     "output_type": "execute_result"
    }
   ],
   "source": [
    "min(shop_avg['FirstDayOfWeek'])"
   ]
  },
  {
   "cell_type": "code",
   "execution_count": 6,
   "metadata": {},
   "outputs": [
    {
     "data": {
      "text/html": [
       "<div>\n",
       "<style scoped>\n",
       "    .dataframe tbody tr th:only-of-type {\n",
       "        vertical-align: middle;\n",
       "    }\n",
       "\n",
       "    .dataframe tbody tr th {\n",
       "        vertical-align: top;\n",
       "    }\n",
       "\n",
       "    .dataframe thead th {\n",
       "        text-align: right;\n",
       "    }\n",
       "</style>\n",
       "<table border=\"1\" class=\"dataframe\">\n",
       "  <thead>\n",
       "    <tr style=\"text-align: right;\">\n",
       "      <th></th>\n",
       "      <th>FirstDayOfWeek</th>\n",
       "      <th>avg_trips_while_trial</th>\n",
       "      <th>trial_members</th>\n",
       "      <th>above_avg_trial_members</th>\n",
       "    </tr>\n",
       "  </thead>\n",
       "  <tbody>\n",
       "    <tr>\n",
       "      <th>9</th>\n",
       "      <td>2023-12-03</td>\n",
       "      <td>1.0000</td>\n",
       "      <td>11</td>\n",
       "      <td>3.0</td>\n",
       "    </tr>\n",
       "    <tr>\n",
       "      <th>10</th>\n",
       "      <td>2023-12-10</td>\n",
       "      <td>0.0000</td>\n",
       "      <td>4</td>\n",
       "      <td>NaN</td>\n",
       "    </tr>\n",
       "    <tr>\n",
       "      <th>11</th>\n",
       "      <td>2023-12-17</td>\n",
       "      <td>0.7143</td>\n",
       "      <td>7</td>\n",
       "      <td>4.0</td>\n",
       "    </tr>\n",
       "    <tr>\n",
       "      <th>12</th>\n",
       "      <td>2023-12-24</td>\n",
       "      <td>0.2500</td>\n",
       "      <td>8</td>\n",
       "      <td>2.0</td>\n",
       "    </tr>\n",
       "    <tr>\n",
       "      <th>13</th>\n",
       "      <td>2023-12-31</td>\n",
       "      <td>1.0000</td>\n",
       "      <td>1</td>\n",
       "      <td>NaN</td>\n",
       "    </tr>\n",
       "  </tbody>\n",
       "</table>\n",
       "</div>"
      ],
      "text/plain": [
       "   FirstDayOfWeek  avg_trips_while_trial  trial_members  \\\n",
       "9      2023-12-03                 1.0000             11   \n",
       "10     2023-12-10                 0.0000              4   \n",
       "11     2023-12-17                 0.7143              7   \n",
       "12     2023-12-24                 0.2500              8   \n",
       "13     2023-12-31                 1.0000              1   \n",
       "\n",
       "    above_avg_trial_members  \n",
       "9                       3.0  \n",
       "10                      NaN  \n",
       "11                      4.0  \n",
       "12                      2.0  \n",
       "13                      NaN  "
      ]
     },
     "execution_count": 6,
     "metadata": {},
     "output_type": "execute_result"
    }
   ],
   "source": [
    "shop_avg.tail()"
   ]
  },
  {
   "cell_type": "code",
   "execution_count": 8,
   "metadata": {},
   "outputs": [
    {
     "data": {
      "text/plain": [
       "<matplotlib.legend.Legend at 0x7f503351f2b0>"
      ]
     },
     "execution_count": 8,
     "metadata": {},
     "output_type": "execute_result"
    },
    {
     "data": {
      "image/png": "[encoded data removed]",
      "text/plain": [
       "<Figure size 720x432 with 2 Axes>"
      ]
     },
     "metadata": {
      "needs_background": "light"
     },
     "output_type": "display_data"
    }
   ],
   "source": [
    "#field names: FirstDayOfWeek\tavg_trips_while_trial\ttrial_members\tabove_avg_trial_members\n",
    "fig,ax1 = plt.subplots(figsize = (10,7))\n",
    "shop_avg.sort_values('FirstDayOfWeek', ascending = True).plot(x = \"FirstDayOfWeek\", y = [\"trial_members\",\"above_avg_trial_members\"], figsize = (10,6), kind = \"bar\", ax=ax1)\n",
    "ax1.set_ylabel('# of trial members')\n",
    "ax2 = ax1.twinx()\n",
    "ax2.plot(shop_avg['FirstDayOfWeek'],shop_avg['avg_trips_while_trial'], marker = '*', color = 'brown')\n",
    "ax2.set_ylabel('avg trips in-trial')\n",
    "ax1.set_title('Average Trips During Trial by Enrollment Period Cohort', fontsize = 16)\n",
    "ax2.legend(bbox_to_anchor = (1,.89), labels = ['average trips while in-trial'])\n",
    "ax1.legend(bbox_to_anchor = (.883,1))\n"
   ]
  },
  {
   "attachments": {},
   "cell_type": "markdown",
   "metadata": {},
   "source": [
    "## QA the low number of active members"
   ]
  },
  {
   "cell_type": "code",
   "execution_count": 2,
   "metadata": {},
   "outputs": [],
   "source": [
    "\n",
    "user = 'root'\n",
    "password = 'baeldung'\n",
    "host = '172.17.0.2'\n",
    "port = 3306\n",
    "database = 'membership'\n",
    "\n",
    "url=\"mysql+pymysql://{0}:{1}@{2}:{3}/{4}\".format(user, password, host, port, database)\n",
    "\n",
    "engine = sqlalchemy.create_engine(url)\n",
    "\n",
    "\n",
    "sql = '''\n",
    "SELECT *\n",
    "FROM stack_jobII sj\n",
    "WHERE DATE('2023-12-03') BETWEEN start_dt AND lead_date\n",
    "AND activity_calc IN ('winback','initial enrollment','technical activation','technical reactivation','technical re-activation');\n",
    "'''\n",
    "\n",
    "with engine.connect() as conn:\n",
    "    df = pd.read_sql(sql, con = conn)"
   ]
  },
  {
   "cell_type": "code",
   "execution_count": 7,
   "metadata": {},
   "outputs": [],
   "source": [
    "# query CIVI active member report\n",
    "current_mem = pd.read_csv('./membership_mysql_extracts/currentMembersReport_20240121.csv')"
   ]
  },
  {
   "cell_type": "code",
   "execution_count": 12,
   "metadata": {},
   "outputs": [],
   "source": [
    "current_mem.columns = [i.replace(' ','_') for i in current_mem.columns]"
   ]
  },
  {
   "cell_type": "code",
   "execution_count": 14,
   "metadata": {},
   "outputs": [],
   "source": [
    "cur2 = current_mem.loc[current_mem['Membership_Type'] != 'Zucchini Plan',:]"
   ]
  },
  {
   "cell_type": "code",
   "execution_count": 17,
   "metadata": {},
   "outputs": [],
   "source": [
    "merged = cur2.merge(df, how = 'left', left_on = 'Email', right_on = 'mt_email')"
   ]
  },
  {
   "cell_type": "code",
   "execution_count": 15,
   "metadata": {},
   "outputs": [
    {
     "data": {
      "text/plain": [
       "Index(['Contact_Name', 'First_Name', 'Last_Name', 'Membership_Type',\n",
       "       'Start_Date', 'End_Date', 'Join_Date', 'Status', 'Email', 'Phone',\n",
       "       'Financial_Type', 'Contribution_Status', 'Payment_Type',\n",
       "       'Date_Received', 'Receipt_Date', 'Fee_Amount', 'Amount',\n",
       "       'Auto-Renew_Subscription_Status', 'Admin_Fee_Paid_Amount', 'Donated?'],\n",
       "      dtype='object')"
      ]
     },
     "execution_count": 15,
     "metadata": {},
     "output_type": "execute_result"
    }
   ],
   "source": [
    "cur2.columns"
   ]
  },
  {
   "cell_type": "code",
   "execution_count": 16,
   "metadata": {},
   "outputs": [
    {
     "data": {
      "text/plain": [
       "Index(['mt_email', 'start_dt', 'lead_date', 'activity', 'mem_type', 'type_raw',\n",
       "       'mt_cancel_flag', 'activity_calc', 'text_status_indicator', 'row_num',\n",
       "       'total_rows'],\n",
       "      dtype='object')"
      ]
     },
     "execution_count": 16,
     "metadata": {},
     "output_type": "execute_result"
    }
   ],
   "source": [
    "df.columns"
   ]
  },
  {
   "cell_type": "code",
   "execution_count": 22,
   "metadata": {},
   "outputs": [
    {
     "data": {
      "text/html": [
       "<div>\n",
       "<style scoped>\n",
       "    .dataframe tbody tr th:only-of-type {\n",
       "        vertical-align: middle;\n",
       "    }\n",
       "\n",
       "    .dataframe tbody tr th {\n",
       "        vertical-align: top;\n",
       "    }\n",
       "\n",
       "    .dataframe thead th {\n",
       "        text-align: right;\n",
       "    }\n",
       "</style>\n",
       "<table border=\"1\" class=\"dataframe\">\n",
       "  <thead>\n",
       "    <tr style=\"text-align: right;\">\n",
       "      <th></th>\n",
       "      <th>Contact_Name</th>\n",
       "      <th>First_Name</th>\n",
       "      <th>Last_Name</th>\n",
       "      <th>Membership_Type</th>\n",
       "      <th>Email</th>\n",
       "      <th>Start_Date</th>\n",
       "      <th>End_Date</th>\n",
       "      <th>Join_Date</th>\n",
       "    </tr>\n",
       "  </thead>\n",
       "  <tbody>\n",
       "    <tr>\n",
       "      <th>0</th>\n",
       "      <td>Akinyode, Becky</td>\n",
       "      <td>Becky</td>\n",
       "      <td>Akinyode</td>\n",
       "      <td>Apple Plan</td>\n",
       "      <td>oba1620@gmail.com</td>\n",
       "      <td>2019-06-10</td>\n",
       "      <td>NaN</td>\n",
       "      <td>2018-02-18</td>\n",
       "    </tr>\n",
       "    <tr>\n",
       "      <th>1</th>\n",
       "      <td>Albert, Nathan</td>\n",
       "      <td>Nathan</td>\n",
       "      <td>Albert</td>\n",
       "      <td>Carrot Plan</td>\n",
       "      <td>nathanealbert@gmail.com</td>\n",
       "      <td>2014-03-17</td>\n",
       "      <td>NaN</td>\n",
       "      <td>2014-03-17</td>\n",
       "    </tr>\n",
       "    <tr>\n",
       "      <th>2</th>\n",
       "      <td>Alcouloumre, Aaron</td>\n",
       "      <td>Aaron</td>\n",
       "      <td>Alcouloumre</td>\n",
       "      <td>Lettuce Plan</td>\n",
       "      <td>aaron1215@me.com</td>\n",
       "      <td>2024-01-08</td>\n",
       "      <td>NaN</td>\n",
       "      <td>2024-01-08</td>\n",
       "    </tr>\n",
       "    <tr>\n",
       "      <th>4</th>\n",
       "      <td>Amiel, Travis</td>\n",
       "      <td>Travis</td>\n",
       "      <td>Amiel</td>\n",
       "      <td>Lettuce Plan</td>\n",
       "      <td>travisamiel@gmail.com</td>\n",
       "      <td>2020-02-15</td>\n",
       "      <td>NaN</td>\n",
       "      <td>2020-02-15</td>\n",
       "    </tr>\n",
       "    <tr>\n",
       "      <th>6</th>\n",
       "      <td>Anderson, Luki</td>\n",
       "      <td>Luki</td>\n",
       "      <td>Anderson</td>\n",
       "      <td>Lettuce Plan</td>\n",
       "      <td>lukianderson@gmail.com</td>\n",
       "      <td>2023-10-05</td>\n",
       "      <td>NaN</td>\n",
       "      <td>2011-12-31</td>\n",
       "    </tr>\n",
       "    <tr>\n",
       "      <th>8</th>\n",
       "      <td>Askew, Joy</td>\n",
       "      <td>Joy</td>\n",
       "      <td>Askew</td>\n",
       "      <td>Lettuce Plan</td>\n",
       "      <td>joyaskew@gmail.com</td>\n",
       "      <td>2022-02-09</td>\n",
       "      <td>NaN</td>\n",
       "      <td>2019-04-14</td>\n",
       "    </tr>\n",
       "    <tr>\n",
       "      <th>9</th>\n",
       "      <td>Augenbraun, Susan</td>\n",
       "      <td>Susan</td>\n",
       "      <td>Augenbraun</td>\n",
       "      <td>Lettuce Plan</td>\n",
       "      <td>slaugenbraun@gmail.com</td>\n",
       "      <td>2018-08-19</td>\n",
       "      <td>NaN</td>\n",
       "      <td>2018-08-19</td>\n",
       "    </tr>\n",
       "  </tbody>\n",
       "</table>\n",
       "</div>"
      ],
      "text/plain": [
       "         Contact_Name First_Name    Last_Name Membership_Type  \\\n",
       "0     Akinyode, Becky      Becky     Akinyode      Apple Plan   \n",
       "1      Albert, Nathan     Nathan       Albert     Carrot Plan   \n",
       "2  Alcouloumre, Aaron      Aaron  Alcouloumre    Lettuce Plan   \n",
       "4       Amiel, Travis     Travis        Amiel    Lettuce Plan   \n",
       "6      Anderson, Luki       Luki     Anderson    Lettuce Plan   \n",
       "8          Askew, Joy        Joy        Askew    Lettuce Plan   \n",
       "9   Augenbraun, Susan      Susan   Augenbraun    Lettuce Plan   \n",
       "\n",
       "                     Email  Start_Date End_Date   Join_Date  \n",
       "0        oba1620@gmail.com  2019-06-10      NaN  2018-02-18  \n",
       "1  nathanealbert@gmail.com  2014-03-17      NaN  2014-03-17  \n",
       "2         aaron1215@me.com  2024-01-08      NaN  2024-01-08  \n",
       "4    travisamiel@gmail.com  2020-02-15      NaN  2020-02-15  \n",
       "6   lukianderson@gmail.com  2023-10-05      NaN  2011-12-31  \n",
       "8       joyaskew@gmail.com  2022-02-09      NaN  2019-04-14  \n",
       "9   slaugenbraun@gmail.com  2018-08-19      NaN  2018-08-19  "
      ]
     },
     "execution_count": 22,
     "metadata": {},
     "output_type": "execute_result"
    }
   ],
   "source": [
    "merged.loc[merged['mem_type'].isna(),['Contact_Name','First_Name','Last_Name','Membership_Type','Email','Start_Date','End_Date','Join_Date']][0:7]"
   ]
  }
 ],
 "metadata": {
  "kernelspec": {
   "display_name": "base_38",
   "language": "python",
   "name": "python3"
  },
  "language_info": {
   "codemirror_mode": {
    "name": "ipython",
    "version": 3
   },
   "file_extension": ".py",
   "mimetype": "text/x-python",
   "name": "python",
   "nbconvert_exporter": "python",
   "pygments_lexer": "ipython3",
   "version": "3.8.18"
  },
  "orig_nbformat": 4
 },
 "nbformat": 4,
 "nbformat_minor": 2
}
