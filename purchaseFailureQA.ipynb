{
 "cells": [
  {
   "attachments": {},
   "cell_type": "markdown",
   "metadata": {},
   "source": [
    "Added QA layer for onboarding. Current resource is Becky Akinyode. This report surfaces those prospective members that experienced a payment failure. Some of them go on to record a successful payment which results in a membership or 6-mo trial activation (verified on the New Member report), while others never record an activation. The latter are sent to Becky for follow-up. The relevant CIVI source reports are **'New And Re-Activated Members'** (make sure date filters are appropriate) and **'Contribution Details - Failures'**"
   ]
  },
  {
   "cell_type": "code",
   "execution_count": 1,
   "metadata": {},
   "outputs": [],
   "source": [
    "import pandas as pd\n",
    "import datetime\n",
    "import os\n",
    "import itertools"
   ]
  },
  {
   "cell_type": "code",
   "execution_count": 2,
   "metadata": {},
   "outputs": [],
   "source": [
    "os.chdir('/home/candela/Documents/greeneHill/membershipReportsCIVI/membership_QA_process')"
   ]
  },
  {
   "cell_type": "code",
   "execution_count": 8,
   "metadata": {},
   "outputs": [],
   "source": [
    "new_member = pd.read_csv('./newMemberReports_rawCIVI/Report_20240109-1846.csv')\n",
    "failures = pd.read_csv('./contributionsFailureReports_rawCIVI/Report_20240109-1848.csv')"
   ]
  },
  {
   "cell_type": "code",
   "execution_count": 9,
   "metadata": {},
   "outputs": [],
   "source": [
    "new_member.columns = [i.replace(' ','_') for i in new_member.columns]\n",
    "failures.columns = [i.replace(' ','_') for i in failures.columns]"
   ]
  },
  {
   "cell_type": "code",
   "execution_count": 10,
   "metadata": {},
   "outputs": [
    {
     "name": "stdout",
     "output_type": "stream",
     "text": [
      "<class 'pandas.core.frame.DataFrame'>\n",
      "RangeIndex: 42 entries, 0 to 41\n",
      "Data columns (total 6 columns):\n",
      " #   Column          Non-Null Count  Dtype \n",
      "---  ------          --------------  ----- \n",
      " 0   Donor_Name      42 non-null     object\n",
      " 1   Donor_Email     42 non-null     object\n",
      " 2   Donor_Phone     42 non-null     object\n",
      " 3   Financial_Type  42 non-null     object\n",
      " 4   Date_Received   42 non-null     object\n",
      " 5   Amount          42 non-null     object\n",
      "dtypes: object(6)\n",
      "memory usage: 2.1+ KB\n"
     ]
    }
   ],
   "source": [
    "#change date-like fields to date datatype\n",
    "failures.info()"
   ]
  },
  {
   "cell_type": "code",
   "execution_count": 22,
   "metadata": {},
   "outputs": [
    {
     "data": {
      "text/html": [
       "<div>\n",
       "<style scoped>\n",
       "    .dataframe tbody tr th:only-of-type {\n",
       "        vertical-align: middle;\n",
       "    }\n",
       "\n",
       "    .dataframe tbody tr th {\n",
       "        vertical-align: top;\n",
       "    }\n",
       "\n",
       "    .dataframe thead th {\n",
       "        text-align: right;\n",
       "    }\n",
       "</style>\n",
       "<table border=\"1\" class=\"dataframe\">\n",
       "  <thead>\n",
       "    <tr style=\"text-align: right;\">\n",
       "      <th></th>\n",
       "      <th>Contact_Name</th>\n",
       "      <th>First_Name</th>\n",
       "      <th>Last_Name</th>\n",
       "      <th>Membership_Type</th>\n",
       "      <th>Start_Date</th>\n",
       "      <th>End_Date</th>\n",
       "      <th>Status</th>\n",
       "      <th>Email</th>\n",
       "      <th>Phone</th>\n",
       "    </tr>\n",
       "  </thead>\n",
       "  <tbody>\n",
       "    <tr>\n",
       "      <th>0</th>\n",
       "      <td>Saffold, Sydney</td>\n",
       "      <td>Sydney</td>\n",
       "      <td>Saffold</td>\n",
       "      <td>Zucchini Plan</td>\n",
       "      <td>2023-12-27</td>\n",
       "      <td>2024-06-26</td>\n",
       "      <td>New</td>\n",
       "      <td>s.saffold91@gmail.com</td>\n",
       "      <td>4785088710</td>\n",
       "    </tr>\n",
       "    <tr>\n",
       "      <th>1</th>\n",
       "      <td>Obrien, Kate</td>\n",
       "      <td>Kate</td>\n",
       "      <td>Obrien</td>\n",
       "      <td>Zucchini Plan</td>\n",
       "      <td>2023-12-14</td>\n",
       "      <td>2024-06-13</td>\n",
       "      <td>New</td>\n",
       "      <td>katemaryobrien@gmail.com</td>\n",
       "      <td>2158721756</td>\n",
       "    </tr>\n",
       "    <tr>\n",
       "      <th>2</th>\n",
       "      <td>Funk, Lindsay</td>\n",
       "      <td>Lindsay</td>\n",
       "      <td>Funk</td>\n",
       "      <td>Zucchini Plan</td>\n",
       "      <td>2023-12-07</td>\n",
       "      <td>2024-06-06</td>\n",
       "      <td>New</td>\n",
       "      <td>lfunk.stanford@gmail.com</td>\n",
       "      <td>4255015012</td>\n",
       "    </tr>\n",
       "    <tr>\n",
       "      <th>3</th>\n",
       "      <td>Graney, Trevor</td>\n",
       "      <td>Trevor</td>\n",
       "      <td>Graney</td>\n",
       "      <td>Zucchini Plan</td>\n",
       "      <td>2023-11-29</td>\n",
       "      <td>2024-05-28</td>\n",
       "      <td>New</td>\n",
       "      <td>tgraney11@gmail.com</td>\n",
       "      <td>9787717429</td>\n",
       "    </tr>\n",
       "    <tr>\n",
       "      <th>4</th>\n",
       "      <td>Josties, Bettine</td>\n",
       "      <td>Bettine</td>\n",
       "      <td>Josties</td>\n",
       "      <td>Zucchini Plan</td>\n",
       "      <td>2023-11-27</td>\n",
       "      <td>2024-05-26</td>\n",
       "      <td>New</td>\n",
       "      <td>bettine.josties@gmail.com</td>\n",
       "      <td>9293055818</td>\n",
       "    </tr>\n",
       "  </tbody>\n",
       "</table>\n",
       "</div>"
      ],
      "text/plain": [
       "       Contact_Name First_Name Last_Name Membership_Type Start_Date  \\\n",
       "0   Saffold, Sydney     Sydney   Saffold   Zucchini Plan 2023-12-27   \n",
       "1      Obrien, Kate       Kate    Obrien   Zucchini Plan 2023-12-14   \n",
       "2     Funk, Lindsay    Lindsay      Funk   Zucchini Plan 2023-12-07   \n",
       "3    Graney, Trevor     Trevor    Graney   Zucchini Plan 2023-11-29   \n",
       "4  Josties, Bettine    Bettine   Josties   Zucchini Plan 2023-11-27   \n",
       "\n",
       "    End_Date Status                      Email       Phone  \n",
       "0 2024-06-26    New      s.saffold91@gmail.com  4785088710  \n",
       "1 2024-06-13    New   katemaryobrien@gmail.com  2158721756  \n",
       "2 2024-06-06    New   lfunk.stanford@gmail.com  4255015012  \n",
       "3 2024-05-28    New        tgraney11@gmail.com  9787717429  \n",
       "4 2024-05-26    New  bettine.josties@gmail.com  9293055818  "
      ]
     },
     "execution_count": 22,
     "metadata": {},
     "output_type": "execute_result"
    }
   ],
   "source": [
    "new_member.head()\n",
    "#pd.to_datetime(new_member['Start_Date'])"
   ]
  },
  {
   "cell_type": "code",
   "execution_count": 12,
   "metadata": {},
   "outputs": [],
   "source": [
    "#adjust all the \"date\" fields simultaneously\n",
    "#index a list via another bool list\n",
    "date_fields = list(itertools.compress(new_member.columns,['date' in i.lower() for i in new_member.columns]))\n",
    "new_member[date_fields] = new_member[date_fields].apply(pd.to_datetime)\n",
    "\n",
    "date_fields2 = list(itertools.compress(failures.columns,['date' in i.lower() for i in failures.columns]))\n",
    "failures[date_fields2] = failures[date_fields2].apply(pd.to_datetime)"
   ]
  },
  {
   "cell_type": "code",
   "execution_count": 31,
   "metadata": {},
   "outputs": [],
   "source": [
    "#Start_Date is in date format, while Date_Received is in timestamp\n",
    "failures['Date_Received'] = failures['Date_Received'].dt.date"
   ]
  },
  {
   "attachments": {},
   "cell_type": "markdown",
   "metadata": {},
   "source": [
    "Compress the failures dataset and compile metadata on each person: email, number of failures, array of dollar value, last failure date, Donor Name,\tDonor Email,Donor Phone, Financial Type"
   ]
  },
  {
   "cell_type": "code",
   "execution_count": 13,
   "metadata": {},
   "outputs": [
    {
     "data": {
      "text/plain": [
       "Index(['Donor_Name', 'Donor_Email', 'Donor_Phone', 'Financial_Type',\n",
       "       'Date_Received', 'Amount'],\n",
       "      dtype='object')"
      ]
     },
     "execution_count": 13,
     "metadata": {},
     "output_type": "execute_result"
    }
   ],
   "source": [
    "failures.columns"
   ]
  },
  {
   "cell_type": "code",
   "execution_count": 33,
   "metadata": {},
   "outputs": [],
   "source": [
    "failures.groupby(['Donor_Email','Donor_Name','Donor_Phone','Financial_Type']).agg({'Date_Received':'max','Amount':lambda x:x.tolist(),'Financial_Type':'size'})\n",
    "\n",
    "failures_grouped = failures.groupby(['Donor_Email','Donor_Name','Donor_Phone','Financial_Type']).agg({'Date_Received':'max','Amount':lambda x:x.tolist(),'Financial_Type':'size'}).rename_axis(['Donor_Email','Donor_Name','Donor_Phone','Financial_Type_meta']).reset_index().rename(columns = {'Date_Received':'latestFailureDate','Financial_Type':'numOfInstances','Amount':'amountArray'})\n",
    "#'dateLastFail','chargesArray','count'"
   ]
  },
  {
   "cell_type": "code",
   "execution_count": 34,
   "metadata": {},
   "outputs": [
    {
     "data": {
      "text/html": [
       "<div>\n",
       "<style scoped>\n",
       "    .dataframe tbody tr th:only-of-type {\n",
       "        vertical-align: middle;\n",
       "    }\n",
       "\n",
       "    .dataframe tbody tr th {\n",
       "        vertical-align: top;\n",
       "    }\n",
       "\n",
       "    .dataframe thead th {\n",
       "        text-align: right;\n",
       "    }\n",
       "</style>\n",
       "<table border=\"1\" class=\"dataframe\">\n",
       "  <thead>\n",
       "    <tr style=\"text-align: right;\">\n",
       "      <th></th>\n",
       "      <th>Donor_Email</th>\n",
       "      <th>Donor_Name</th>\n",
       "      <th>Donor_Phone</th>\n",
       "      <th>Financial_Type_meta</th>\n",
       "      <th>latestFailureDate</th>\n",
       "      <th>amountArray</th>\n",
       "      <th>numOfInstances</th>\n",
       "    </tr>\n",
       "  </thead>\n",
       "  <tbody>\n",
       "    <tr>\n",
       "      <th>0</th>\n",
       "      <td>aaron1215@me.com</td>\n",
       "      <td>Alcouloumre, Aaron</td>\n",
       "      <td>9496370120</td>\n",
       "      <td>Member Investment</td>\n",
       "      <td>2024-01-08</td>\n",
       "      <td>[$ 80.00]</td>\n",
       "      <td>1</td>\n",
       "    </tr>\n",
       "    <tr>\n",
       "      <th>1</th>\n",
       "      <td>alexmcqw@yahoo.com</td>\n",
       "      <td>McQuilkin, Alexander</td>\n",
       "      <td>6507043952</td>\n",
       "      <td>Member Investment</td>\n",
       "      <td>2023-12-06</td>\n",
       "      <td>[$ 21.43, $ 21.43, $ 21.43, $ 21.43]</td>\n",
       "      <td>4</td>\n",
       "    </tr>\n",
       "    <tr>\n",
       "      <th>2</th>\n",
       "      <td>amanda.brianna@me.com</td>\n",
       "      <td>Escamilla, Amanda</td>\n",
       "      <td>5616282407</td>\n",
       "      <td>Member Investment</td>\n",
       "      <td>2023-11-14</td>\n",
       "      <td>[$ 14.29, $ 14.29, $ 14.29, $ 50.00]</td>\n",
       "      <td>4</td>\n",
       "    </tr>\n",
       "    <tr>\n",
       "      <th>3</th>\n",
       "      <td>amelia.h.clark@gmail.com</td>\n",
       "      <td>Clark, Amelia</td>\n",
       "      <td>2032169492</td>\n",
       "      <td>Member Investment</td>\n",
       "      <td>2023-12-09</td>\n",
       "      <td>[$ 100.00]</td>\n",
       "      <td>1</td>\n",
       "    </tr>\n",
       "    <tr>\n",
       "      <th>4</th>\n",
       "      <td>anjblue8@gmail.com</td>\n",
       "      <td>Krishnakumar, Anjali</td>\n",
       "      <td>3474221871</td>\n",
       "      <td>Member Investment</td>\n",
       "      <td>2023-11-17</td>\n",
       "      <td>[$ 30.00]</td>\n",
       "      <td>1</td>\n",
       "    </tr>\n",
       "  </tbody>\n",
       "</table>\n",
       "</div>"
      ],
      "text/plain": [
       "                Donor_Email            Donor_Name Donor_Phone  \\\n",
       "0          aaron1215@me.com    Alcouloumre, Aaron  9496370120   \n",
       "1        alexmcqw@yahoo.com  McQuilkin, Alexander  6507043952   \n",
       "2     amanda.brianna@me.com     Escamilla, Amanda  5616282407   \n",
       "3  amelia.h.clark@gmail.com         Clark, Amelia  2032169492   \n",
       "4        anjblue8@gmail.com  Krishnakumar, Anjali  3474221871   \n",
       "\n",
       "  Financial_Type_meta latestFailureDate                           amountArray  \\\n",
       "0   Member Investment        2024-01-08                             [$ 80.00]   \n",
       "1   Member Investment        2023-12-06  [$ 21.43, $ 21.43, $ 21.43, $ 21.43]   \n",
       "2   Member Investment        2023-11-14  [$ 14.29, $ 14.29, $ 14.29, $ 50.00]   \n",
       "3   Member Investment        2023-12-09                            [$ 100.00]   \n",
       "4   Member Investment        2023-11-17                             [$ 30.00]   \n",
       "\n",
       "   numOfInstances  \n",
       "0               1  \n",
       "1               4  \n",
       "2               4  \n",
       "3               1  \n",
       "4               1  "
      ]
     },
     "execution_count": 34,
     "metadata": {},
     "output_type": "execute_result"
    }
   ],
   "source": [
    "failures_grouped.head()"
   ]
  },
  {
   "cell_type": "code",
   "execution_count": 76,
   "metadata": {},
   "outputs": [
    {
     "data": {
      "text/html": [
       "<div>\n",
       "<style scoped>\n",
       "    .dataframe tbody tr th:only-of-type {\n",
       "        vertical-align: middle;\n",
       "    }\n",
       "\n",
       "    .dataframe tbody tr th {\n",
       "        vertical-align: top;\n",
       "    }\n",
       "\n",
       "    .dataframe thead th {\n",
       "        text-align: right;\n",
       "    }\n",
       "</style>\n",
       "<table border=\"1\" class=\"dataframe\">\n",
       "  <thead>\n",
       "    <tr style=\"text-align: right;\">\n",
       "      <th></th>\n",
       "      <th>Contact_Name</th>\n",
       "      <th>First_Name</th>\n",
       "      <th>Last_Name</th>\n",
       "      <th>Membership_Type</th>\n",
       "      <th>Start_Date</th>\n",
       "      <th>End_Date</th>\n",
       "      <th>Status</th>\n",
       "      <th>Email</th>\n",
       "      <th>Phone</th>\n",
       "    </tr>\n",
       "  </thead>\n",
       "  <tbody>\n",
       "    <tr>\n",
       "      <th>0</th>\n",
       "      <td>Saffold, Sydney</td>\n",
       "      <td>Sydney</td>\n",
       "      <td>Saffold</td>\n",
       "      <td>Zucchini Plan</td>\n",
       "      <td>2023-12-27</td>\n",
       "      <td>2024-06-26</td>\n",
       "      <td>New</td>\n",
       "      <td>s.saffold91@gmail.com</td>\n",
       "      <td>4785088710</td>\n",
       "    </tr>\n",
       "    <tr>\n",
       "      <th>1</th>\n",
       "      <td>Obrien, Kate</td>\n",
       "      <td>Kate</td>\n",
       "      <td>Obrien</td>\n",
       "      <td>Zucchini Plan</td>\n",
       "      <td>2023-12-14</td>\n",
       "      <td>2024-06-13</td>\n",
       "      <td>New</td>\n",
       "      <td>katemaryobrien@gmail.com</td>\n",
       "      <td>2158721756</td>\n",
       "    </tr>\n",
       "    <tr>\n",
       "      <th>2</th>\n",
       "      <td>Funk, Lindsay</td>\n",
       "      <td>Lindsay</td>\n",
       "      <td>Funk</td>\n",
       "      <td>Zucchini Plan</td>\n",
       "      <td>2023-12-07</td>\n",
       "      <td>2024-06-06</td>\n",
       "      <td>New</td>\n",
       "      <td>lfunk.stanford@gmail.com</td>\n",
       "      <td>4255015012</td>\n",
       "    </tr>\n",
       "    <tr>\n",
       "      <th>3</th>\n",
       "      <td>Graney, Trevor</td>\n",
       "      <td>Trevor</td>\n",
       "      <td>Graney</td>\n",
       "      <td>Zucchini Plan</td>\n",
       "      <td>2023-11-29</td>\n",
       "      <td>2024-05-28</td>\n",
       "      <td>New</td>\n",
       "      <td>tgraney11@gmail.com</td>\n",
       "      <td>9787717429</td>\n",
       "    </tr>\n",
       "    <tr>\n",
       "      <th>4</th>\n",
       "      <td>Josties, Bettine</td>\n",
       "      <td>Bettine</td>\n",
       "      <td>Josties</td>\n",
       "      <td>Zucchini Plan</td>\n",
       "      <td>2023-11-27</td>\n",
       "      <td>2024-05-26</td>\n",
       "      <td>New</td>\n",
       "      <td>bettine.josties@gmail.com</td>\n",
       "      <td>9293055818</td>\n",
       "    </tr>\n",
       "  </tbody>\n",
       "</table>\n",
       "</div>"
      ],
      "text/plain": [
       "       Contact_Name First_Name Last_Name Membership_Type Start_Date  \\\n",
       "0   Saffold, Sydney     Sydney   Saffold   Zucchini Plan 2023-12-27   \n",
       "1      Obrien, Kate       Kate    Obrien   Zucchini Plan 2023-12-14   \n",
       "2     Funk, Lindsay    Lindsay      Funk   Zucchini Plan 2023-12-07   \n",
       "3    Graney, Trevor     Trevor    Graney   Zucchini Plan 2023-11-29   \n",
       "4  Josties, Bettine    Bettine   Josties   Zucchini Plan 2023-11-27   \n",
       "\n",
       "    End_Date Status                      Email       Phone  \n",
       "0 2024-06-26    New      s.saffold91@gmail.com  4785088710  \n",
       "1 2024-06-13    New   katemaryobrien@gmail.com  2158721756  \n",
       "2 2024-06-06    New   lfunk.stanford@gmail.com  4255015012  \n",
       "3 2024-05-28    New        tgraney11@gmail.com  9787717429  \n",
       "4 2024-05-26    New  bettine.josties@gmail.com  9293055818  "
      ]
     },
     "execution_count": 76,
     "metadata": {},
     "output_type": "execute_result"
    }
   ],
   "source": [
    "new_member.head()"
   ]
  },
  {
   "cell_type": "code",
   "execution_count": 35,
   "metadata": {},
   "outputs": [],
   "source": [
    "merged = failures_grouped.merge(new_member, how = 'left', left_on = 'Donor_Email',right_on = 'Email')"
   ]
  },
  {
   "cell_type": "code",
   "execution_count": 26,
   "metadata": {},
   "outputs": [
    {
     "data": {
      "text/plain": [
       "Index(['Donor_Email', 'Donor_Name', 'Donor_Phone', 'Financial_Type_meta',\n",
       "       'latestFailureDate', 'amountArray', 'numOfInstances', 'Contact_Name',\n",
       "       'First_Name', 'Last_Name', 'Membership_Type', 'Start_Date', 'End_Date',\n",
       "       'Status', 'Email', 'Phone'],\n",
       "      dtype='object')"
      ]
     },
     "execution_count": 26,
     "metadata": {},
     "output_type": "execute_result"
    }
   ],
   "source": [
    "merged.columns"
   ]
  },
  {
   "cell_type": "code",
   "execution_count": 30,
   "metadata": {},
   "outputs": [
    {
     "data": {
      "text/plain": [
       "Donor_Email                    object\n",
       "Donor_Name                     object\n",
       "Donor_Phone                    object\n",
       "Financial_Type_meta            object\n",
       "latestFailureDate      datetime64[ns]\n",
       "amountArray                    object\n",
       "numOfInstances                  int64\n",
       "Contact_Name                   object\n",
       "First_Name                     object\n",
       "Last_Name                      object\n",
       "Membership_Type                object\n",
       "Start_Date             datetime64[ns]\n",
       "End_Date               datetime64[ns]\n",
       "Status                         object\n",
       "Email                          object\n",
       "Phone                          object\n",
       "dtype: object"
      ]
     },
     "execution_count": 30,
     "metadata": {},
     "output_type": "execute_result"
    }
   ],
   "source": [
    "merged.dtypes"
   ]
  },
  {
   "attachments": {},
   "cell_type": "markdown",
   "metadata": {},
   "source": [
    "The problematic cases are when there is no/null data from the new_member dataframe (indicates the person wasn't provisioned an account), and arguably if the date of account creation (\"Start_Date\" in new_member) is BEFORE the max Date_Received."
   ]
  },
  {
   "cell_type": "code",
   "execution_count": 36,
   "metadata": {},
   "outputs": [
    {
     "data": {
      "text/html": [
       "<div>\n",
       "<style scoped>\n",
       "    .dataframe tbody tr th:only-of-type {\n",
       "        vertical-align: middle;\n",
       "    }\n",
       "\n",
       "    .dataframe tbody tr th {\n",
       "        vertical-align: top;\n",
       "    }\n",
       "\n",
       "    .dataframe thead th {\n",
       "        text-align: right;\n",
       "    }\n",
       "</style>\n",
       "<table border=\"1\" class=\"dataframe\">\n",
       "  <thead>\n",
       "    <tr style=\"text-align: right;\">\n",
       "      <th></th>\n",
       "      <th>Donor_Email</th>\n",
       "      <th>Donor_Name</th>\n",
       "      <th>Donor_Phone</th>\n",
       "      <th>Financial_Type_meta</th>\n",
       "      <th>latestFailureDate</th>\n",
       "      <th>amountArray</th>\n",
       "      <th>numOfInstances</th>\n",
       "      <th>Contact_Name</th>\n",
       "      <th>First_Name</th>\n",
       "      <th>Last_Name</th>\n",
       "      <th>Membership_Type</th>\n",
       "      <th>Start_Date</th>\n",
       "      <th>End_Date</th>\n",
       "      <th>Status</th>\n",
       "      <th>Email</th>\n",
       "      <th>Phone</th>\n",
       "    </tr>\n",
       "  </thead>\n",
       "  <tbody>\n",
       "    <tr>\n",
       "      <th>20</th>\n",
       "      <td>kvyas19@yahoo.com</td>\n",
       "      <td>Vyas, Karishma</td>\n",
       "      <td>3237727664</td>\n",
       "      <td>Donation</td>\n",
       "      <td>2023-12-11</td>\n",
       "      <td>[$ 25.00]</td>\n",
       "      <td>1</td>\n",
       "      <td>NaN</td>\n",
       "      <td>NaN</td>\n",
       "      <td>NaN</td>\n",
       "      <td>NaN</td>\n",
       "      <td>NaT</td>\n",
       "      <td>NaT</td>\n",
       "      <td>NaN</td>\n",
       "      <td>NaN</td>\n",
       "      <td>NaN</td>\n",
       "    </tr>\n",
       "    <tr>\n",
       "      <th>29</th>\n",
       "      <td>rcawdette.9@gmail.com</td>\n",
       "      <td>Cawdette, Roger</td>\n",
       "      <td>8577191723</td>\n",
       "      <td>Member Investment</td>\n",
       "      <td>2023-12-21</td>\n",
       "      <td>[$ 50.00]</td>\n",
       "      <td>1</td>\n",
       "      <td>Cawdette, Roger</td>\n",
       "      <td>Roger</td>\n",
       "      <td>Cawdette</td>\n",
       "      <td>Trial Membership</td>\n",
       "      <td>2023-12-19</td>\n",
       "      <td>2024-06-19</td>\n",
       "      <td>New</td>\n",
       "      <td>rcawdette.9@gmail.com</td>\n",
       "      <td>8577191723</td>\n",
       "    </tr>\n",
       "    <tr>\n",
       "      <th>31</th>\n",
       "      <td>simonewforsberg@gmail.com</td>\n",
       "      <td>Forsberg, Simone</td>\n",
       "      <td>8186369856</td>\n",
       "      <td>Member Investment</td>\n",
       "      <td>2023-11-15</td>\n",
       "      <td>[$ 100.00]</td>\n",
       "      <td>1</td>\n",
       "      <td>NaN</td>\n",
       "      <td>NaN</td>\n",
       "      <td>NaN</td>\n",
       "      <td>NaN</td>\n",
       "      <td>NaT</td>\n",
       "      <td>NaT</td>\n",
       "      <td>NaN</td>\n",
       "      <td>NaN</td>\n",
       "      <td>NaN</td>\n",
       "    </tr>\n",
       "  </tbody>\n",
       "</table>\n",
       "</div>"
      ],
      "text/plain": [
       "                  Donor_Email        Donor_Name Donor_Phone  \\\n",
       "20          kvyas19@yahoo.com    Vyas, Karishma  3237727664   \n",
       "29      rcawdette.9@gmail.com   Cawdette, Roger  8577191723   \n",
       "31  simonewforsberg@gmail.com  Forsberg, Simone  8186369856   \n",
       "\n",
       "   Financial_Type_meta latestFailureDate amountArray  numOfInstances  \\\n",
       "20            Donation        2023-12-11   [$ 25.00]               1   \n",
       "29   Member Investment        2023-12-21   [$ 50.00]               1   \n",
       "31   Member Investment        2023-11-15  [$ 100.00]               1   \n",
       "\n",
       "       Contact_Name First_Name Last_Name   Membership_Type Start_Date  \\\n",
       "20              NaN        NaN       NaN               NaN        NaT   \n",
       "29  Cawdette, Roger      Roger  Cawdette  Trial Membership 2023-12-19   \n",
       "31              NaN        NaN       NaN               NaN        NaT   \n",
       "\n",
       "     End_Date Status                  Email       Phone  \n",
       "20        NaT    NaN                    NaN         NaN  \n",
       "29 2024-06-19    New  rcawdette.9@gmail.com  8577191723  \n",
       "31        NaT    NaN                    NaN         NaN  "
      ]
     },
     "execution_count": 36,
     "metadata": {},
     "output_type": "execute_result"
    }
   ],
   "source": [
    "merged.loc[(merged['Contact_Name'].isnull()) | (merged['latestFailureDate'] > merged['Start_Date']),:]\n",
    "\n"
   ]
  },
  {
   "cell_type": "code",
   "execution_count": null,
   "metadata": {},
   "outputs": [],
   "source": [
    "\n",
    "merged.loc[merged['Contact_Name'].isnull(),:].to_csv('/home/candela/Documents/greeneHill/membershipReportsCIVI/membership_QA_process/failures_qa_01072024_Becky.csv',index = False)"
   ]
  },
  {
   "cell_type": "code",
   "execution_count": 81,
   "metadata": {},
   "outputs": [],
   "source": [
    "merged.to_csv('/home/candela/Documents/greeneHill/membershipReportsCIVI/membership_QA_process/failures_qa_01072024.csv',index = False)"
   ]
  }
 ],
 "metadata": {
  "kernelspec": {
   "display_name": "base_38",
   "language": "python",
   "name": "python3"
  },
  "language_info": {
   "codemirror_mode": {
    "name": "ipython",
    "version": 3
   },
   "file_extension": ".py",
   "mimetype": "text/x-python",
   "name": "python",
   "nbconvert_exporter": "python",
   "pygments_lexer": "ipython3",
   "version": "3.8.8"
  },
  "orig_nbformat": 4
 },
 "nbformat": 4,
 "nbformat_minor": 2
}
