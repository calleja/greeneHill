{
 "cells": [
  {
   "cell_type": "markdown",
   "metadata": {},
   "source": [
    "Trial Targeting Workflow\n",
    "1) Import and replace DB tables of *shopping log* and *member contacts* (data source: CIVI reports **\"Constituent Summary\"** and **\"Shopping Log - Activity Report\"**). These are now injected into the db here, but were previously injected via **ingestMemberContactInfo.ipynb** and **ingestMemberShopping.ipynb**\n",
    "2) run the trial_shopping .sql/stored procedure that selects for targets\n",
    "3) extract the result set that contains contact info and shopping stats\n",
    "\n",
    "Place raw CIVI report extracts into **/membershipReportsCIVI/membershipReportingLogicSampleReports/**\n",
    "NOTE: the stored procedure contains all the logic to calculate avg trips per cohort, and *currently* DOES NOT apply \"leave out current trial member\" when calculating avg trips "
   ]
  },
  {
   "cell_type": "code",
   "execution_count": 15,
   "metadata": {},
   "outputs": [],
   "source": [
    "# module contains some very basic pd. data frame processing\n",
    "import sqlalchemy\n",
    "import pandas as pd\n",
    "import datetime\n",
    "import sys\n",
    "import importlib\n",
    "from container_credentials import return_credentials"
   ]
  },
  {
   "cell_type": "code",
   "execution_count": 16,
   "metadata": {},
   "outputs": [],
   "source": [
    "import sys"
   ]
  },
  {
   "cell_type": "code",
   "execution_count": 17,
   "metadata": {},
   "outputs": [],
   "source": [
    "import fileProcessing2\n",
    "importlib.reload(fileProcessing2)\n",
    "from fileProcessing2 import process_shoplog, process_contacts"
   ]
  },
  {
   "cell_type": "code",
   "execution_count": 18,
   "metadata": {},
   "outputs": [],
   "source": [
    "shop = process_shoplog('/home/mofongo/Documents/ghfc/membershipReportsCIVI/membershipReportingLogicSampleReports/shoppingLogReport_20250316.csv')\n",
    "contacts = process_contacts('/home/mofongo/Documents/ghfc/membershipReportsCIVI/membershipReportingLogicSampleReports/constituentSummaryReport_20250316.csv')"
   ]
  },
  {
   "cell_type": "code",
   "execution_count": 19,
   "metadata": {},
   "outputs": [
    {
     "name": "stdout",
     "output_type": "stream",
     "text": [
      "ok to proceed as the dataframe conlumns are as expected\n"
     ]
    }
   ],
   "source": [
    "#ensure the dataframes for shop and contacts are appropriate\n",
    "contacts_qa = all([i in contacts.columns for i in ['contact_name', 'first_name', 'last_name', 'phone']])\n",
    "#ensure that the shop dataframe has a column called Target_Email\n",
    "shop_qa = all([i in shop.columns for i in ['Target_Email']])\n",
    "\n",
    "if all([contacts_qa,shop_qa]):\n",
    "    print(\"ok to proceed as the dataframe conlumns are as expected\")\n",
    "else:\n",
    "    print(\"check the dataframe imports as the columns don't conform to the expected\")"
   ]
  },
  {
   "cell_type": "code",
   "execution_count": 20,
   "metadata": {},
   "outputs": [
    {
     "name": "stdout",
     "output_type": "stream",
     "text": [
      "Connection to the 172.17.0.2 for user root created successfully.\n"
     ]
    }
   ],
   "source": [
    "# DEFINE THE DATABASE CREDENTIALS\n",
    "cred_dict = return_credentials()\n",
    "\n",
    "user = cred_dict['user'] \n",
    "password = cred_dict['pass'] \n",
    "host = cred_dict['host'] \n",
    "port = cred_dict['port'] \n",
    "database = cred_dict['database']\n",
    "\n",
    "def get_connection():\n",
    "\treturn sqlalchemy.create_engine(\n",
    "\t\turl=\"mysql+pymysql://{0}:{1}@{2}:{3}/{4}\".format(\n",
    "\t\t\tuser, password, host, port, database\n",
    "\t\t)\n",
    "\t)\n",
    "\n",
    "if __name__ == '__main__':\n",
    "\n",
    "\ttry:\n",
    "\t\n",
    "\t\t# GET THE CONNECTION OBJECT (ENGINE) FOR THE DATABASE\n",
    "\t\tengine = get_connection()\n",
    "\t\tprint(\n",
    "\t\t\tf\"Connection to the {host} for user {user} created successfully.\")\n",
    "\texcept Exception as ex:\n",
    "\t\tprint(\"Connection could not be made due to the following error: \\n\", ex)\n"
   ]
  },
  {
   "cell_type": "code",
   "execution_count": 7,
   "metadata": {},
   "outputs": [],
   "source": [
    "#db injection: DO NOT change these table names as these are hard-coded in the trial_shopping stored procedure\n",
    "with engine.connect() as conn:\n",
    "    shop.loc[:,['Target_Name', 'Target_Email', 'Activity_Type', 'Subject', 'Activity_Date','ingest_date']].to_sql('shop_log', \n",
    "    con=engine, if_exists='replace', index=False)\n",
    "\n",
    "    contacts.to_sql('member_directory2', con=engine, if_exists='replace', index=False)"
   ]
  },
  {
   "cell_type": "markdown",
   "metadata": {},
   "source": [
    "Call the stored procedure. Ultimately creates a temporary table **trial_tgts** with the period's target individuals"
   ]
  },
  {
   "cell_type": "code",
   "execution_count": 21,
   "metadata": {},
   "outputs": [
    {
     "name": "stdout",
     "output_type": "stream",
     "text": [
      "ok to proceed, the stored procedure is located in the db server\n"
     ]
    }
   ],
   "source": [
    "with engine.connect() as conn:\n",
    "    result = conn.execute(sqlalchemy.text(\"show procedure status where definer LIKE '%root%'\"))\n",
    "    lista = [i[1] for i in result.all()]\n",
    "\n",
    "if 'trial_targets' in lista:\n",
    "    print('ok to proceed, the stored procedure is located in the db server')\n",
    "else: \n",
    "    raise ValueError('stored procedure trial_targets not found in DB')"
   ]
  },
  {
   "cell_type": "code",
   "execution_count": 22,
   "metadata": {},
   "outputs": [],
   "source": [
    "from sqlalchemy import text\n",
    "#a Core approach (because I'm interacting explicitly w/the engine as opposed to abstracted objects), where I write explicit SQL code\n",
    "#copied code from https://docs.sqlalchemy.org/en/20/core/connections.html\n",
    "connection = engine.raw_connection()\n",
    "try:\n",
    "    cursor_obj = connection.cursor()\n",
    "    cursor_obj.callproc(\"trial_targets\") #./stored_procedure_trial_shopping.sql\n",
    "    cursor_obj.close()\n",
    "    connection.commit()\n",
    "finally:\n",
    "        connection.close()\n"
   ]
  },
  {
   "cell_type": "code",
   "execution_count": 23,
   "metadata": {},
   "outputs": [],
   "source": [
    "sql = \"SELECT * FROM trial_tgts\"\n",
    "df = pd.read_sql(sql, con=engine)"
   ]
  },
  {
   "cell_type": "code",
   "execution_count": 11,
   "metadata": {},
   "outputs": [
    {
     "data": {
      "text/plain": [
       "(36, 10)"
      ]
     },
     "execution_count": 11,
     "metadata": {},
     "output_type": "execute_result"
    }
   ],
   "source": [
    "df.shape"
   ]
  },
  {
   "cell_type": "code",
   "execution_count": 13,
   "metadata": {},
   "outputs": [
    {
     "name": "stdout",
     "output_type": "stream",
     "text": [
      "<class 'pandas.core.frame.DataFrame'>\n",
      "RangeIndex: 43 entries, 0 to 42\n",
      "Data columns (total 10 columns):\n",
      " #   Column            Non-Null Count  Dtype  \n",
      "---  ------            --------------  -----  \n",
      " 0   FirstDayOfWeek    43 non-null     object \n",
      " 1   email             43 non-null     object \n",
      " 2   trips             43 non-null     int64  \n",
      " 3   trial_expiration  43 non-null     object \n",
      " 4   orig_type_clean   43 non-null     object \n",
      " 5   cohort_avg        43 non-null     float64\n",
      " 6   contact_name      43 non-null     object \n",
      " 7   first_name        43 non-null     object \n",
      " 8   last_name         43 non-null     object \n",
      " 9   phone             43 non-null     object \n",
      "dtypes: float64(1), int64(1), object(8)\n",
      "memory usage: 3.5+ KB\n"
     ]
    }
   ],
   "source": [
    "df.info()"
   ]
  },
  {
   "cell_type": "code",
   "execution_count": 14,
   "metadata": {},
   "outputs": [
    {
     "data": {
      "text/html": [
       "<div>\n",
       "<style scoped>\n",
       "    .dataframe tbody tr th:only-of-type {\n",
       "        vertical-align: middle;\n",
       "    }\n",
       "\n",
       "    .dataframe tbody tr th {\n",
       "        vertical-align: top;\n",
       "    }\n",
       "\n",
       "    .dataframe thead th {\n",
       "        text-align: right;\n",
       "    }\n",
       "</style>\n",
       "<table border=\"1\" class=\"dataframe\">\n",
       "  <thead>\n",
       "    <tr style=\"text-align: right;\">\n",
       "      <th></th>\n",
       "      <th>FirstDayOfWeek</th>\n",
       "      <th>email</th>\n",
       "      <th>trips</th>\n",
       "      <th>trial_expiration</th>\n",
       "      <th>orig_type_clean</th>\n",
       "      <th>cohort_avg</th>\n",
       "      <th>contact_name</th>\n",
       "      <th>first_name</th>\n",
       "      <th>last_name</th>\n",
       "      <th>phone</th>\n",
       "    </tr>\n",
       "  </thead>\n",
       "  <tbody>\n",
       "    <tr>\n",
       "      <th>0</th>\n",
       "      <td>2024-08-11</td>\n",
       "      <td>ben@brooklynrestoration.com</td>\n",
       "      <td>30</td>\n",
       "      <td>2025-02-10</td>\n",
       "      <td>6 mo trial</td>\n",
       "      <td>5.1250</td>\n",
       "      <td>Cohen, Benjamin</td>\n",
       "      <td>Benjamin</td>\n",
       "      <td>Cohen</td>\n",
       "      <td>9145120597</td>\n",
       "    </tr>\n",
       "    <tr>\n",
       "      <th>1</th>\n",
       "      <td>2024-08-18</td>\n",
       "      <td>j.bar7812@gmail.com</td>\n",
       "      <td>4</td>\n",
       "      <td>2025-02-20</td>\n",
       "      <td>6 mo trial</td>\n",
       "      <td>2.8333</td>\n",
       "      <td>Barufka, Jenna</td>\n",
       "      <td>Jenna</td>\n",
       "      <td>Barufka</td>\n",
       "      <td>7036551930</td>\n",
       "    </tr>\n",
       "    <tr>\n",
       "      <th>2</th>\n",
       "      <td>2024-08-25</td>\n",
       "      <td>courtneykang17@gmail.com</td>\n",
       "      <td>14</td>\n",
       "      <td>2025-02-21</td>\n",
       "      <td>6 mo trial</td>\n",
       "      <td>3.5714</td>\n",
       "      <td>Kang, Courtney</td>\n",
       "      <td>Courtney</td>\n",
       "      <td>Kang</td>\n",
       "      <td>6157754454</td>\n",
       "    </tr>\n",
       "    <tr>\n",
       "      <th>3</th>\n",
       "      <td>2024-09-01</td>\n",
       "      <td>jessicazhang227@gmail.com</td>\n",
       "      <td>33</td>\n",
       "      <td>2025-03-05</td>\n",
       "      <td>6 mo trial</td>\n",
       "      <td>5.2963</td>\n",
       "      <td>Zhang, Jess</td>\n",
       "      <td>Jess</td>\n",
       "      <td>Zhang</td>\n",
       "      <td>9095091068</td>\n",
       "    </tr>\n",
       "    <tr>\n",
       "      <th>4</th>\n",
       "      <td>2024-09-01</td>\n",
       "      <td>nataliebtroy@gmail.com</td>\n",
       "      <td>14</td>\n",
       "      <td>2025-03-02</td>\n",
       "      <td>6 mo trial</td>\n",
       "      <td>5.2963</td>\n",
       "      <td>Troy, Natalie</td>\n",
       "      <td>Natalie</td>\n",
       "      <td>Troy</td>\n",
       "      <td>9196192295</td>\n",
       "    </tr>\n",
       "  </tbody>\n",
       "</table>\n",
       "</div>"
      ],
      "text/plain": [
       "  FirstDayOfWeek                        email  trips trial_expiration  \\\n",
       "0     2024-08-11  ben@brooklynrestoration.com     30       2025-02-10   \n",
       "1     2024-08-18          j.bar7812@gmail.com      4       2025-02-20   \n",
       "2     2024-08-25     courtneykang17@gmail.com     14       2025-02-21   \n",
       "3     2024-09-01    jessicazhang227@gmail.com     33       2025-03-05   \n",
       "4     2024-09-01       nataliebtroy@gmail.com     14       2025-03-02   \n",
       "\n",
       "  orig_type_clean  cohort_avg     contact_name first_name last_name  \\\n",
       "0      6 mo trial      5.1250  Cohen, Benjamin   Benjamin     Cohen   \n",
       "1      6 mo trial      2.8333   Barufka, Jenna      Jenna   Barufka   \n",
       "2      6 mo trial      3.5714   Kang, Courtney   Courtney      Kang   \n",
       "3      6 mo trial      5.2963      Zhang, Jess       Jess     Zhang   \n",
       "4      6 mo trial      5.2963    Troy, Natalie    Natalie      Troy   \n",
       "\n",
       "        phone  \n",
       "0  9145120597  \n",
       "1  7036551930  \n",
       "2  6157754454  \n",
       "3  9095091068  \n",
       "4  9196192295  "
      ]
     },
     "execution_count": 14,
     "metadata": {},
     "output_type": "execute_result"
    }
   ],
   "source": [
    "df.head()"
   ]
  },
  {
   "cell_type": "code",
   "execution_count": 24,
   "metadata": {},
   "outputs": [],
   "source": [
    "#clean up some columns headers\n",
    "df.rename(columns = {'FirstDayOfWeek':'week_of_trial_start','orig_type_clean':'trial_type'},inplace = True)"
   ]
  },
  {
   "cell_type": "code",
   "execution_count": 25,
   "metadata": {},
   "outputs": [],
   "source": [
    "filepath = '/home/mofongo/Documents/ghfc/membershipReportsCIVI/trial_target_roster/'\n",
    "filename = 'trial_tgts_'+datetime.datetime.strftime(datetime.date.today(),format=\"%Y-%m-%d\")\n"
   ]
  },
  {
   "cell_type": "code",
   "execution_count": 26,
   "metadata": {},
   "outputs": [],
   "source": [
    "\n",
    "df.to_csv(filepath+filename+'.csv',index = False)"
   ]
  }
 ],
 "metadata": {
  "kernelspec": {
   "display_name": "py12",
   "language": "python",
   "name": "python3"
  },
  "language_info": {
   "codemirror_mode": {
    "name": "ipython",
    "version": 3
   },
   "file_extension": ".py",
   "mimetype": "text/x-python",
   "name": "python",
   "nbconvert_exporter": "python",
   "pygments_lexer": "ipython3",
   "version": "3.12.2"
  }
 },
 "nbformat": 4,
 "nbformat_minor": 2
}
