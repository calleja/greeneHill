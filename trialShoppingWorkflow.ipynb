{
 "cells": [
  {
   "cell_type": "markdown",
   "metadata": {},
   "source": [
    "Trial Targeting Workflow\n",
    "1) Import and replace DB versions of the shopping log and member contacts table( CIVI reports **\"Constituent Summary\"** and **\"Shopping Log - Activity Report\"**)\n",
    "2) run the trial_shopping .sql/stored procedure that selects for targets\n",
    "3) extract the result set that contains contact info and shopping stats\n",
    "\n",
    "Place raw CIVI report extracts into **/membershipReportsCIVI/membershipReportingLogicSampleReports/**\n",
    "NOTE: the stored procedure contains all the logic to calculate avg trips per cohort, and *currently* DOES NOT apply \"leave out current trial member\" when calculating avg trips "
   ]
  },
  {
   "cell_type": "code",
   "execution_count": 2,
   "metadata": {},
   "outputs": [],
   "source": [
    "# module contains some very basic pd. data frame processing\n",
    "import sqlalchemy\n",
    "import pandas as pd\n",
    "import datetime\n",
    "import sys\n",
    "import importlib"
   ]
  },
  {
   "cell_type": "code",
   "execution_count": 3,
   "metadata": {},
   "outputs": [
    {
     "data": {
      "text/plain": [
       "['/home/candela/Documents/greeneHill/membershipReportsCIVI/github/greeneHill',\n",
       " '/home/candela/anaconda3/envs/py_312/lib/python312.zip',\n",
       " '/home/candela/anaconda3/envs/py_312/lib/python3.12',\n",
       " '/home/candela/anaconda3/envs/py_312/lib/python3.12/lib-dynload',\n",
       " '',\n",
       " '/home/candela/anaconda3/envs/py_312/lib/python3.12/site-packages']"
      ]
     },
     "execution_count": 3,
     "metadata": {},
     "output_type": "execute_result"
    }
   ],
   "source": [
    "import sys\n",
    "sys.path"
   ]
  },
  {
   "cell_type": "code",
   "execution_count": 4,
   "metadata": {},
   "outputs": [],
   "source": [
    "import fileProcessing2\n",
    "importlib.reload(fileProcessing2)\n",
    "from fileProcessing2 import process_shoplog, process_contacts"
   ]
  },
  {
   "cell_type": "code",
   "execution_count": 5,
   "metadata": {},
   "outputs": [],
   "source": [
    "shop = process_shoplog('/home/candela/Documents/greeneHill/membershipReportsCIVI/member_shopping/civi_member_shopping/memberShopping_20240722.csv')\n",
    "contacts = process_contacts('/home/candela/Documents/greeneHill/membershipReportsCIVI/membershipReportingLogicSampleReports/constituentSummaryReport_20240722.csv')"
   ]
  },
  {
   "cell_type": "code",
   "execution_count": 6,
   "metadata": {},
   "outputs": [
    {
     "name": "stdout",
     "output_type": "stream",
     "text": [
      "Connection to the 172.17.0.2 for user root created successfully.\n"
     ]
    }
   ],
   "source": [
    "# DEFINE THE DATABASE CREDENTIALS\n",
    "user = 'root'\n",
    "password = 'baeldung'\n",
    "host = '172.17.0.2'\n",
    "port = 3306\n",
    "database = 'membership'\n",
    "\n",
    "def get_connection():\n",
    "\treturn sqlalchemy.create_engine(\n",
    "\t\turl=\"mysql+pymysql://{0}:{1}@{2}:{3}/{4}\".format(\n",
    "\t\t\tuser, password, host, port, database\n",
    "\t\t)\n",
    "\t)\n",
    "\n",
    "if __name__ == '__main__':\n",
    "\n",
    "\ttry:\n",
    "\t\n",
    "\t\t# GET THE CONNECTION OBJECT (ENGINE) FOR THE DATABASE\n",
    "\t\tengine = get_connection()\n",
    "\t\tprint(\n",
    "\t\t\tf\"Connection to the {host} for user {user} created successfully.\")\n",
    "\texcept Exception as ex:\n",
    "\t\tprint(\"Connection could not be made due to the following error: \\n\", ex)\n"
   ]
  },
  {
   "cell_type": "code",
   "execution_count": 7,
   "metadata": {},
   "outputs": [],
   "source": [
    "#db injection\n",
    "with engine.connect() as conn:\n",
    "    shop.loc[:,['Target_Name', 'Target_Email', 'Activity_Type', 'Subject', 'Activity_Date','ingest_date']].to_sql('shop_log', \n",
    "    con=engine, if_exists='replace', index=False)\n",
    "\n",
    "    contacts.to_sql('member_directory2', con=engine, if_exists='replace', index=False)"
   ]
  },
  {
   "cell_type": "markdown",
   "metadata": {},
   "source": [
    "Call the stored procedure. Ultimately creates a temporary table **trial_tgts** with the period's target individuals"
   ]
  },
  {
   "cell_type": "code",
   "execution_count": 8,
   "metadata": {},
   "outputs": [],
   "source": [
    "from sqlalchemy import text\n",
    "#a Core approach (because I'm interacting explicitly w/the engine as opposed to abstracted objects), where I write explicit SQL code\n",
    "#copied code from https://docs.sqlalchemy.org/en/20/core/connections.html\n",
    "connection = engine.raw_connection()\n",
    "try:\n",
    "    cursor_obj = connection.cursor()\n",
    "    cursor_obj.callproc(\"trial_targets\") #./stored_procedure_trial_shopping.sql\n",
    "    cursor_obj.close()\n",
    "    connection.commit()\n",
    "finally:\n",
    "        connection.close()\n"
   ]
  },
  {
   "cell_type": "code",
   "execution_count": 9,
   "metadata": {},
   "outputs": [],
   "source": [
    "sql = \"SELECT * FROM trial_tgts\"\n",
    "df = pd.read_sql(sql, con=engine)"
   ]
  },
  {
   "cell_type": "code",
   "execution_count": 10,
   "metadata": {},
   "outputs": [
    {
     "data": {
      "text/plain": [
       "(28, 10)"
      ]
     },
     "execution_count": 10,
     "metadata": {},
     "output_type": "execute_result"
    }
   ],
   "source": [
    "df.shape"
   ]
  },
  {
   "cell_type": "code",
   "execution_count": 11,
   "metadata": {},
   "outputs": [
    {
     "name": "stdout",
     "output_type": "stream",
     "text": [
      "<class 'pandas.core.frame.DataFrame'>\n",
      "RangeIndex: 28 entries, 0 to 27\n",
      "Data columns (total 10 columns):\n",
      " #   Column            Non-Null Count  Dtype  \n",
      "---  ------            --------------  -----  \n",
      " 0   FirstDayOfWeek    28 non-null     object \n",
      " 1   email             28 non-null     object \n",
      " 2   trips             28 non-null     int64  \n",
      " 3   trial_expiration  28 non-null     object \n",
      " 4   orig_type_clean   28 non-null     object \n",
      " 5   cohort_avg        28 non-null     float64\n",
      " 6   contact_name      28 non-null     object \n",
      " 7   first_name        28 non-null     object \n",
      " 8   last_name         28 non-null     object \n",
      " 9   phone             28 non-null     object \n",
      "dtypes: float64(1), int64(1), object(8)\n",
      "memory usage: 2.3+ KB\n"
     ]
    }
   ],
   "source": [
    "df.info()"
   ]
  },
  {
   "cell_type": "code",
   "execution_count": 12,
   "metadata": {},
   "outputs": [
    {
     "data": {
      "text/html": [
       "<div>\n",
       "<style scoped>\n",
       "    .dataframe tbody tr th:only-of-type {\n",
       "        vertical-align: middle;\n",
       "    }\n",
       "\n",
       "    .dataframe tbody tr th {\n",
       "        vertical-align: top;\n",
       "    }\n",
       "\n",
       "    .dataframe thead th {\n",
       "        text-align: right;\n",
       "    }\n",
       "</style>\n",
       "<table border=\"1\" class=\"dataframe\">\n",
       "  <thead>\n",
       "    <tr style=\"text-align: right;\">\n",
       "      <th></th>\n",
       "      <th>FirstDayOfWeek</th>\n",
       "      <th>email</th>\n",
       "      <th>trips</th>\n",
       "      <th>trial_expiration</th>\n",
       "      <th>orig_type_clean</th>\n",
       "      <th>cohort_avg</th>\n",
       "      <th>contact_name</th>\n",
       "      <th>first_name</th>\n",
       "      <th>last_name</th>\n",
       "      <th>phone</th>\n",
       "    </tr>\n",
       "  </thead>\n",
       "  <tbody>\n",
       "    <tr>\n",
       "      <th>0</th>\n",
       "      <td>2024-01-14</td>\n",
       "      <td>sworleyj@gmail.com</td>\n",
       "      <td>14</td>\n",
       "      <td>2024-07-15</td>\n",
       "      <td>6 mo trial</td>\n",
       "      <td>2.7273</td>\n",
       "      <td>Worley, Spencer</td>\n",
       "      <td>Spencer</td>\n",
       "      <td>Worley</td>\n",
       "      <td>3368130546</td>\n",
       "    </tr>\n",
       "    <tr>\n",
       "      <th>1</th>\n",
       "      <td>2024-01-21</td>\n",
       "      <td>jaywhysel@gmail.com</td>\n",
       "      <td>16</td>\n",
       "      <td>2024-07-19</td>\n",
       "      <td>6 mo trial</td>\n",
       "      <td>3.2857</td>\n",
       "      <td>Whysel, Josephine</td>\n",
       "      <td>Josephine</td>\n",
       "      <td>Whysel</td>\n",
       "      <td>16469426917</td>\n",
       "    </tr>\n",
       "    <tr>\n",
       "      <th>2</th>\n",
       "      <td>2024-01-28</td>\n",
       "      <td>stephanie.reda2@gmail.com</td>\n",
       "      <td>8</td>\n",
       "      <td>2024-07-26</td>\n",
       "      <td>6 mo trial</td>\n",
       "      <td>5.6667</td>\n",
       "      <td>Reda, Stephanie</td>\n",
       "      <td>Stephanie</td>\n",
       "      <td>Reda</td>\n",
       "      <td>9142752618</td>\n",
       "    </tr>\n",
       "    <tr>\n",
       "      <th>3</th>\n",
       "      <td>2024-01-28</td>\n",
       "      <td>gpiedmonte@gmail.com</td>\n",
       "      <td>19</td>\n",
       "      <td>2024-08-01</td>\n",
       "      <td>6 mo trial</td>\n",
       "      <td>5.6667</td>\n",
       "      <td>Piedmonte, Gabrielle</td>\n",
       "      <td>Gabrielle</td>\n",
       "      <td>Piedmonte</td>\n",
       "      <td>646.345.6235</td>\n",
       "    </tr>\n",
       "    <tr>\n",
       "      <th>4</th>\n",
       "      <td>2024-01-28</td>\n",
       "      <td>natgable@gmail.com</td>\n",
       "      <td>14</td>\n",
       "      <td>2024-07-30</td>\n",
       "      <td>6 mo trial</td>\n",
       "      <td>5.6667</td>\n",
       "      <td>Gable, Natalie</td>\n",
       "      <td>Natalie</td>\n",
       "      <td>Gable</td>\n",
       "      <td>4155316497</td>\n",
       "    </tr>\n",
       "  </tbody>\n",
       "</table>\n",
       "</div>"
      ],
      "text/plain": [
       "  FirstDayOfWeek                      email  trips trial_expiration  \\\n",
       "0     2024-01-14         sworleyj@gmail.com     14       2024-07-15   \n",
       "1     2024-01-21        jaywhysel@gmail.com     16       2024-07-19   \n",
       "2     2024-01-28  stephanie.reda2@gmail.com      8       2024-07-26   \n",
       "3     2024-01-28       gpiedmonte@gmail.com     19       2024-08-01   \n",
       "4     2024-01-28         natgable@gmail.com     14       2024-07-30   \n",
       "\n",
       "  orig_type_clean  cohort_avg          contact_name first_name  last_name  \\\n",
       "0      6 mo trial      2.7273       Worley, Spencer    Spencer     Worley   \n",
       "1      6 mo trial      3.2857     Whysel, Josephine  Josephine     Whysel   \n",
       "2      6 mo trial      5.6667       Reda, Stephanie  Stephanie       Reda   \n",
       "3      6 mo trial      5.6667  Piedmonte, Gabrielle  Gabrielle  Piedmonte   \n",
       "4      6 mo trial      5.6667        Gable, Natalie    Natalie      Gable   \n",
       "\n",
       "          phone  \n",
       "0    3368130546  \n",
       "1   16469426917  \n",
       "2    9142752618  \n",
       "3  646.345.6235  \n",
       "4    4155316497  "
      ]
     },
     "execution_count": 12,
     "metadata": {},
     "output_type": "execute_result"
    }
   ],
   "source": [
    "df.head()"
   ]
  },
  {
   "cell_type": "code",
   "execution_count": 13,
   "metadata": {},
   "outputs": [],
   "source": [
    "#clean up some columns headers\n",
    "df.rename(columns = {'FirstDayOfWeek':'week_of_trial_start','orig_type_clean':'trial_type'},inplace = True)"
   ]
  },
  {
   "cell_type": "code",
   "execution_count": 14,
   "metadata": {},
   "outputs": [],
   "source": [
    "filepath = '/home/candela/Documents/greeneHill/membershipReportsCIVI/trial_target_roster/'\n",
    "filename = 'trial_tgts_'+datetime.datetime.strftime(datetime.date.today(),format=\"%Y-%m-%d\")\n"
   ]
  },
  {
   "cell_type": "code",
   "execution_count": 15,
   "metadata": {},
   "outputs": [],
   "source": [
    "\n",
    "df.to_csv(filepath+filename+'.csv',index = False)"
   ]
  }
 ],
 "metadata": {
  "kernelspec": {
   "display_name": "py_312",
   "language": "python",
   "name": "python3"
  },
  "language_info": {
   "codemirror_mode": {
    "name": "ipython",
    "version": 3
   },
   "file_extension": ".py",
   "mimetype": "text/x-python",
   "name": "python",
   "nbconvert_exporter": "python",
   "pygments_lexer": "ipython3",
   "version": "3.12.2"
  }
 },
 "nbformat": 4,
 "nbformat_minor": 2
}
