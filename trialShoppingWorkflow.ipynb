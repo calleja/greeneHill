{
 "cells": [
  {
   "cell_type": "markdown",
   "metadata": {},
   "source": [
    "Trial Targeting Workflow\n",
    "1) Import and replace DB versions of the shopping log and member contacts table (CIVI reports **\"Constituent Summary\"** and **\"Shopping Log - Activity Report\"**; correspondignly **ingestMemberContactInfo.ipynb** and **ingestMemberShopping.ipynb**)\n",
    "2) run the trial_shopping .sql/stored procedure that selects for targets\n",
    "3) extract the result set that contains contact info and shopping stats\n",
    "\n",
    "Place raw CIVI report extracts into **/membershipReportsCIVI/membershipReportingLogicSampleReports/**\n",
    "NOTE: the stored procedure contains all the logic to calculate avg trips per cohort, and *currently* DOES NOT apply \"leave out current trial member\" when calculating avg trips "
   ]
  },
  {
   "cell_type": "code",
   "execution_count": 1,
   "metadata": {},
   "outputs": [],
   "source": [
    "# module contains some very basic pd. data frame processing\n",
    "import sqlalchemy\n",
    "import pandas as pd\n",
    "import datetime\n",
    "import sys\n",
    "import importlib\n",
    "from container_credentials import return_credentials"
   ]
  },
  {
   "cell_type": "code",
   "execution_count": 2,
   "metadata": {},
   "outputs": [
    {
     "data": {
      "text/plain": [
       "['/home/mofongo/Documents/ghfc/membershipReportsCIVI/greeneHill',\n",
       " '/home/mofongo/anaconda3/envs/py12/lib/python312.zip',\n",
       " '/home/mofongo/anaconda3/envs/py12/lib/python3.12',\n",
       " '/home/mofongo/anaconda3/envs/py12/lib/python3.12/lib-dynload',\n",
       " '',\n",
       " '/home/mofongo/anaconda3/envs/py12/lib/python3.12/site-packages',\n",
       " '/home/mofongo/anaconda3/envs/py12/lib/python3.12/site-packages/setuptools/_vendor']"
      ]
     },
     "execution_count": 2,
     "metadata": {},
     "output_type": "execute_result"
    }
   ],
   "source": [
    "import sys\n",
    "sys.path"
   ]
  },
  {
   "cell_type": "code",
   "execution_count": 2,
   "metadata": {},
   "outputs": [],
   "source": [
    "import fileProcessing2\n",
    "importlib.reload(fileProcessing2)\n",
    "from fileProcessing2 import process_shoplog, process_contacts"
   ]
  },
  {
   "cell_type": "code",
   "execution_count": 9,
   "metadata": {},
   "outputs": [],
   "source": [
    "shop = process_shoplog('/home/mofongo/Documents/ghfc/membershipReportsCIVI/membershipReportingLogicSampleReports/shoppingLogReport_20241203.csv')\n",
    "contacts = process_contacts('/home/mofongo/Documents/ghfc/membershipReportsCIVI/membershipReportingLogicSampleReports/constituentSummaryReport_20250105.csv')"
   ]
  },
  {
   "cell_type": "code",
   "execution_count": 16,
   "metadata": {},
   "outputs": [
    {
     "name": "stdout",
     "output_type": "stream",
     "text": [
      "ok to proceed as the dataframe conlumns are as expected\n"
     ]
    }
   ],
   "source": [
    "#ensure the dataframes for shop and contacts are appropriate\n",
    "contacts_qa = all([i in contacts.columns for i in ['contact_name', 'first_name', 'last_name', 'phone']])\n",
    "shop_qa = all([i in shop.columns for i in ['Target_Email']])\n",
    "\n",
    "if all([contacts_qa,shop_qa]):\n",
    "    print(\"ok to proceed as the dataframe conlumns are as expected\")\n",
    "else:\n",
    "    print(\"check the dataframe imports as the columns don't conform to the expected\")"
   ]
  },
  {
   "cell_type": "code",
   "execution_count": 17,
   "metadata": {},
   "outputs": [
    {
     "name": "stdout",
     "output_type": "stream",
     "text": [
      "Connection to the 172.17.0.2 for user root created successfully.\n"
     ]
    }
   ],
   "source": [
    "# DEFINE THE DATABASE CREDENTIALS\n",
    "cred_dict = return_credentials()\n",
    "\n",
    "user = cred_dict['user'] \n",
    "password = cred_dict['pass'] \n",
    "host = cred_dict['host'] \n",
    "port = cred_dict['port'] \n",
    "database = cred_dict['database']\n",
    "\n",
    "def get_connection():\n",
    "\treturn sqlalchemy.create_engine(\n",
    "\t\turl=\"mysql+pymysql://{0}:{1}@{2}:{3}/{4}\".format(\n",
    "\t\t\tuser, password, host, port, database\n",
    "\t\t)\n",
    "\t)\n",
    "\n",
    "if __name__ == '__main__':\n",
    "\n",
    "\ttry:\n",
    "\t\n",
    "\t\t# GET THE CONNECTION OBJECT (ENGINE) FOR THE DATABASE\n",
    "\t\tengine = get_connection()\n",
    "\t\tprint(\n",
    "\t\t\tf\"Connection to the {host} for user {user} created successfully.\")\n",
    "\texcept Exception as ex:\n",
    "\t\tprint(\"Connection could not be made due to the following error: \\n\", ex)\n"
   ]
  },
  {
   "cell_type": "code",
   "execution_count": 18,
   "metadata": {},
   "outputs": [],
   "source": [
    "#db injection: DO NOT change these table names as these are hard-coded in the trial_shopping stored procedure\n",
    "with engine.connect() as conn:\n",
    "    shop.loc[:,['Target_Name', 'Target_Email', 'Activity_Type', 'Subject', 'Activity_Date','ingest_date']].to_sql('shop_log', \n",
    "    con=engine, if_exists='replace', index=False)\n",
    "\n",
    "    contacts.to_sql('member_directory2', con=engine, if_exists='replace', index=False)"
   ]
  },
  {
   "cell_type": "markdown",
   "metadata": {},
   "source": [
    "Call the stored procedure. Ultimately creates a temporary table **trial_tgts** with the period's target individuals"
   ]
  },
  {
   "cell_type": "code",
   "execution_count": 19,
   "metadata": {},
   "outputs": [
    {
     "name": "stdout",
     "output_type": "stream",
     "text": [
      "ok to proceed, the stored procedure is located in the db server\n"
     ]
    }
   ],
   "source": [
    "with engine.connect() as conn:\n",
    "    result = conn.execute(sqlalchemy.text(\"show procedure status where definer LIKE '%root%'\"))\n",
    "    lista = [i[1] for i in result.all()]\n",
    "\n",
    "if 'trial_targets' in lista:\n",
    "    print('ok to proceed, the stored procedure is located in the db server')\n",
    "else: \n",
    "    raise ValueError('stored procedure trial_targets not found in DB')"
   ]
  },
  {
   "cell_type": "code",
   "execution_count": 20,
   "metadata": {},
   "outputs": [],
   "source": [
    "from sqlalchemy import text\n",
    "#a Core approach (because I'm interacting explicitly w/the engine as opposed to abstracted objects), where I write explicit SQL code\n",
    "#copied code from https://docs.sqlalchemy.org/en/20/core/connections.html\n",
    "connection = engine.raw_connection()\n",
    "try:\n",
    "    cursor_obj = connection.cursor()\n",
    "    cursor_obj.callproc(\"trial_targets\") #./stored_procedure_trial_shopping.sql\n",
    "    cursor_obj.close()\n",
    "    connection.commit()\n",
    "finally:\n",
    "        connection.close()\n"
   ]
  },
  {
   "cell_type": "code",
   "execution_count": 21,
   "metadata": {},
   "outputs": [],
   "source": [
    "sql = \"SELECT * FROM trial_tgts\"\n",
    "df = pd.read_sql(sql, con=engine)"
   ]
  },
  {
   "cell_type": "code",
   "execution_count": 22,
   "metadata": {},
   "outputs": [
    {
     "data": {
      "text/plain": [
       "(23, 10)"
      ]
     },
     "execution_count": 22,
     "metadata": {},
     "output_type": "execute_result"
    }
   ],
   "source": [
    "df.shape"
   ]
  },
  {
   "cell_type": "code",
   "execution_count": 23,
   "metadata": {},
   "outputs": [
    {
     "name": "stdout",
     "output_type": "stream",
     "text": [
      "<class 'pandas.core.frame.DataFrame'>\n",
      "RangeIndex: 23 entries, 0 to 22\n",
      "Data columns (total 10 columns):\n",
      " #   Column            Non-Null Count  Dtype  \n",
      "---  ------            --------------  -----  \n",
      " 0   FirstDayOfWeek    23 non-null     object \n",
      " 1   email             23 non-null     object \n",
      " 2   trips             23 non-null     int64  \n",
      " 3   trial_expiration  23 non-null     object \n",
      " 4   orig_type_clean   23 non-null     object \n",
      " 5   cohort_avg        23 non-null     float64\n",
      " 6   contact_name      23 non-null     object \n",
      " 7   first_name        23 non-null     object \n",
      " 8   last_name         23 non-null     object \n",
      " 9   phone             23 non-null     object \n",
      "dtypes: float64(1), int64(1), object(8)\n",
      "memory usage: 1.9+ KB\n"
     ]
    }
   ],
   "source": [
    "df.info()"
   ]
  },
  {
   "cell_type": "code",
   "execution_count": 24,
   "metadata": {},
   "outputs": [
    {
     "data": {
      "text/html": [
       "<div>\n",
       "<style scoped>\n",
       "    .dataframe tbody tr th:only-of-type {\n",
       "        vertical-align: middle;\n",
       "    }\n",
       "\n",
       "    .dataframe tbody tr th {\n",
       "        vertical-align: top;\n",
       "    }\n",
       "\n",
       "    .dataframe thead th {\n",
       "        text-align: right;\n",
       "    }\n",
       "</style>\n",
       "<table border=\"1\" class=\"dataframe\">\n",
       "  <thead>\n",
       "    <tr style=\"text-align: right;\">\n",
       "      <th></th>\n",
       "      <th>FirstDayOfWeek</th>\n",
       "      <th>email</th>\n",
       "      <th>trips</th>\n",
       "      <th>trial_expiration</th>\n",
       "      <th>orig_type_clean</th>\n",
       "      <th>cohort_avg</th>\n",
       "      <th>contact_name</th>\n",
       "      <th>first_name</th>\n",
       "      <th>last_name</th>\n",
       "      <th>phone</th>\n",
       "    </tr>\n",
       "  </thead>\n",
       "  <tbody>\n",
       "    <tr>\n",
       "      <th>0</th>\n",
       "      <td>2024-06-09</td>\n",
       "      <td>cecarey17@gmail.com</td>\n",
       "      <td>11</td>\n",
       "      <td>2024-12-12</td>\n",
       "      <td>6 mo trial</td>\n",
       "      <td>8.4667</td>\n",
       "      <td>Carey, Catherine</td>\n",
       "      <td>Catherine</td>\n",
       "      <td>Carey</td>\n",
       "      <td>2068329092</td>\n",
       "    </tr>\n",
       "    <tr>\n",
       "      <th>1</th>\n",
       "      <td>2024-06-16</td>\n",
       "      <td>strangefuturesawait@gmail.com</td>\n",
       "      <td>22</td>\n",
       "      <td>2024-12-17</td>\n",
       "      <td>6 mo trial</td>\n",
       "      <td>3.2143</td>\n",
       "      <td>Kies, Lili</td>\n",
       "      <td>Lili</td>\n",
       "      <td>Kies</td>\n",
       "      <td>3233630588</td>\n",
       "    </tr>\n",
       "    <tr>\n",
       "      <th>2</th>\n",
       "      <td>2024-06-30</td>\n",
       "      <td>tanya.marquardt@gmail.com</td>\n",
       "      <td>9</td>\n",
       "      <td>2025-01-01</td>\n",
       "      <td>6 mo trial</td>\n",
       "      <td>5.0000</td>\n",
       "      <td>Marquardt, Tamás</td>\n",
       "      <td>Tamás</td>\n",
       "      <td>Marquardt</td>\n",
       "      <td>9172804393</td>\n",
       "    </tr>\n",
       "    <tr>\n",
       "      <th>3</th>\n",
       "      <td>2024-09-29</td>\n",
       "      <td>sarahnoelmanney@gmail.com</td>\n",
       "      <td>7</td>\n",
       "      <td>2024-12-03</td>\n",
       "      <td>2 mo trial</td>\n",
       "      <td>4.2222</td>\n",
       "      <td>Manney, Sarah</td>\n",
       "      <td>Sarah</td>\n",
       "      <td>Manney</td>\n",
       "      <td>6504336755</td>\n",
       "    </tr>\n",
       "    <tr>\n",
       "      <th>4</th>\n",
       "      <td>2024-10-06</td>\n",
       "      <td>zucchinali.sara1990@gmail.com</td>\n",
       "      <td>12</td>\n",
       "      <td>2024-12-09</td>\n",
       "      <td>2 mo trial</td>\n",
       "      <td>3.0000</td>\n",
       "      <td>Zucchinali, Sara</td>\n",
       "      <td>Sara</td>\n",
       "      <td>Zucchinali</td>\n",
       "      <td>9292173648</td>\n",
       "    </tr>\n",
       "  </tbody>\n",
       "</table>\n",
       "</div>"
      ],
      "text/plain": [
       "  FirstDayOfWeek                          email  trips trial_expiration  \\\n",
       "0     2024-06-09            cecarey17@gmail.com     11       2024-12-12   \n",
       "1     2024-06-16  strangefuturesawait@gmail.com     22       2024-12-17   \n",
       "2     2024-06-30      tanya.marquardt@gmail.com      9       2025-01-01   \n",
       "3     2024-09-29      sarahnoelmanney@gmail.com      7       2024-12-03   \n",
       "4     2024-10-06  zucchinali.sara1990@gmail.com     12       2024-12-09   \n",
       "\n",
       "  orig_type_clean  cohort_avg      contact_name first_name   last_name  \\\n",
       "0      6 mo trial      8.4667  Carey, Catherine  Catherine       Carey   \n",
       "1      6 mo trial      3.2143        Kies, Lili       Lili        Kies   \n",
       "2      6 mo trial      5.0000  Marquardt, Tamás      Tamás   Marquardt   \n",
       "3      2 mo trial      4.2222     Manney, Sarah      Sarah      Manney   \n",
       "4      2 mo trial      3.0000  Zucchinali, Sara       Sara  Zucchinali   \n",
       "\n",
       "        phone  \n",
       "0  2068329092  \n",
       "1  3233630588  \n",
       "2  9172804393  \n",
       "3  6504336755  \n",
       "4  9292173648  "
      ]
     },
     "execution_count": 24,
     "metadata": {},
     "output_type": "execute_result"
    }
   ],
   "source": [
    "df.head()"
   ]
  },
  {
   "cell_type": "code",
   "execution_count": 25,
   "metadata": {},
   "outputs": [],
   "source": [
    "#clean up some columns headers\n",
    "df.rename(columns = {'FirstDayOfWeek':'week_of_trial_start','orig_type_clean':'trial_type'},inplace = True)"
   ]
  },
  {
   "cell_type": "code",
   "execution_count": 26,
   "metadata": {},
   "outputs": [],
   "source": [
    "filepath = '/home/mofongo/Documents/ghfc/membershipReportsCIVI/trial_target_roster/'\n",
    "filename = 'trial_tgts_'+datetime.datetime.strftime(datetime.date.today(),format=\"%Y-%m-%d\")\n"
   ]
  },
  {
   "cell_type": "code",
   "execution_count": 27,
   "metadata": {},
   "outputs": [],
   "source": [
    "\n",
    "df.to_csv(filepath+filename+'.csv',index = False)"
   ]
  }
 ],
 "metadata": {
  "kernelspec": {
   "display_name": "py12",
   "language": "python",
   "name": "python3"
  },
  "language_info": {
   "codemirror_mode": {
    "name": "ipython",
    "version": 3
   },
   "file_extension": ".py",
   "mimetype": "text/x-python",
   "name": "python",
   "nbconvert_exporter": "python",
   "pygments_lexer": "ipython3",
   "version": "3.12.2"
  }
 },
 "nbformat": 4,
 "nbformat_minor": 2
}
